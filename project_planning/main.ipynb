{
 "cells": [
  {
   "cell_type": "code",
   "execution_count": null,
   "id": "93dffb87",
   "metadata": {},
   "outputs": [],
   "source": [
    "%pip install crewai\n",
    "%pip install pandas"
   ]
  },
  {
   "cell_type": "code",
   "execution_count": 44,
   "id": "3a77e3c8",
   "metadata": {},
   "outputs": [
    {
     "name": "stdout",
     "output_type": "stream",
     "text": [
      "hello\n"
     ]
    }
   ],
   "source": [
    "print(\"hello\")"
   ]
  },
  {
   "cell_type": "code",
   "execution_count": 45,
   "id": "3b8495a9",
   "metadata": {},
   "outputs": [],
   "source": [
    "from crewai import Agent, Crew , Task, LLM\n",
    "import os\n",
    "import yaml"
   ]
  },
  {
   "cell_type": "code",
   "execution_count": 92,
   "id": "c061a981",
   "metadata": {},
   "outputs": [
    {
     "name": "stdout",
     "output_type": "stream",
     "text": [
      "API key loaded: gsk_lkc1 ********\n"
     ]
    }
   ],
   "source": [
    "import os\n",
    "from dotenv import load_dotenv\n",
    "\n",
    "load_dotenv(dotenv_path=\"../.env\", override=True)\n",
    "\n",
    "api_key = os.getenv(\"GROQ_API_KEY\")\n",
    "os.environ[\"GROQ_API_KEY\"] = api_key  # This may be optional, depending on your code\n",
    "print(\"API key loaded:\", api_key[:8], \"********\")\n",
    "\n",
    "llm = LLM(model='groq/gemma2-9b-it')\n",
    "\n"
   ]
  },
  {
   "cell_type": "code",
   "execution_count": 93,
   "id": "6221d789",
   "metadata": {},
   "outputs": [
    {
     "name": "stdout",
     "output_type": "stream",
     "text": [
      "agents\n",
      "tasks\n"
     ]
    }
   ],
   "source": [
    "files = {\n",
    "    'agents': 'config/agents.yaml',\n",
    "    'tasks': 'config/tasks.yaml'\n",
    "}\n",
    "\n",
    "configs ={}\n",
    "for config_type, file_path in files.items():\n",
    "    with open(file_path, 'r') as file:\n",
    "        configs[config_type] = yaml.safe_load(file)\n",
    "        print(config_type)\n",
    "agents_config = configs['agents']\n",
    "task_config = configs['tasks']"
   ]
  },
  {
   "cell_type": "code",
   "execution_count": null,
   "id": "3c622c9f",
   "metadata": {},
   "outputs": [],
   "source": []
  },
  {
   "cell_type": "code",
   "execution_count": 94,
   "id": "3c587097",
   "metadata": {},
   "outputs": [],
   "source": [
    "from typing import List\n",
    "from pydantic import BaseModel, Field\n",
    "\n",
    "class TaskEstimate(BaseModel):\n",
    "    task_name: str = Field(..., description=\"Name of the task\")\n",
    "    estimated_time_hours: float = Field(..., description=\"Estimated time to complete the task in hours\")\n",
    "    required_resources: List[str] = Field(..., description=\"List of resources required to complete the task\")\n",
    "\n",
    "class Milestone(BaseModel):\n",
    "    milestone_name: str = Field(..., description=\"Name of the milestone\")\n",
    "    tasks: List[str] = Field(..., description=\"List of task IDs associated with this milestone\")\n",
    "\n",
    "class ProjectPlan(BaseModel):\n",
    "    tasks: List[TaskEstimate] = Field(..., description=\"List of tasks with their estimates\")\n",
    "    milestones: List[Milestone] = Field(..., description=\"List of project milestones\") "
   ]
  },
  {
   "cell_type": "code",
   "execution_count": 95,
   "id": "6ebf1018",
   "metadata": {},
   "outputs": [],
   "source": [
    "# Creating Agents\n",
    "project_planning_agent = Agent(\n",
    "  config=agents_config['project_planning_agent'],\n",
    "  llm=llm\n",
    ")\n",
    "\n",
    "estimation_agent = Agent(\n",
    "  config=agents_config['estimation_agent'],\n",
    "  llm=llm\n",
    ")\n",
    "\n",
    "resource_allocation_agent = Agent(\n",
    "  config=agents_config['resource_allocation_agent'],\n",
    "  llm=llm\n",
    ")\n",
    "\n",
    "# Creating Tasks\n",
    "task_breakdown = Task(\n",
    "  config=task_config['task_breakdown'],\n",
    "  agent=project_planning_agent\n",
    ")\n",
    "\n",
    "time_resource_estimation = Task(\n",
    "  config=task_config['time_resource_estimation'],\n",
    "  agent=estimation_agent\n",
    ")\n",
    "\n",
    "resource_allocation = Task(\n",
    "  config=task_config['resource_allocation'],\n",
    "  agent=resource_allocation_agent,\n",
    "  output_pydantic=ProjectPlan # This is the structured output we want\n",
    ")\n",
    "\n",
    "# Creating Crew\n",
    "crew = Crew(\n",
    "  agents=[\n",
    "    project_planning_agent,\n",
    "    estimation_agent,\n",
    "    resource_allocation_agent\n",
    "  ],\n",
    "  tasks=[\n",
    "    task_breakdown,\n",
    "    time_resource_estimation,\n",
    "    resource_allocation\n",
    "  ],\n",
    "  verbose=True\n",
    ")"
   ]
  },
  {
   "cell_type": "code",
   "execution_count": 96,
   "id": "00414eed",
   "metadata": {},
   "outputs": [
    {
     "data": {
      "text/markdown": [
       "\n",
       "**Project Type:** Website\n",
       "\n",
       "**Project Objectives:** Create a website for a small business\n",
       "\n",
       "**Industry:** Technology\n",
       "\n",
       "**Team Members:**\n",
       "\n",
       "- John Doe (Project Manager)\n",
       "- Jane Doe (Software Engineer)\n",
       "- Bob Smith (Designer)\n",
       "- Alice Johnson (QA Engineer)\n",
       "- Tom Brown (QA Engineer)\n",
       "\n",
       "**Project Requirements:**\n",
       "\n",
       "- Create a responsive design that works well on desktop and mobile devices\n",
       "- Implement a modern, visually appealing user interface with a clean look\n",
       "- Develop a user-friendly navigation system with intuitive menu structure\n",
       "- Include an \"About Us\" page highlighting the company's history and values\n",
       "- Design a \"Services\" page showcasing the business's offerings with descriptions\n",
       "- Create a \"Contact Us\" page with a form and integrated map for communication\n",
       "- Implement a blog section for sharing industry news and company updates\n",
       "- Ensure fast loading times and optimize for search engines (SEO)\n",
       "- Integrate social media links and sharing capabilities\n",
       "- Include a testimonials section to showcase customer feedback and build trust\n",
       "\n"
      ],
      "text/plain": [
       "<IPython.core.display.Markdown object>"
      ]
     },
     "metadata": {},
     "output_type": "display_data"
    }
   ],
   "source": [
    "from IPython.display import display, Markdown\n",
    "\n",
    "project = 'Website'\n",
    "industry = 'Technology'\n",
    "project_objectives = 'Create a website for a small business'\n",
    "team_members = \"\"\"\n",
    "- John Doe (Project Manager)\n",
    "- Jane Doe (Software Engineer)\n",
    "- Bob Smith (Designer)\n",
    "- Alice Johnson (QA Engineer)\n",
    "- Tom Brown (QA Engineer)\n",
    "\"\"\"\n",
    "project_requirements = \"\"\"\n",
    "- Create a responsive design that works well on desktop and mobile devices\n",
    "- Implement a modern, visually appealing user interface with a clean look\n",
    "- Develop a user-friendly navigation system with intuitive menu structure\n",
    "- Include an \"About Us\" page highlighting the company's history and values\n",
    "- Design a \"Services\" page showcasing the business's offerings with descriptions\n",
    "- Create a \"Contact Us\" page with a form and integrated map for communication\n",
    "- Implement a blog section for sharing industry news and company updates\n",
    "- Ensure fast loading times and optimize for search engines (SEO)\n",
    "- Integrate social media links and sharing capabilities\n",
    "- Include a testimonials section to showcase customer feedback and build trust\n",
    "\"\"\"\n",
    "\n",
    "# Format the dictionary as Markdown for a better display in Jupyter Lab\n",
    "formatted_output = f\"\"\"\n",
    "**Project Type:** {project}\n",
    "\n",
    "**Project Objectives:** {project_objectives}\n",
    "\n",
    "**Industry:** {industry}\n",
    "\n",
    "**Team Members:**\n",
    "{team_members}\n",
    "**Project Requirements:**\n",
    "{project_requirements}\n",
    "\"\"\"\n",
    "# Display the formatted output as Markdown\n",
    "display(Markdown(formatted_output))"
   ]
  },
  {
   "cell_type": "code",
   "execution_count": 97,
   "id": "134654de",
   "metadata": {},
   "outputs": [
    {
     "data": {
      "text/html": [
       "<pre style=\"white-space:pre;overflow-x:auto;line-height:normal;font-family:Menlo,'DejaVu Sans Mono',consolas,'Courier New',monospace\"><span style=\"color: #008080; text-decoration-color: #008080\">╭──────────────────────────────────────────── Crew Execution Started ─────────────────────────────────────────────╮</span>\n",
       "<span style=\"color: #008080; text-decoration-color: #008080\">│</span>                                                                                                                 <span style=\"color: #008080; text-decoration-color: #008080\">│</span>\n",
       "<span style=\"color: #008080; text-decoration-color: #008080\">│</span>  <span style=\"color: #008080; text-decoration-color: #008080; font-weight: bold\">Crew Execution Started</span>                                                                                         <span style=\"color: #008080; text-decoration-color: #008080\">│</span>\n",
       "<span style=\"color: #008080; text-decoration-color: #008080\">│</span>  <span style=\"color: #c0c0c0; text-decoration-color: #c0c0c0\">Name: </span><span style=\"color: #008080; text-decoration-color: #008080\">crew</span>                                                                                                     <span style=\"color: #008080; text-decoration-color: #008080\">│</span>\n",
       "<span style=\"color: #008080; text-decoration-color: #008080\">│</span>  <span style=\"color: #c0c0c0; text-decoration-color: #c0c0c0\">ID: </span><span style=\"color: #008080; text-decoration-color: #008080\">47a66507-c9f1-4a07-a99c-3a7602122173</span>                                                                       <span style=\"color: #008080; text-decoration-color: #008080\">│</span>\n",
       "<span style=\"color: #008080; text-decoration-color: #008080\">│</span>                                                                                                                 <span style=\"color: #008080; text-decoration-color: #008080\">│</span>\n",
       "<span style=\"color: #008080; text-decoration-color: #008080\">│</span>                                                                                                                 <span style=\"color: #008080; text-decoration-color: #008080\">│</span>\n",
       "<span style=\"color: #008080; text-decoration-color: #008080\">╰─────────────────────────────────────────────────────────────────────────────────────────────────────────────────╯</span>\n",
       "</pre>\n"
      ],
      "text/plain": [
       "\u001b[36m╭─\u001b[0m\u001b[36m───────────────────────────────────────────\u001b[0m\u001b[36m Crew Execution Started \u001b[0m\u001b[36m────────────────────────────────────────────\u001b[0m\u001b[36m─╮\u001b[0m\n",
       "\u001b[36m│\u001b[0m                                                                                                                 \u001b[36m│\u001b[0m\n",
       "\u001b[36m│\u001b[0m  \u001b[1;36mCrew Execution Started\u001b[0m                                                                                         \u001b[36m│\u001b[0m\n",
       "\u001b[36m│\u001b[0m  \u001b[37mName: \u001b[0m\u001b[36mcrew\u001b[0m                                                                                                     \u001b[36m│\u001b[0m\n",
       "\u001b[36m│\u001b[0m  \u001b[37mID: \u001b[0m\u001b[36m47a66507-c9f1-4a07-a99c-3a7602122173\u001b[0m                                                                       \u001b[36m│\u001b[0m\n",
       "\u001b[36m│\u001b[0m                                                                                                                 \u001b[36m│\u001b[0m\n",
       "\u001b[36m│\u001b[0m                                                                                                                 \u001b[36m│\u001b[0m\n",
       "\u001b[36m╰─────────────────────────────────────────────────────────────────────────────────────────────────────────────────╯\u001b[0m\n"
      ]
     },
     "metadata": {},
     "output_type": "display_data"
    },
    {
     "data": {
      "text/html": [
       "<pre style=\"white-space:pre;overflow-x:auto;line-height:normal;font-family:Menlo,'DejaVu Sans Mono',consolas,'Courier New',monospace\">\n",
       "</pre>\n"
      ],
      "text/plain": [
       "\n"
      ]
     },
     "metadata": {},
     "output_type": "display_data"
    },
    {
     "data": {
      "text/html": [
       "<pre style=\"white-space:pre;overflow-x:auto;line-height:normal;font-family:Menlo,'DejaVu Sans Mono',consolas,'Courier New',monospace\"><span style=\"color: #008080; text-decoration-color: #008080; font-weight: bold\">🚀 Crew: crew</span>\n",
       "└── <span style=\"color: #808000; text-decoration-color: #808000; font-weight: bold\">📋 Task: ab5dd9bd-d61e-4014-9357-bb2a4eb91327</span>\n",
       "    <span style=\"color: #c0c0c0; text-decoration-color: #c0c0c0\">   Status: </span><span style=\"color: #bfbf7f; text-decoration-color: #bfbf7f\">Executing Task...</span>\n",
       "</pre>\n"
      ],
      "text/plain": [
       "\u001b[1;36m🚀 Crew: \u001b[0m\u001b[1;36mcrew\u001b[0m\n",
       "└── \u001b[1;33m📋 Task: ab5dd9bd-d61e-4014-9357-bb2a4eb91327\u001b[0m\n",
       "    \u001b[37m   Status: \u001b[0m\u001b[2;33mExecuting Task...\u001b[0m\n"
      ]
     },
     "metadata": {},
     "output_type": "display_data"
    },
    {
     "data": {
      "text/html": [
       "<pre style=\"white-space:pre;overflow-x:auto;line-height:normal;font-family:Menlo,'DejaVu Sans Mono',consolas,'Courier New',monospace\">\n",
       "</pre>\n"
      ],
      "text/plain": [
       "\n"
      ]
     },
     "metadata": {},
     "output_type": "display_data"
    },
    {
     "data": {
      "text/html": [
       "<pre style=\"white-space:pre;overflow-x:auto;line-height:normal;font-family:Menlo,'DejaVu Sans Mono',consolas,'Courier New',monospace\"><span style=\"color: #008080; text-decoration-color: #008080; font-weight: bold\">🚀 Crew: crew</span>\n",
       "└── <span style=\"color: #808000; text-decoration-color: #808000; font-weight: bold\">📋 Task: ab5dd9bd-d61e-4014-9357-bb2a4eb91327</span>\n",
       "    <span style=\"color: #c0c0c0; text-decoration-color: #c0c0c0\">   Status: </span><span style=\"color: #bfbf7f; text-decoration-color: #bfbf7f\">Executing Task...</span>\n",
       "    └── <span style=\"color: #008000; text-decoration-color: #008000; font-weight: bold\">🤖 Agent: </span><span style=\"color: #008000; text-decoration-color: #008000\">The Ultimate Project Planner</span>\n",
       "        \n",
       "        <span style=\"color: #c0c0c0; text-decoration-color: #c0c0c0\">    Status: </span><span style=\"color: #008000; text-decoration-color: #008000; font-weight: bold\">In Progress</span>\n",
       "</pre>\n"
      ],
      "text/plain": [
       "\u001b[1;36m🚀 Crew: \u001b[0m\u001b[1;36mcrew\u001b[0m\n",
       "└── \u001b[1;33m📋 Task: ab5dd9bd-d61e-4014-9357-bb2a4eb91327\u001b[0m\n",
       "    \u001b[37m   Status: \u001b[0m\u001b[2;33mExecuting Task...\u001b[0m\n",
       "    └── \u001b[1;32m🤖 Agent: \u001b[0m\u001b[32mThe Ultimate Project Planner\u001b[0m\n",
       "        \n",
       "        \u001b[37m    Status: \u001b[0m\u001b[1;32mIn Progress\u001b[0m\n"
      ]
     },
     "metadata": {},
     "output_type": "display_data"
    },
    {
     "data": {
      "text/html": [
       "<pre style=\"white-space:pre;overflow-x:auto;line-height:normal;font-family:Menlo,'DejaVu Sans Mono',consolas,'Courier New',monospace\">\n",
       "</pre>\n"
      ],
      "text/plain": [
       "\n"
      ]
     },
     "metadata": {},
     "output_type": "display_data"
    },
    {
     "name": "stdout",
     "output_type": "stream",
     "text": [
      "\u001b[1m\u001b[95m# Agent:\u001b[00m \u001b[1m\u001b[92mThe Ultimate Project Planner\u001b[00m\n",
      "\u001b[95m## Task:\u001b[00m \u001b[92mCarefully analyze the project_requirements for the Website\n",
      "project and break them down into individual tasks. Define each\n",
      "task's scope in detail, set achievable timelines, and ensure that\n",
      "all dependencies are accounted for:\n",
      "\n",
      "\n",
      "- Create a responsive design that works well on desktop and mobile devices\n",
      "- Implement a modern, visually appealing user interface with a clean look\n",
      "- Develop a user-friendly navigation system with intuitive menu structure\n",
      "- Include an \"About Us\" page highlighting the company's history and values\n",
      "- Design a \"Services\" page showcasing the business's offerings with descriptions\n",
      "- Create a \"Contact Us\" page with a form and integrated map for communication\n",
      "- Implement a blog section for sharing industry news and company updates\n",
      "- Ensure fast loading times and optimize for search engines (SEO)\n",
      "- Integrate social media links and sharing capabilities\n",
      "- Include a testimonials section to showcase customer feedback and build trust\n",
      "\n",
      "\n",
      "Team members:\n",
      "\n",
      "\n",
      "- John Doe (Project Manager)\n",
      "- Jane Doe (Software Engineer)\n",
      "- Bob Smith (Designer)\n",
      "- Alice Johnson (QA Engineer)\n",
      "- Tom Brown (QA Engineer)\n",
      "\n",
      "\u001b[00m\n",
      "\n",
      "\n",
      "\u001b[1m\u001b[95m# Agent:\u001b[00m \u001b[1m\u001b[92mThe Ultimate Project Planner\u001b[00m\n",
      "\u001b[95m## Final Answer:\u001b[00m \u001b[92m\n",
      "## Website Project Plan \n",
      "\n",
      "**Project Goal:** Create a responsive, visually appealing website for a small business that is user-friendly, SEO optimized, and integrates social media.\n",
      "\n",
      "**Team Members:**\n",
      "* **John Doe:** Project Manager\n",
      "* **Jane Doe:** Software Engineer\n",
      "* **Bob Smith:** Designer\n",
      "* **Alice Johnson:** QA Engineer\n",
      "* **Tom Brown:** QA Engineer\n",
      "\n",
      "**Project Breakdown:**\n",
      "\n",
      "\n",
      "**Phase 1: Design & Planning (2 Weeks)**\n",
      "\n",
      "* **Task 1.1:  Requirements Gathering & Analysis (1 Day)** - **Deliverable:**  Detailed project requirements document outlining website functionalities, target audience, branding guidelines, and key features.\n",
      "    * **Responsible:** John Doe\n",
      "    * **Dependencies:** None\n",
      "* **Task 1.2:  Sitemap Creation (2 Days)** - **Deliverable:** A comprehensive sitemap outlining website structure, page hierarchy, and content flow.\n",
      "    * **Responsible:** John Doe\n",
      "    * **Dependencies:** Task 1.1\n",
      "* **Task 1.3:  Wireframing & Prototyping (3 Days)** - **Deliverable:**  Low-fidelity wireframes for each page of the website, showcasing the layout and navigation flow, with interactive prototypes for user testing.\n",
      "    * **Responsible:** Bob Smith\n",
      "    * **Dependencies:** Task 1.2\n",
      "* **Task 1.4:  User Flow & Navigation Design (2 Days)**  - **Deliverable:** Detailed user flow diagrams and navigation flows for key website sections.\n",
      "    * **Responsible:** Bob Smith\n",
      "    * **Dependencies:** Task 1.3\n",
      "\n",
      "* **Task 1.5: Design Mockups (4 Days)** - **Deliverable:** High-fidelity mockups for each page of the website, showcasing the visual design, color scheme, typography, and branding elements. \n",
      "    * **Responsible:** Bob Smith\n",
      "    * **Dependencies:** Task 1.3\n",
      "\n",
      " **Phase 2: Development (4 Weeks)**\n",
      "\n",
      "* **Task 2.1:  Front-End Development (2 Weeks)** - **Deliverable:**  Functional front-end code for all website pages, adhering to design mockups and responsive design principles.\n",
      "    * **Responsible:** Jane Doe \n",
      "    * **Dependencies:** Task 1.5\n",
      "* **Task 2.2:  Back-End Development (2 Weeks)** - **Deliverable:**  Functional back-end code and database integration for website functionality (e.g., contact form submissions, blog post management, user authentication).\n",
      "    * **Responsible:** Jane Doe \n",
      "    * **Dependencies:** Task 2.1\n",
      "\n",
      "* **Task 2.3:  Content Integration (1 Week)** - **Deliverable:** All website content (text, images, videos) integrated into the website. \n",
      "    * **Responsible:** John Doe, Bob Smith\n",
      "    * **Dependencies:** Task 2.1, Task 2.2, Client Approval\n",
      "\n",
      "**Phase 3: Testing & Quality Assurance (1 Week)**\n",
      "\n",
      "\n",
      "* **Task 3.1:  Unit Testing (2 Days)** - **Deliverable:**   Code unit tests to ensure individual components function correctly. \n",
      "    * **Responsible:** Jane Doe, Alice Johnson\n",
      "    * **Dependencies:** Task 2.1, Task 2.2\n",
      "* **Task 3.2:  Integration Testing (2 Days)** - **Deliverable:**  Test website functionalities spanning multiple components to identify integration issues. \n",
      "    * **Responsible:** Alice Johnson, Tom Brown\n",
      "    * **Dependencies:** Task 3.1\n",
      "\n",
      "* **Task 3.3:  User Acceptance Testing (2 Days)** - **Deliverable:** Client review and feedback on website functionalities, navigation, and overall user experience. \n",
      "    * **Responsible:** John Doe, Bob Smith\n",
      "    * **Dependencies:** Task 3.2\n",
      "* **Task 3.4:  Bug Fixing & Issue Resolution (2 Days)** - **Deliverable:** Website bug fixes and issue resolutions based on testing feedback.\n",
      "    * **Responsible:** Jane Doe, Bob Smith\n",
      "    * **Dependencies:** Task 3.3\n",
      "\n",
      "**Phase 4: Deployment & Launch (1 Week)**\n",
      "\n",
      "\n",
      "\n",
      "\n",
      "* **Task 4.1:  Website Deployment (2 Days)** - **Deliverable:**  Website files uploaded to the server and configured for production use.\n",
      "    * **Responsible:** Jane Doe\n",
      "    * **Dependencies:** Task 3.4\n",
      "\n",
      "* **Task 4.2:  Launch Readiness Check (2 Days) - Deliverable:**  Final website review and confirmation that all functionalities are working correctly.\n",
      "    * **Responsible:** John Doe, Jane Doe, Bob Smith, Alice Johnson, Tom Brown\n",
      "    * **Dependencies:** Task 4.1\n",
      "* **Task 4.3: Website Go-Live (2 Days) - Deliverable: Website published and accessible to the public. \n",
      "    * **Responsible:** John Doe\n",
      "    * **Dependencies:** Task 4.2\n",
      "\n",
      "\n",
      "\n",
      "\n",
      "**Gantt Chart (Example - Timeline Visualization)**\n",
      "\n",
      "  [Include a visual Gantt chart illustrating the project timeline, tasks, durations, dependencies, and team members responsible for each task. You can use a free online Gantt chart maker or Microsoft Project for this.]\n",
      "\n",
      "\n",
      "\n",
      "This plan serves as a guide and is subject to adjustments based on project progress and unforeseen circumstances.  Regular project meetings and communication will be essential to ensure successful project completion.\u001b[00m\n",
      "\n",
      "\n"
     ]
    },
    {
     "data": {
      "text/html": [
       "<pre style=\"white-space:pre;overflow-x:auto;line-height:normal;font-family:Menlo,'DejaVu Sans Mono',consolas,'Courier New',monospace\"><span style=\"color: #008080; text-decoration-color: #008080; font-weight: bold\">🚀 Crew: crew</span>\n",
       "└── <span style=\"color: #808000; text-decoration-color: #808000; font-weight: bold\">📋 Task: ab5dd9bd-d61e-4014-9357-bb2a4eb91327</span>\n",
       "    <span style=\"color: #c0c0c0; text-decoration-color: #c0c0c0\">   Status: </span><span style=\"color: #bfbf7f; text-decoration-color: #bfbf7f\">Executing Task...</span>\n",
       "    └── <span style=\"color: #008000; text-decoration-color: #008000; font-weight: bold\">🤖 Agent: </span><span style=\"color: #008000; text-decoration-color: #008000\">The Ultimate Project Planner</span>\n",
       "        \n",
       "        <span style=\"color: #c0c0c0; text-decoration-color: #c0c0c0\">    Status: </span><span style=\"color: #008000; text-decoration-color: #008000; font-weight: bold\">✅ Completed</span>\n",
       "</pre>\n"
      ],
      "text/plain": [
       "\u001b[1;36m🚀 Crew: \u001b[0m\u001b[1;36mcrew\u001b[0m\n",
       "└── \u001b[1;33m📋 Task: ab5dd9bd-d61e-4014-9357-bb2a4eb91327\u001b[0m\n",
       "    \u001b[37m   Status: \u001b[0m\u001b[2;33mExecuting Task...\u001b[0m\n",
       "    └── \u001b[1;32m🤖 Agent: \u001b[0m\u001b[32mThe Ultimate Project Planner\u001b[0m\n",
       "        \n",
       "        \u001b[37m    Status: \u001b[0m\u001b[1;32m✅ Completed\u001b[0m\n"
      ]
     },
     "metadata": {},
     "output_type": "display_data"
    },
    {
     "data": {
      "text/html": [
       "<pre style=\"white-space:pre;overflow-x:auto;line-height:normal;font-family:Menlo,'DejaVu Sans Mono',consolas,'Courier New',monospace\">\n",
       "</pre>\n"
      ],
      "text/plain": [
       "\n"
      ]
     },
     "metadata": {},
     "output_type": "display_data"
    },
    {
     "data": {
      "text/html": [
       "<pre style=\"white-space:pre;overflow-x:auto;line-height:normal;font-family:Menlo,'DejaVu Sans Mono',consolas,'Courier New',monospace\"><span style=\"color: #008080; text-decoration-color: #008080; font-weight: bold\">🚀 Crew: crew</span>\n",
       "└── <span style=\"color: #008000; text-decoration-color: #008000; font-weight: bold\">📋 Task: ab5dd9bd-d61e-4014-9357-bb2a4eb91327</span>\n",
       "    <span style=\"color: #c0c0c0; text-decoration-color: #c0c0c0\">   Assigned to: </span><span style=\"color: #008000; text-decoration-color: #008000\">The Ultimate Project Planner</span>\n",
       "    \n",
       "    <span style=\"color: #c0c0c0; text-decoration-color: #c0c0c0\">   Status: </span><span style=\"color: #008000; text-decoration-color: #008000; font-weight: bold\">✅ Completed</span>\n",
       "    └── <span style=\"color: #008000; text-decoration-color: #008000; font-weight: bold\">🤖 Agent: </span><span style=\"color: #008000; text-decoration-color: #008000\">The Ultimate Project Planner</span>\n",
       "        \n",
       "        <span style=\"color: #c0c0c0; text-decoration-color: #c0c0c0\">    Status: </span><span style=\"color: #008000; text-decoration-color: #008000; font-weight: bold\">✅ Completed</span>\n",
       "</pre>\n"
      ],
      "text/plain": [
       "\u001b[1;36m🚀 Crew: \u001b[0m\u001b[1;36mcrew\u001b[0m\n",
       "└── \u001b[1;32m📋 Task: ab5dd9bd-d61e-4014-9357-bb2a4eb91327\u001b[0m\n",
       "    \u001b[37m   Assigned to: \u001b[0m\u001b[32mThe Ultimate Project Planner\u001b[0m\n",
       "    \n",
       "    \u001b[37m   Status: \u001b[0m\u001b[1;32m✅ Completed\u001b[0m\n",
       "    └── \u001b[1;32m🤖 Agent: \u001b[0m\u001b[32mThe Ultimate Project Planner\u001b[0m\n",
       "        \n",
       "        \u001b[37m    Status: \u001b[0m\u001b[1;32m✅ Completed\u001b[0m\n"
      ]
     },
     "metadata": {},
     "output_type": "display_data"
    },
    {
     "data": {
      "text/html": [
       "<pre style=\"white-space:pre;overflow-x:auto;line-height:normal;font-family:Menlo,'DejaVu Sans Mono',consolas,'Courier New',monospace\"><span style=\"color: #008000; text-decoration-color: #008000\">╭──────────────────────────────────────────────── Task Completion ────────────────────────────────────────────────╮</span>\n",
       "<span style=\"color: #008000; text-decoration-color: #008000\">│</span>                                                                                                                 <span style=\"color: #008000; text-decoration-color: #008000\">│</span>\n",
       "<span style=\"color: #008000; text-decoration-color: #008000\">│</span>  <span style=\"color: #008000; text-decoration-color: #008000; font-weight: bold\">Task Completed</span>                                                                                                 <span style=\"color: #008000; text-decoration-color: #008000\">│</span>\n",
       "<span style=\"color: #008000; text-decoration-color: #008000\">│</span>  <span style=\"color: #c0c0c0; text-decoration-color: #c0c0c0\">Name: </span><span style=\"color: #008000; text-decoration-color: #008000\">ab5dd9bd-d61e-4014-9357-bb2a4eb91327</span>                                                                     <span style=\"color: #008000; text-decoration-color: #008000\">│</span>\n",
       "<span style=\"color: #008000; text-decoration-color: #008000\">│</span>  <span style=\"color: #c0c0c0; text-decoration-color: #c0c0c0\">Agent: </span><span style=\"color: #008000; text-decoration-color: #008000\">The Ultimate Project Planner</span>                                                                            <span style=\"color: #008000; text-decoration-color: #008000\">│</span>\n",
       "<span style=\"color: #008000; text-decoration-color: #008000\">│</span>                                                                                                                 <span style=\"color: #008000; text-decoration-color: #008000\">│</span>\n",
       "<span style=\"color: #008000; text-decoration-color: #008000\">│</span>                                                                                                                 <span style=\"color: #008000; text-decoration-color: #008000\">│</span>\n",
       "<span style=\"color: #008000; text-decoration-color: #008000\">│</span>                                                                                                                 <span style=\"color: #008000; text-decoration-color: #008000\">│</span>\n",
       "<span style=\"color: #008000; text-decoration-color: #008000\">╰─────────────────────────────────────────────────────────────────────────────────────────────────────────────────╯</span>\n",
       "</pre>\n"
      ],
      "text/plain": [
       "\u001b[32m╭─\u001b[0m\u001b[32m───────────────────────────────────────────────\u001b[0m\u001b[32m Task Completion \u001b[0m\u001b[32m───────────────────────────────────────────────\u001b[0m\u001b[32m─╮\u001b[0m\n",
       "\u001b[32m│\u001b[0m                                                                                                                 \u001b[32m│\u001b[0m\n",
       "\u001b[32m│\u001b[0m  \u001b[1;32mTask Completed\u001b[0m                                                                                                 \u001b[32m│\u001b[0m\n",
       "\u001b[32m│\u001b[0m  \u001b[37mName: \u001b[0m\u001b[32mab5dd9bd-d61e-4014-9357-bb2a4eb91327\u001b[0m                                                                     \u001b[32m│\u001b[0m\n",
       "\u001b[32m│\u001b[0m  \u001b[37mAgent: \u001b[0m\u001b[32mThe Ultimate Project Planner\u001b[0m                                                                            \u001b[32m│\u001b[0m\n",
       "\u001b[32m│\u001b[0m                                                                                                                 \u001b[32m│\u001b[0m\n",
       "\u001b[32m│\u001b[0m                                                                                                                 \u001b[32m│\u001b[0m\n",
       "\u001b[32m│\u001b[0m                                                                                                                 \u001b[32m│\u001b[0m\n",
       "\u001b[32m╰─────────────────────────────────────────────────────────────────────────────────────────────────────────────────╯\u001b[0m\n"
      ]
     },
     "metadata": {},
     "output_type": "display_data"
    },
    {
     "data": {
      "text/html": [
       "<pre style=\"white-space:pre;overflow-x:auto;line-height:normal;font-family:Menlo,'DejaVu Sans Mono',consolas,'Courier New',monospace\">\n",
       "</pre>\n"
      ],
      "text/plain": [
       "\n"
      ]
     },
     "metadata": {},
     "output_type": "display_data"
    },
    {
     "data": {
      "text/html": [
       "<pre style=\"white-space:pre;overflow-x:auto;line-height:normal;font-family:Menlo,'DejaVu Sans Mono',consolas,'Courier New',monospace\"><span style=\"color: #008080; text-decoration-color: #008080; font-weight: bold\">🚀 Crew: crew</span>\n",
       "├── <span style=\"color: #008000; text-decoration-color: #008000; font-weight: bold\">📋 Task: ab5dd9bd-d61e-4014-9357-bb2a4eb91327</span>\n",
       "│   <span style=\"color: #c0c0c0; text-decoration-color: #c0c0c0\">   Assigned to: </span><span style=\"color: #008000; text-decoration-color: #008000\">The Ultimate Project Planner</span>\n",
       "│   \n",
       "│   <span style=\"color: #c0c0c0; text-decoration-color: #c0c0c0\">   Status: </span><span style=\"color: #008000; text-decoration-color: #008000; font-weight: bold\">✅ Completed</span>\n",
       "│   └── <span style=\"color: #008000; text-decoration-color: #008000; font-weight: bold\">🤖 Agent: </span><span style=\"color: #008000; text-decoration-color: #008000\">The Ultimate Project Planner</span>\n",
       "│       \n",
       "│       <span style=\"color: #c0c0c0; text-decoration-color: #c0c0c0\">    Status: </span><span style=\"color: #008000; text-decoration-color: #008000; font-weight: bold\">✅ Completed</span>\n",
       "└── <span style=\"color: #808000; text-decoration-color: #808000; font-weight: bold\">📋 Task: eb26711a-4568-4a39-854c-0b38c0ee05d7</span>\n",
       "    <span style=\"color: #c0c0c0; text-decoration-color: #c0c0c0\">   Status: </span><span style=\"color: #bfbf7f; text-decoration-color: #bfbf7f\">Executing Task...</span>\n",
       "</pre>\n"
      ],
      "text/plain": [
       "\u001b[1;36m🚀 Crew: \u001b[0m\u001b[1;36mcrew\u001b[0m\n",
       "├── \u001b[1;32m📋 Task: ab5dd9bd-d61e-4014-9357-bb2a4eb91327\u001b[0m\n",
       "│   \u001b[37m   Assigned to: \u001b[0m\u001b[32mThe Ultimate Project Planner\u001b[0m\n",
       "│   \n",
       "│   \u001b[37m   Status: \u001b[0m\u001b[1;32m✅ Completed\u001b[0m\n",
       "│   └── \u001b[1;32m🤖 Agent: \u001b[0m\u001b[32mThe Ultimate Project Planner\u001b[0m\n",
       "│       \n",
       "│       \u001b[37m    Status: \u001b[0m\u001b[1;32m✅ Completed\u001b[0m\n",
       "└── \u001b[1;33m📋 Task: eb26711a-4568-4a39-854c-0b38c0ee05d7\u001b[0m\n",
       "    \u001b[37m   Status: \u001b[0m\u001b[2;33mExecuting Task...\u001b[0m\n"
      ]
     },
     "metadata": {},
     "output_type": "display_data"
    },
    {
     "data": {
      "text/html": [
       "<pre style=\"white-space:pre;overflow-x:auto;line-height:normal;font-family:Menlo,'DejaVu Sans Mono',consolas,'Courier New',monospace\">\n",
       "</pre>\n"
      ],
      "text/plain": [
       "\n"
      ]
     },
     "metadata": {},
     "output_type": "display_data"
    },
    {
     "data": {
      "text/html": [
       "<pre style=\"white-space:pre;overflow-x:auto;line-height:normal;font-family:Menlo,'DejaVu Sans Mono',consolas,'Courier New',monospace\"><span style=\"color: #008080; text-decoration-color: #008080; font-weight: bold\">🚀 Crew: crew</span>\n",
       "├── <span style=\"color: #008000; text-decoration-color: #008000; font-weight: bold\">📋 Task: ab5dd9bd-d61e-4014-9357-bb2a4eb91327</span>\n",
       "│   <span style=\"color: #c0c0c0; text-decoration-color: #c0c0c0\">   Assigned to: </span><span style=\"color: #008000; text-decoration-color: #008000\">The Ultimate Project Planner</span>\n",
       "│   \n",
       "│   <span style=\"color: #c0c0c0; text-decoration-color: #c0c0c0\">   Status: </span><span style=\"color: #008000; text-decoration-color: #008000; font-weight: bold\">✅ Completed</span>\n",
       "│   └── <span style=\"color: #008000; text-decoration-color: #008000; font-weight: bold\">🤖 Agent: </span><span style=\"color: #008000; text-decoration-color: #008000\">The Ultimate Project Planner</span>\n",
       "│       \n",
       "│       <span style=\"color: #c0c0c0; text-decoration-color: #c0c0c0\">    Status: </span><span style=\"color: #008000; text-decoration-color: #008000; font-weight: bold\">✅ Completed</span>\n",
       "└── <span style=\"color: #808000; text-decoration-color: #808000; font-weight: bold\">📋 Task: eb26711a-4568-4a39-854c-0b38c0ee05d7</span>\n",
       "    <span style=\"color: #c0c0c0; text-decoration-color: #c0c0c0\">   Status: </span><span style=\"color: #bfbf7f; text-decoration-color: #bfbf7f\">Executing Task...</span>\n",
       "    └── <span style=\"color: #008000; text-decoration-color: #008000; font-weight: bold\">🤖 Agent: </span><span style=\"color: #008000; text-decoration-color: #008000\">Expert Estimation Analyst</span>\n",
       "        \n",
       "        <span style=\"color: #c0c0c0; text-decoration-color: #c0c0c0\">    Status: </span><span style=\"color: #008000; text-decoration-color: #008000; font-weight: bold\">In Progress</span>\n",
       "</pre>\n"
      ],
      "text/plain": [
       "\u001b[1;36m🚀 Crew: \u001b[0m\u001b[1;36mcrew\u001b[0m\n",
       "├── \u001b[1;32m📋 Task: ab5dd9bd-d61e-4014-9357-bb2a4eb91327\u001b[0m\n",
       "│   \u001b[37m   Assigned to: \u001b[0m\u001b[32mThe Ultimate Project Planner\u001b[0m\n",
       "│   \n",
       "│   \u001b[37m   Status: \u001b[0m\u001b[1;32m✅ Completed\u001b[0m\n",
       "│   └── \u001b[1;32m🤖 Agent: \u001b[0m\u001b[32mThe Ultimate Project Planner\u001b[0m\n",
       "│       \n",
       "│       \u001b[37m    Status: \u001b[0m\u001b[1;32m✅ Completed\u001b[0m\n",
       "└── \u001b[1;33m📋 Task: eb26711a-4568-4a39-854c-0b38c0ee05d7\u001b[0m\n",
       "    \u001b[37m   Status: \u001b[0m\u001b[2;33mExecuting Task...\u001b[0m\n",
       "    └── \u001b[1;32m🤖 Agent: \u001b[0m\u001b[32mExpert Estimation Analyst\u001b[0m\n",
       "        \n",
       "        \u001b[37m    Status: \u001b[0m\u001b[1;32mIn Progress\u001b[0m\n"
      ]
     },
     "metadata": {},
     "output_type": "display_data"
    },
    {
     "data": {
      "text/html": [
       "<pre style=\"white-space:pre;overflow-x:auto;line-height:normal;font-family:Menlo,'DejaVu Sans Mono',consolas,'Courier New',monospace\">\n",
       "</pre>\n"
      ],
      "text/plain": [
       "\n"
      ]
     },
     "metadata": {},
     "output_type": "display_data"
    },
    {
     "name": "stdout",
     "output_type": "stream",
     "text": [
      "\u001b[1m\u001b[95m# Agent:\u001b[00m \u001b[1m\u001b[92mExpert Estimation Analyst\u001b[00m\n",
      "\u001b[95m## Task:\u001b[00m \u001b[92mThoroughly evaluate each task in the Website project to\n",
      "estimate the time, resources, and effort required.\n",
      "Use historical data, task complexity, and available resources to\n",
      "provide a realistic estimation for each task.\n",
      "\u001b[00m\n",
      "\n",
      "\n",
      "\u001b[1m\u001b[95m# Agent:\u001b[00m \u001b[1m\u001b[92mExpert Estimation Analyst\u001b[00m\n",
      "\u001b[95m## Final Answer:\u001b[00m \u001b[92m\n",
      "## Website Project Estimation Report\n",
      "\n",
      "**Project Goal:** Create a responsive, visually appealing website for a small business that is user-friendly, SEO optimized, and integrates social media.\n",
      "\n",
      "This report outlines the estimated time, resources, and effort required for each task in the Website project, based on historical data, task complexity, and available resources.\n",
      "\n",
      "**Phase 1: Design & Planning (2 Weeks)**\n",
      "\n",
      "* **Task 1.1: Requirements Gathering & Analysis (1 Day)**\n",
      "    * **Estimated Time:** 1 day\n",
      "    * **Resources:** John Doe\n",
      "    * **Effort:** Low \n",
      "* **Task 1.2: Sitemap Creation (2 Days)**\n",
      "    * **Estimated Time:** 2 days\n",
      "    * **Resources:** John Doe\n",
      "    * **Effort:** Low \n",
      "* **Task 1.3: Wireframing & Prototyping (3 Days)**\n",
      "    * **Estimated Time:** 3 days\n",
      "    * **Resources:** Bob Smith\n",
      "    * **Effort:** Medium\n",
      "* **Task 1.4: User Flow & Navigation Design (2 Days)**  \n",
      "    * **Estimated Time:** 2 days\n",
      "    * **Resources:** Bob Smith\n",
      "    * **Effort:** Medium\n",
      "* **Task 1.5: Design Mockups (4 Days)** \n",
      "    * **Estimated Time:** 4 days\n",
      "    * **Resources:** Bob Smith\n",
      "    * **Effort:** High\n",
      "\n",
      "**Phase 2: Development (4 Weeks)**\n",
      "\n",
      "* **Task 2.1: Front-End Development (2 Weeks)**\n",
      "    * **Estimated Time:** 10 business days \n",
      "    * **Resources:** Jane Doe\n",
      "    * **Effort:** High\n",
      "* **Task 2.2: Back-End Development (2 Weeks)**\n",
      "    * **Estimated Time:** 10 business days \n",
      "    * **Resources:** Jane Doe\n",
      "    * **Effort:** High\n",
      "* **Task 2.3: Content Integration (1 Week)**\n",
      "    * **Estimated Time:** 5 business days\n",
      "    * **Resources:** John Doe, Bob Smith\n",
      "    * **Effort:** Medium\n",
      "\n",
      "\n",
      "\n",
      " **Phase 3: Testing & Quality Assurance (1 Week)**\n",
      "\n",
      "* **Task 3.1: Unit Testing (2 Days)** \n",
      "    * **Estimated Time:** 2 days\n",
      "    * **Resources:** Jane Doe, Alice Johnson\n",
      "    * **Effort:**  Medium\n",
      "* **Task 3.2: Integration Testing (2 Days)** \n",
      "    * **Estimated Time:** 2 days\n",
      "    * **Resources:** Alice Johnson, Tom Brown\n",
      "    * **Effort:** Medium\n",
      "* **Task 3.3: User Acceptance Testing (2 Days)** \n",
      "    * **Estimated Time:** 2 days\n",
      "    * **Resources:** John Doe, Bob Smith\n",
      "    * **Effort:** Low\n",
      "* **Task 3.4: Bug Fixing & Issue Resolution (2 Days)** \n",
      "    * **Estimated Time:** 2 days\n",
      "    * **Resources:** Jane Doe, Bob Smith\n",
      "    * **Effort:** Medium\n",
      "\n",
      " **Phase 4: Deployment & Launch (1 Week)**\n",
      "\n",
      "\n",
      "* **Task 4.1: Website Deployment (2 Days)** \n",
      "    * **Estimated Time:** 2 days\n",
      "    * **Resources:** Jane Doe\n",
      "    * **Effort:** Low\n",
      "* **Task 4.2: Launch Readiness Check (2 Days)**\n",
      "    * **Estimated Time:** 2 days\n",
      "    * **Resources:** John Doe, Jane Doe, Bob Smith, Alice Johnson, Tom Brown  \n",
      "    * **Effort:** Low\n",
      "* **Task 4.3: Website Go-Live (2 Days)**\n",
      "    * **Estimated Time:** 2 days\n",
      "    * **Resources:** John Doe\n",
      "    * **Effort:** Low\n",
      "\n",
      "\n",
      "\n",
      "**Risks & Uncertainties:**\n",
      "\n",
      "* **Client Feedback:** Delays in receiving client feedback on design mockups and content integration could impact the overall project timeline.\n",
      "* **Technical Complexity:** If unforeseen technical challenges arise during development, additional time and resources may be required.\n",
      "* **Resource Availability:** If key team members are unavailable due to illness or other commitments, project progress could be affected.\n",
      "\n",
      "**Mitigation Strategies:**\n",
      "\n",
      "* **Establish Clear Communication Channels:** Maintain regular communication with the client to ensure timely feedback.\n",
      "* **Conduct Thorough Requirements Gathering:**  Minimize technical complexities by ensuring all project requirements are clearly defined upfront.\n",
      "* **Create Contingency Plans:** Have backup resources available in case of unexpected absences.\n",
      "\n",
      "\n",
      "\n",
      "**Conclusion:**\n",
      "\n",
      "This detailed estimation report provides a realistic roadmap for the Website project.  By closely monitoring project progress, promptly addressing risks, and maintaining open communication, the project team can strive to deliver a high-quality website within the designated timeframe and budget.\u001b[00m\n",
      "\n",
      "\n"
     ]
    },
    {
     "data": {
      "text/html": [
       "<pre style=\"white-space:pre;overflow-x:auto;line-height:normal;font-family:Menlo,'DejaVu Sans Mono',consolas,'Courier New',monospace\"><span style=\"color: #008080; text-decoration-color: #008080; font-weight: bold\">🚀 Crew: crew</span>\n",
       "├── <span style=\"color: #008000; text-decoration-color: #008000; font-weight: bold\">📋 Task: ab5dd9bd-d61e-4014-9357-bb2a4eb91327</span>\n",
       "│   <span style=\"color: #c0c0c0; text-decoration-color: #c0c0c0\">   Assigned to: </span><span style=\"color: #008000; text-decoration-color: #008000\">The Ultimate Project Planner</span>\n",
       "│   \n",
       "│   <span style=\"color: #c0c0c0; text-decoration-color: #c0c0c0\">   Status: </span><span style=\"color: #008000; text-decoration-color: #008000; font-weight: bold\">✅ Completed</span>\n",
       "│   └── <span style=\"color: #008000; text-decoration-color: #008000; font-weight: bold\">🤖 Agent: </span><span style=\"color: #008000; text-decoration-color: #008000\">The Ultimate Project Planner</span>\n",
       "│       \n",
       "│       <span style=\"color: #c0c0c0; text-decoration-color: #c0c0c0\">    Status: </span><span style=\"color: #008000; text-decoration-color: #008000; font-weight: bold\">✅ Completed</span>\n",
       "└── <span style=\"color: #808000; text-decoration-color: #808000; font-weight: bold\">📋 Task: eb26711a-4568-4a39-854c-0b38c0ee05d7</span>\n",
       "    <span style=\"color: #c0c0c0; text-decoration-color: #c0c0c0\">   Status: </span><span style=\"color: #bfbf7f; text-decoration-color: #bfbf7f\">Executing Task...</span>\n",
       "    └── <span style=\"color: #008000; text-decoration-color: #008000; font-weight: bold\">🤖 Agent: </span><span style=\"color: #008000; text-decoration-color: #008000\">Expert Estimation Analyst</span>\n",
       "        \n",
       "        <span style=\"color: #c0c0c0; text-decoration-color: #c0c0c0\">    Status: </span><span style=\"color: #008000; text-decoration-color: #008000; font-weight: bold\">✅ Completed</span>\n",
       "</pre>\n"
      ],
      "text/plain": [
       "\u001b[1;36m🚀 Crew: \u001b[0m\u001b[1;36mcrew\u001b[0m\n",
       "├── \u001b[1;32m📋 Task: ab5dd9bd-d61e-4014-9357-bb2a4eb91327\u001b[0m\n",
       "│   \u001b[37m   Assigned to: \u001b[0m\u001b[32mThe Ultimate Project Planner\u001b[0m\n",
       "│   \n",
       "│   \u001b[37m   Status: \u001b[0m\u001b[1;32m✅ Completed\u001b[0m\n",
       "│   └── \u001b[1;32m🤖 Agent: \u001b[0m\u001b[32mThe Ultimate Project Planner\u001b[0m\n",
       "│       \n",
       "│       \u001b[37m    Status: \u001b[0m\u001b[1;32m✅ Completed\u001b[0m\n",
       "└── \u001b[1;33m📋 Task: eb26711a-4568-4a39-854c-0b38c0ee05d7\u001b[0m\n",
       "    \u001b[37m   Status: \u001b[0m\u001b[2;33mExecuting Task...\u001b[0m\n",
       "    └── \u001b[1;32m🤖 Agent: \u001b[0m\u001b[32mExpert Estimation Analyst\u001b[0m\n",
       "        \n",
       "        \u001b[37m    Status: \u001b[0m\u001b[1;32m✅ Completed\u001b[0m\n"
      ]
     },
     "metadata": {},
     "output_type": "display_data"
    },
    {
     "data": {
      "text/html": [
       "<pre style=\"white-space:pre;overflow-x:auto;line-height:normal;font-family:Menlo,'DejaVu Sans Mono',consolas,'Courier New',monospace\">\n",
       "</pre>\n"
      ],
      "text/plain": [
       "\n"
      ]
     },
     "metadata": {},
     "output_type": "display_data"
    },
    {
     "data": {
      "text/html": [
       "<pre style=\"white-space:pre;overflow-x:auto;line-height:normal;font-family:Menlo,'DejaVu Sans Mono',consolas,'Courier New',monospace\"><span style=\"color: #008080; text-decoration-color: #008080; font-weight: bold\">🚀 Crew: crew</span>\n",
       "├── <span style=\"color: #008000; text-decoration-color: #008000; font-weight: bold\">📋 Task: ab5dd9bd-d61e-4014-9357-bb2a4eb91327</span>\n",
       "│   <span style=\"color: #c0c0c0; text-decoration-color: #c0c0c0\">   Assigned to: </span><span style=\"color: #008000; text-decoration-color: #008000\">The Ultimate Project Planner</span>\n",
       "│   \n",
       "│   <span style=\"color: #c0c0c0; text-decoration-color: #c0c0c0\">   Status: </span><span style=\"color: #008000; text-decoration-color: #008000; font-weight: bold\">✅ Completed</span>\n",
       "│   └── <span style=\"color: #008000; text-decoration-color: #008000; font-weight: bold\">🤖 Agent: </span><span style=\"color: #008000; text-decoration-color: #008000\">The Ultimate Project Planner</span>\n",
       "│       \n",
       "│       <span style=\"color: #c0c0c0; text-decoration-color: #c0c0c0\">    Status: </span><span style=\"color: #008000; text-decoration-color: #008000; font-weight: bold\">✅ Completed</span>\n",
       "└── <span style=\"color: #008000; text-decoration-color: #008000; font-weight: bold\">📋 Task: eb26711a-4568-4a39-854c-0b38c0ee05d7</span>\n",
       "    <span style=\"color: #c0c0c0; text-decoration-color: #c0c0c0\">   Assigned to: </span><span style=\"color: #008000; text-decoration-color: #008000\">Expert Estimation Analyst</span>\n",
       "    \n",
       "    <span style=\"color: #c0c0c0; text-decoration-color: #c0c0c0\">   Status: </span><span style=\"color: #008000; text-decoration-color: #008000; font-weight: bold\">✅ Completed</span>\n",
       "    └── <span style=\"color: #008000; text-decoration-color: #008000; font-weight: bold\">🤖 Agent: </span><span style=\"color: #008000; text-decoration-color: #008000\">Expert Estimation Analyst</span>\n",
       "        \n",
       "        <span style=\"color: #c0c0c0; text-decoration-color: #c0c0c0\">    Status: </span><span style=\"color: #008000; text-decoration-color: #008000; font-weight: bold\">✅ Completed</span>\n",
       "</pre>\n"
      ],
      "text/plain": [
       "\u001b[1;36m🚀 Crew: \u001b[0m\u001b[1;36mcrew\u001b[0m\n",
       "├── \u001b[1;32m📋 Task: ab5dd9bd-d61e-4014-9357-bb2a4eb91327\u001b[0m\n",
       "│   \u001b[37m   Assigned to: \u001b[0m\u001b[32mThe Ultimate Project Planner\u001b[0m\n",
       "│   \n",
       "│   \u001b[37m   Status: \u001b[0m\u001b[1;32m✅ Completed\u001b[0m\n",
       "│   └── \u001b[1;32m🤖 Agent: \u001b[0m\u001b[32mThe Ultimate Project Planner\u001b[0m\n",
       "│       \n",
       "│       \u001b[37m    Status: \u001b[0m\u001b[1;32m✅ Completed\u001b[0m\n",
       "└── \u001b[1;32m📋 Task: eb26711a-4568-4a39-854c-0b38c0ee05d7\u001b[0m\n",
       "    \u001b[37m   Assigned to: \u001b[0m\u001b[32mExpert Estimation Analyst\u001b[0m\n",
       "    \n",
       "    \u001b[37m   Status: \u001b[0m\u001b[1;32m✅ Completed\u001b[0m\n",
       "    └── \u001b[1;32m🤖 Agent: \u001b[0m\u001b[32mExpert Estimation Analyst\u001b[0m\n",
       "        \n",
       "        \u001b[37m    Status: \u001b[0m\u001b[1;32m✅ Completed\u001b[0m\n"
      ]
     },
     "metadata": {},
     "output_type": "display_data"
    },
    {
     "data": {
      "text/html": [
       "<pre style=\"white-space:pre;overflow-x:auto;line-height:normal;font-family:Menlo,'DejaVu Sans Mono',consolas,'Courier New',monospace\"><span style=\"color: #008000; text-decoration-color: #008000\">╭──────────────────────────────────────────────── Task Completion ────────────────────────────────────────────────╮</span>\n",
       "<span style=\"color: #008000; text-decoration-color: #008000\">│</span>                                                                                                                 <span style=\"color: #008000; text-decoration-color: #008000\">│</span>\n",
       "<span style=\"color: #008000; text-decoration-color: #008000\">│</span>  <span style=\"color: #008000; text-decoration-color: #008000; font-weight: bold\">Task Completed</span>                                                                                                 <span style=\"color: #008000; text-decoration-color: #008000\">│</span>\n",
       "<span style=\"color: #008000; text-decoration-color: #008000\">│</span>  <span style=\"color: #c0c0c0; text-decoration-color: #c0c0c0\">Name: </span><span style=\"color: #008000; text-decoration-color: #008000\">eb26711a-4568-4a39-854c-0b38c0ee05d7</span>                                                                     <span style=\"color: #008000; text-decoration-color: #008000\">│</span>\n",
       "<span style=\"color: #008000; text-decoration-color: #008000\">│</span>  <span style=\"color: #c0c0c0; text-decoration-color: #c0c0c0\">Agent: </span><span style=\"color: #008000; text-decoration-color: #008000\">Expert Estimation Analyst</span>                                                                               <span style=\"color: #008000; text-decoration-color: #008000\">│</span>\n",
       "<span style=\"color: #008000; text-decoration-color: #008000\">│</span>                                                                                                                 <span style=\"color: #008000; text-decoration-color: #008000\">│</span>\n",
       "<span style=\"color: #008000; text-decoration-color: #008000\">│</span>                                                                                                                 <span style=\"color: #008000; text-decoration-color: #008000\">│</span>\n",
       "<span style=\"color: #008000; text-decoration-color: #008000\">│</span>                                                                                                                 <span style=\"color: #008000; text-decoration-color: #008000\">│</span>\n",
       "<span style=\"color: #008000; text-decoration-color: #008000\">╰─────────────────────────────────────────────────────────────────────────────────────────────────────────────────╯</span>\n",
       "</pre>\n"
      ],
      "text/plain": [
       "\u001b[32m╭─\u001b[0m\u001b[32m───────────────────────────────────────────────\u001b[0m\u001b[32m Task Completion \u001b[0m\u001b[32m───────────────────────────────────────────────\u001b[0m\u001b[32m─╮\u001b[0m\n",
       "\u001b[32m│\u001b[0m                                                                                                                 \u001b[32m│\u001b[0m\n",
       "\u001b[32m│\u001b[0m  \u001b[1;32mTask Completed\u001b[0m                                                                                                 \u001b[32m│\u001b[0m\n",
       "\u001b[32m│\u001b[0m  \u001b[37mName: \u001b[0m\u001b[32meb26711a-4568-4a39-854c-0b38c0ee05d7\u001b[0m                                                                     \u001b[32m│\u001b[0m\n",
       "\u001b[32m│\u001b[0m  \u001b[37mAgent: \u001b[0m\u001b[32mExpert Estimation Analyst\u001b[0m                                                                               \u001b[32m│\u001b[0m\n",
       "\u001b[32m│\u001b[0m                                                                                                                 \u001b[32m│\u001b[0m\n",
       "\u001b[32m│\u001b[0m                                                                                                                 \u001b[32m│\u001b[0m\n",
       "\u001b[32m│\u001b[0m                                                                                                                 \u001b[32m│\u001b[0m\n",
       "\u001b[32m╰─────────────────────────────────────────────────────────────────────────────────────────────────────────────────╯\u001b[0m\n"
      ]
     },
     "metadata": {},
     "output_type": "display_data"
    },
    {
     "data": {
      "text/html": [
       "<pre style=\"white-space:pre;overflow-x:auto;line-height:normal;font-family:Menlo,'DejaVu Sans Mono',consolas,'Courier New',monospace\">\n",
       "</pre>\n"
      ],
      "text/plain": [
       "\n"
      ]
     },
     "metadata": {},
     "output_type": "display_data"
    },
    {
     "data": {
      "text/html": [
       "<pre style=\"white-space:pre;overflow-x:auto;line-height:normal;font-family:Menlo,'DejaVu Sans Mono',consolas,'Courier New',monospace\"><span style=\"color: #008080; text-decoration-color: #008080; font-weight: bold\">🚀 Crew: crew</span>\n",
       "├── <span style=\"color: #008000; text-decoration-color: #008000; font-weight: bold\">📋 Task: ab5dd9bd-d61e-4014-9357-bb2a4eb91327</span>\n",
       "│   <span style=\"color: #c0c0c0; text-decoration-color: #c0c0c0\">   Assigned to: </span><span style=\"color: #008000; text-decoration-color: #008000\">The Ultimate Project Planner</span>\n",
       "│   \n",
       "│   <span style=\"color: #c0c0c0; text-decoration-color: #c0c0c0\">   Status: </span><span style=\"color: #008000; text-decoration-color: #008000; font-weight: bold\">✅ Completed</span>\n",
       "│   └── <span style=\"color: #008000; text-decoration-color: #008000; font-weight: bold\">🤖 Agent: </span><span style=\"color: #008000; text-decoration-color: #008000\">The Ultimate Project Planner</span>\n",
       "│       \n",
       "│       <span style=\"color: #c0c0c0; text-decoration-color: #c0c0c0\">    Status: </span><span style=\"color: #008000; text-decoration-color: #008000; font-weight: bold\">✅ Completed</span>\n",
       "├── <span style=\"color: #008000; text-decoration-color: #008000; font-weight: bold\">📋 Task: eb26711a-4568-4a39-854c-0b38c0ee05d7</span>\n",
       "│   <span style=\"color: #c0c0c0; text-decoration-color: #c0c0c0\">   Assigned to: </span><span style=\"color: #008000; text-decoration-color: #008000\">Expert Estimation Analyst</span>\n",
       "│   \n",
       "│   <span style=\"color: #c0c0c0; text-decoration-color: #c0c0c0\">   Status: </span><span style=\"color: #008000; text-decoration-color: #008000; font-weight: bold\">✅ Completed</span>\n",
       "│   └── <span style=\"color: #008000; text-decoration-color: #008000; font-weight: bold\">🤖 Agent: </span><span style=\"color: #008000; text-decoration-color: #008000\">Expert Estimation Analyst</span>\n",
       "│       \n",
       "│       <span style=\"color: #c0c0c0; text-decoration-color: #c0c0c0\">    Status: </span><span style=\"color: #008000; text-decoration-color: #008000; font-weight: bold\">✅ Completed</span>\n",
       "└── <span style=\"color: #808000; text-decoration-color: #808000; font-weight: bold\">📋 Task: b86ff643-f0b7-42ee-ade9-95a08697f328</span>\n",
       "    <span style=\"color: #c0c0c0; text-decoration-color: #c0c0c0\">   Status: </span><span style=\"color: #bfbf7f; text-decoration-color: #bfbf7f\">Executing Task...</span>\n",
       "</pre>\n"
      ],
      "text/plain": [
       "\u001b[1;36m🚀 Crew: \u001b[0m\u001b[1;36mcrew\u001b[0m\n",
       "├── \u001b[1;32m📋 Task: ab5dd9bd-d61e-4014-9357-bb2a4eb91327\u001b[0m\n",
       "│   \u001b[37m   Assigned to: \u001b[0m\u001b[32mThe Ultimate Project Planner\u001b[0m\n",
       "│   \n",
       "│   \u001b[37m   Status: \u001b[0m\u001b[1;32m✅ Completed\u001b[0m\n",
       "│   └── \u001b[1;32m🤖 Agent: \u001b[0m\u001b[32mThe Ultimate Project Planner\u001b[0m\n",
       "│       \n",
       "│       \u001b[37m    Status: \u001b[0m\u001b[1;32m✅ Completed\u001b[0m\n",
       "├── \u001b[1;32m📋 Task: eb26711a-4568-4a39-854c-0b38c0ee05d7\u001b[0m\n",
       "│   \u001b[37m   Assigned to: \u001b[0m\u001b[32mExpert Estimation Analyst\u001b[0m\n",
       "│   \n",
       "│   \u001b[37m   Status: \u001b[0m\u001b[1;32m✅ Completed\u001b[0m\n",
       "│   └── \u001b[1;32m🤖 Agent: \u001b[0m\u001b[32mExpert Estimation Analyst\u001b[0m\n",
       "│       \n",
       "│       \u001b[37m    Status: \u001b[0m\u001b[1;32m✅ Completed\u001b[0m\n",
       "└── \u001b[1;33m📋 Task: b86ff643-f0b7-42ee-ade9-95a08697f328\u001b[0m\n",
       "    \u001b[37m   Status: \u001b[0m\u001b[2;33mExecuting Task...\u001b[0m\n"
      ]
     },
     "metadata": {},
     "output_type": "display_data"
    },
    {
     "data": {
      "text/html": [
       "<pre style=\"white-space:pre;overflow-x:auto;line-height:normal;font-family:Menlo,'DejaVu Sans Mono',consolas,'Courier New',monospace\">\n",
       "</pre>\n"
      ],
      "text/plain": [
       "\n"
      ]
     },
     "metadata": {},
     "output_type": "display_data"
    },
    {
     "data": {
      "text/html": [
       "<pre style=\"white-space:pre;overflow-x:auto;line-height:normal;font-family:Menlo,'DejaVu Sans Mono',consolas,'Courier New',monospace\"><span style=\"color: #008080; text-decoration-color: #008080; font-weight: bold\">🚀 Crew: crew</span>\n",
       "├── <span style=\"color: #008000; text-decoration-color: #008000; font-weight: bold\">📋 Task: ab5dd9bd-d61e-4014-9357-bb2a4eb91327</span>\n",
       "│   <span style=\"color: #c0c0c0; text-decoration-color: #c0c0c0\">   Assigned to: </span><span style=\"color: #008000; text-decoration-color: #008000\">The Ultimate Project Planner</span>\n",
       "│   \n",
       "│   <span style=\"color: #c0c0c0; text-decoration-color: #c0c0c0\">   Status: </span><span style=\"color: #008000; text-decoration-color: #008000; font-weight: bold\">✅ Completed</span>\n",
       "│   └── <span style=\"color: #008000; text-decoration-color: #008000; font-weight: bold\">🤖 Agent: </span><span style=\"color: #008000; text-decoration-color: #008000\">The Ultimate Project Planner</span>\n",
       "│       \n",
       "│       <span style=\"color: #c0c0c0; text-decoration-color: #c0c0c0\">    Status: </span><span style=\"color: #008000; text-decoration-color: #008000; font-weight: bold\">✅ Completed</span>\n",
       "├── <span style=\"color: #008000; text-decoration-color: #008000; font-weight: bold\">📋 Task: eb26711a-4568-4a39-854c-0b38c0ee05d7</span>\n",
       "│   <span style=\"color: #c0c0c0; text-decoration-color: #c0c0c0\">   Assigned to: </span><span style=\"color: #008000; text-decoration-color: #008000\">Expert Estimation Analyst</span>\n",
       "│   \n",
       "│   <span style=\"color: #c0c0c0; text-decoration-color: #c0c0c0\">   Status: </span><span style=\"color: #008000; text-decoration-color: #008000; font-weight: bold\">✅ Completed</span>\n",
       "│   └── <span style=\"color: #008000; text-decoration-color: #008000; font-weight: bold\">🤖 Agent: </span><span style=\"color: #008000; text-decoration-color: #008000\">Expert Estimation Analyst</span>\n",
       "│       \n",
       "│       <span style=\"color: #c0c0c0; text-decoration-color: #c0c0c0\">    Status: </span><span style=\"color: #008000; text-decoration-color: #008000; font-weight: bold\">✅ Completed</span>\n",
       "└── <span style=\"color: #808000; text-decoration-color: #808000; font-weight: bold\">📋 Task: b86ff643-f0b7-42ee-ade9-95a08697f328</span>\n",
       "    <span style=\"color: #c0c0c0; text-decoration-color: #c0c0c0\">   Status: </span><span style=\"color: #bfbf7f; text-decoration-color: #bfbf7f\">Executing Task...</span>\n",
       "    └── <span style=\"color: #008000; text-decoration-color: #008000; font-weight: bold\">🤖 Agent: </span><span style=\"color: #008000; text-decoration-color: #008000\">Strategic Resource Allocator</span>\n",
       "        \n",
       "        <span style=\"color: #c0c0c0; text-decoration-color: #c0c0c0\">    Status: </span><span style=\"color: #008000; text-decoration-color: #008000; font-weight: bold\">In Progress</span>\n",
       "</pre>\n"
      ],
      "text/plain": [
       "\u001b[1;36m🚀 Crew: \u001b[0m\u001b[1;36mcrew\u001b[0m\n",
       "├── \u001b[1;32m📋 Task: ab5dd9bd-d61e-4014-9357-bb2a4eb91327\u001b[0m\n",
       "│   \u001b[37m   Assigned to: \u001b[0m\u001b[32mThe Ultimate Project Planner\u001b[0m\n",
       "│   \n",
       "│   \u001b[37m   Status: \u001b[0m\u001b[1;32m✅ Completed\u001b[0m\n",
       "│   └── \u001b[1;32m🤖 Agent: \u001b[0m\u001b[32mThe Ultimate Project Planner\u001b[0m\n",
       "│       \n",
       "│       \u001b[37m    Status: \u001b[0m\u001b[1;32m✅ Completed\u001b[0m\n",
       "├── \u001b[1;32m📋 Task: eb26711a-4568-4a39-854c-0b38c0ee05d7\u001b[0m\n",
       "│   \u001b[37m   Assigned to: \u001b[0m\u001b[32mExpert Estimation Analyst\u001b[0m\n",
       "│   \n",
       "│   \u001b[37m   Status: \u001b[0m\u001b[1;32m✅ Completed\u001b[0m\n",
       "│   └── \u001b[1;32m🤖 Agent: \u001b[0m\u001b[32mExpert Estimation Analyst\u001b[0m\n",
       "│       \n",
       "│       \u001b[37m    Status: \u001b[0m\u001b[1;32m✅ Completed\u001b[0m\n",
       "└── \u001b[1;33m📋 Task: b86ff643-f0b7-42ee-ade9-95a08697f328\u001b[0m\n",
       "    \u001b[37m   Status: \u001b[0m\u001b[2;33mExecuting Task...\u001b[0m\n",
       "    └── \u001b[1;32m🤖 Agent: \u001b[0m\u001b[32mStrategic Resource Allocator\u001b[0m\n",
       "        \n",
       "        \u001b[37m    Status: \u001b[0m\u001b[1;32mIn Progress\u001b[0m\n"
      ]
     },
     "metadata": {},
     "output_type": "display_data"
    },
    {
     "data": {
      "text/html": [
       "<pre style=\"white-space:pre;overflow-x:auto;line-height:normal;font-family:Menlo,'DejaVu Sans Mono',consolas,'Courier New',monospace\">\n",
       "</pre>\n"
      ],
      "text/plain": [
       "\n"
      ]
     },
     "metadata": {},
     "output_type": "display_data"
    },
    {
     "name": "stdout",
     "output_type": "stream",
     "text": [
      "\u001b[1m\u001b[95m# Agent:\u001b[00m \u001b[1m\u001b[92mStrategic Resource Allocator\u001b[00m\n",
      "\u001b[95m## Task:\u001b[00m \u001b[92mStrategically allocate tasks for the Website project to\n",
      "team members based on their skills, availability, and current\n",
      "workload. Ensure that each task is assigned to the most suitable\n",
      "person to maximize productivity and avoid bottlenecks.\n",
      "\u001b[00m\n",
      "\n",
      "\n",
      "\u001b[1m\u001b[95m# Agent:\u001b[00m \u001b[1m\u001b[92mStrategic Resource Allocator\u001b[00m\n",
      "\u001b[95m## Final Answer:\u001b[00m \u001b[92m\n",
      "{\n",
      "  \"tasks\": [\n",
      "    {\n",
      "      \"task_name\": \"Requirements Gathering & Analysis\",\n",
      "      \"estimated_time_hours\": 8,\n",
      "      \"required_resources\": [\n",
      "        \"John Doe\"\n",
      "      ]\n",
      "    },\n",
      "    {\n",
      "      \"task_name\": \"Sitemap Creation\",\n",
      "      \"estimated_time_hours\": 16,\n",
      "      \"required_resources\": [\n",
      "        \"John Doe\"\n",
      "      ]\n",
      "    },\n",
      "    {\n",
      "      \"task_name\": \"Wireframing & Prototyping\",\n",
      "      \"estimated_time_hours\": 24,\n",
      "      \"required_resources\": [\n",
      "        \"Bob Smith\"\n",
      "      ]\n",
      "    },\n",
      "    {\n",
      "      \"task_name\": \"User Flow & Navigation Design\",\n",
      "      \"estimated_time_hours\": 16,\n",
      "      \"required_resources\": [\n",
      "        \"Bob Smith\"\n",
      "      ]\n",
      "    },\n",
      "    {\n",
      "      \"task_name\": \"Design Mockups\",\n",
      "      \"estimated_time_hours\": 32,\n",
      "      \"required_resources\": [\n",
      "        \"Bob Smith\"\n",
      "      ]\n",
      "    },\n",
      "    {\n",
      "      \"task_name\": \"Front-End Development\",\n",
      "      \"estimated_time_hours\": 80,\n",
      "      \"required_resources\": [\n",
      "        \"Jane Doe\"\n",
      "      ]\n",
      "    },\n",
      "    {\n",
      "      \"task_name\": \"Back-End Development\",\n",
      "      \"estimated_time_hours\": 80,\n",
      "      \"required_resources\": [\n",
      "        \"Jane Doe\"\n",
      "      ]\n",
      "    },\n",
      "    {\n",
      "      \"task_name\": \"Content Integration\",\n",
      "      \"estimated_time_hours\": 40,\n",
      "      \"required_resources\": [\n",
      "        \"John Doe\",\n",
      "        \"Bob Smith\"\n",
      "      ]\n",
      "    },\n",
      "    {\n",
      "      \"task_name\": \"Unit Testing\",\n",
      "      \"estimated_time_hours\": 16,\n",
      "      \"required_resources\": [\n",
      "        \"Jane Doe\",\n",
      "        \"Alice Johnson\"\n",
      "      ]\n",
      "    },\n",
      "    {\n",
      "      \"task_name\": \"Integration Testing\",\n",
      "      \"estimated_time_hours\": 16,\n",
      "      \"required_resources\": [\n",
      "        \"Alice Johnson\",\n",
      "        \"Tom Brown\"\n",
      "      ]\n",
      "    },\n",
      "    {\n",
      "      \"task_name\": \"User Acceptance Testing\",\n",
      "      \"estimated_time_hours\": 16,\n",
      "      \"required_resources\": [\n",
      "        \"John Doe\",\n",
      "        \"Bob Smith\"\n",
      "      ]\n",
      "    },\n",
      "    {\n",
      "      \"task_name\": \"Bug Fixing & Issue Resolution\",\n",
      "      \"estimated_time_hours\": 16,\n",
      "      \"required_resources\": [\n",
      "        \"Jane Doe\",\n",
      "        \"Bob Smith\"\n",
      "      ]\n",
      "    },\n",
      "    {\n",
      "      \"task_name\": \"Website Deployment\",\n",
      "      \"estimated_time_hours\": 16,\n",
      "      \"required_resources\": [\n",
      "        \"Jane Doe\"\n",
      "      ]\n",
      "    },\n",
      "    {\n",
      "      \"task_name\": \"Launch Readiness Check\",\n",
      "      \"estimated_time_hours\": 16,\n",
      "      \"required_resources\": [\n",
      "        \"John Doe\",\n",
      "        \"Jane Doe\",\n",
      "        \"Bob Smith\",\n",
      "        \"Alice Johnson\",\n",
      "        \"Tom Brown\"\n",
      "      ]\n",
      "    },\n",
      "    {\n",
      "      \"task_name\": \"Website Go-Live\",\n",
      "      \"estimated_time_hours\": 16,\n",
      "      \"required_resources\": [\n",
      "        \"John Doe\"\n",
      "      ]\n",
      "    }\n",
      "  ],\n",
      "  \"milestones\": [\n",
      "    {\n",
      "      \"milestone_name\": \"Design Completion\",\n",
      "      \"tasks\": [\n",
      "        \"Requirements Gathering & Analysis\",\n",
      "        \"Sitemap Creation\",\n",
      "        \"Wireframing & Prototyping\",\n",
      "        \"User Flow & Navigation Design\",\n",
      "        \"Design Mockups\"\n",
      "      ]\n",
      "    },\n",
      "    {\n",
      "      \"milestone_name\": \"Development Completion\",\n",
      "      \"tasks\": [\n",
      "        \"Front-End Development\",\n",
      "        \"Back-End Development\",\n",
      "        \"Content Integration\"\n",
      "      ]\n",
      "    },\n",
      "    {\n",
      "      \"milestone_name\": \"Testing & Quality Assurance Complete\",\n",
      "      \"tasks\": [\n",
      "        \"Unit Testing\",\n",
      "        \"Integration Testing\",\n",
      "        \"User Acceptance Testing\",\n",
      "        \"Bug Fixing & Issue Resolution\"\n",
      "      ]\n",
      "    },\n",
      "    {\n",
      "      \"milestone_name\": \"Website Launch Ready\",\n",
      "      \"tasks\": [\n",
      "        \"Website Deployment\",\n",
      "        \"Launch Readiness Check\"\n",
      "      ]\n",
      "    },\n",
      "    {\n",
      "      \"milestone_name\": \"Website Go-Live\",\n",
      "      \"tasks\": [\n",
      "        \"Website Go-Live\"\n",
      "      ]\n",
      "    }\n",
      "  ]\n",
      "}\u001b[00m\n",
      "\n",
      "\n"
     ]
    },
    {
     "data": {
      "text/html": [
       "<pre style=\"white-space:pre;overflow-x:auto;line-height:normal;font-family:Menlo,'DejaVu Sans Mono',consolas,'Courier New',monospace\"><span style=\"color: #008080; text-decoration-color: #008080; font-weight: bold\">🚀 Crew: crew</span>\n",
       "├── <span style=\"color: #008000; text-decoration-color: #008000; font-weight: bold\">📋 Task: ab5dd9bd-d61e-4014-9357-bb2a4eb91327</span>\n",
       "│   <span style=\"color: #c0c0c0; text-decoration-color: #c0c0c0\">   Assigned to: </span><span style=\"color: #008000; text-decoration-color: #008000\">The Ultimate Project Planner</span>\n",
       "│   \n",
       "│   <span style=\"color: #c0c0c0; text-decoration-color: #c0c0c0\">   Status: </span><span style=\"color: #008000; text-decoration-color: #008000; font-weight: bold\">✅ Completed</span>\n",
       "│   └── <span style=\"color: #008000; text-decoration-color: #008000; font-weight: bold\">🤖 Agent: </span><span style=\"color: #008000; text-decoration-color: #008000\">The Ultimate Project Planner</span>\n",
       "│       \n",
       "│       <span style=\"color: #c0c0c0; text-decoration-color: #c0c0c0\">    Status: </span><span style=\"color: #008000; text-decoration-color: #008000; font-weight: bold\">✅ Completed</span>\n",
       "├── <span style=\"color: #008000; text-decoration-color: #008000; font-weight: bold\">📋 Task: eb26711a-4568-4a39-854c-0b38c0ee05d7</span>\n",
       "│   <span style=\"color: #c0c0c0; text-decoration-color: #c0c0c0\">   Assigned to: </span><span style=\"color: #008000; text-decoration-color: #008000\">Expert Estimation Analyst</span>\n",
       "│   \n",
       "│   <span style=\"color: #c0c0c0; text-decoration-color: #c0c0c0\">   Status: </span><span style=\"color: #008000; text-decoration-color: #008000; font-weight: bold\">✅ Completed</span>\n",
       "│   └── <span style=\"color: #008000; text-decoration-color: #008000; font-weight: bold\">🤖 Agent: </span><span style=\"color: #008000; text-decoration-color: #008000\">Expert Estimation Analyst</span>\n",
       "│       \n",
       "│       <span style=\"color: #c0c0c0; text-decoration-color: #c0c0c0\">    Status: </span><span style=\"color: #008000; text-decoration-color: #008000; font-weight: bold\">✅ Completed</span>\n",
       "└── <span style=\"color: #808000; text-decoration-color: #808000; font-weight: bold\">📋 Task: b86ff643-f0b7-42ee-ade9-95a08697f328</span>\n",
       "    <span style=\"color: #c0c0c0; text-decoration-color: #c0c0c0\">   Status: </span><span style=\"color: #bfbf7f; text-decoration-color: #bfbf7f\">Executing Task...</span>\n",
       "    └── <span style=\"color: #008000; text-decoration-color: #008000; font-weight: bold\">🤖 Agent: </span><span style=\"color: #008000; text-decoration-color: #008000\">Strategic Resource Allocator</span>\n",
       "        \n",
       "        <span style=\"color: #c0c0c0; text-decoration-color: #c0c0c0\">    Status: </span><span style=\"color: #008000; text-decoration-color: #008000; font-weight: bold\">✅ Completed</span>\n",
       "</pre>\n"
      ],
      "text/plain": [
       "\u001b[1;36m🚀 Crew: \u001b[0m\u001b[1;36mcrew\u001b[0m\n",
       "├── \u001b[1;32m📋 Task: ab5dd9bd-d61e-4014-9357-bb2a4eb91327\u001b[0m\n",
       "│   \u001b[37m   Assigned to: \u001b[0m\u001b[32mThe Ultimate Project Planner\u001b[0m\n",
       "│   \n",
       "│   \u001b[37m   Status: \u001b[0m\u001b[1;32m✅ Completed\u001b[0m\n",
       "│   └── \u001b[1;32m🤖 Agent: \u001b[0m\u001b[32mThe Ultimate Project Planner\u001b[0m\n",
       "│       \n",
       "│       \u001b[37m    Status: \u001b[0m\u001b[1;32m✅ Completed\u001b[0m\n",
       "├── \u001b[1;32m📋 Task: eb26711a-4568-4a39-854c-0b38c0ee05d7\u001b[0m\n",
       "│   \u001b[37m   Assigned to: \u001b[0m\u001b[32mExpert Estimation Analyst\u001b[0m\n",
       "│   \n",
       "│   \u001b[37m   Status: \u001b[0m\u001b[1;32m✅ Completed\u001b[0m\n",
       "│   └── \u001b[1;32m🤖 Agent: \u001b[0m\u001b[32mExpert Estimation Analyst\u001b[0m\n",
       "│       \n",
       "│       \u001b[37m    Status: \u001b[0m\u001b[1;32m✅ Completed\u001b[0m\n",
       "└── \u001b[1;33m📋 Task: b86ff643-f0b7-42ee-ade9-95a08697f328\u001b[0m\n",
       "    \u001b[37m   Status: \u001b[0m\u001b[2;33mExecuting Task...\u001b[0m\n",
       "    └── \u001b[1;32m🤖 Agent: \u001b[0m\u001b[32mStrategic Resource Allocator\u001b[0m\n",
       "        \n",
       "        \u001b[37m    Status: \u001b[0m\u001b[1;32m✅ Completed\u001b[0m\n"
      ]
     },
     "metadata": {},
     "output_type": "display_data"
    },
    {
     "data": {
      "text/html": [
       "<pre style=\"white-space:pre;overflow-x:auto;line-height:normal;font-family:Menlo,'DejaVu Sans Mono',consolas,'Courier New',monospace\">\n",
       "</pre>\n"
      ],
      "text/plain": [
       "\n"
      ]
     },
     "metadata": {},
     "output_type": "display_data"
    },
    {
     "data": {
      "text/html": [
       "<pre style=\"white-space:pre;overflow-x:auto;line-height:normal;font-family:Menlo,'DejaVu Sans Mono',consolas,'Courier New',monospace\"><span style=\"color: #008080; text-decoration-color: #008080; font-weight: bold\">🚀 Crew: crew</span>\n",
       "├── <span style=\"color: #008000; text-decoration-color: #008000; font-weight: bold\">📋 Task: ab5dd9bd-d61e-4014-9357-bb2a4eb91327</span>\n",
       "│   <span style=\"color: #c0c0c0; text-decoration-color: #c0c0c0\">   Assigned to: </span><span style=\"color: #008000; text-decoration-color: #008000\">The Ultimate Project Planner</span>\n",
       "│   \n",
       "│   <span style=\"color: #c0c0c0; text-decoration-color: #c0c0c0\">   Status: </span><span style=\"color: #008000; text-decoration-color: #008000; font-weight: bold\">✅ Completed</span>\n",
       "│   └── <span style=\"color: #008000; text-decoration-color: #008000; font-weight: bold\">🤖 Agent: </span><span style=\"color: #008000; text-decoration-color: #008000\">The Ultimate Project Planner</span>\n",
       "│       \n",
       "│       <span style=\"color: #c0c0c0; text-decoration-color: #c0c0c0\">    Status: </span><span style=\"color: #008000; text-decoration-color: #008000; font-weight: bold\">✅ Completed</span>\n",
       "├── <span style=\"color: #008000; text-decoration-color: #008000; font-weight: bold\">📋 Task: eb26711a-4568-4a39-854c-0b38c0ee05d7</span>\n",
       "│   <span style=\"color: #c0c0c0; text-decoration-color: #c0c0c0\">   Assigned to: </span><span style=\"color: #008000; text-decoration-color: #008000\">Expert Estimation Analyst</span>\n",
       "│   \n",
       "│   <span style=\"color: #c0c0c0; text-decoration-color: #c0c0c0\">   Status: </span><span style=\"color: #008000; text-decoration-color: #008000; font-weight: bold\">✅ Completed</span>\n",
       "│   └── <span style=\"color: #008000; text-decoration-color: #008000; font-weight: bold\">🤖 Agent: </span><span style=\"color: #008000; text-decoration-color: #008000\">Expert Estimation Analyst</span>\n",
       "│       \n",
       "│       <span style=\"color: #c0c0c0; text-decoration-color: #c0c0c0\">    Status: </span><span style=\"color: #008000; text-decoration-color: #008000; font-weight: bold\">✅ Completed</span>\n",
       "└── <span style=\"color: #008000; text-decoration-color: #008000; font-weight: bold\">📋 Task: b86ff643-f0b7-42ee-ade9-95a08697f328</span>\n",
       "    <span style=\"color: #c0c0c0; text-decoration-color: #c0c0c0\">   Assigned to: </span><span style=\"color: #008000; text-decoration-color: #008000\">Strategic Resource Allocator</span>\n",
       "    \n",
       "    <span style=\"color: #c0c0c0; text-decoration-color: #c0c0c0\">   Status: </span><span style=\"color: #008000; text-decoration-color: #008000; font-weight: bold\">✅ Completed</span>\n",
       "    └── <span style=\"color: #008000; text-decoration-color: #008000; font-weight: bold\">🤖 Agent: </span><span style=\"color: #008000; text-decoration-color: #008000\">Strategic Resource Allocator</span>\n",
       "        \n",
       "        <span style=\"color: #c0c0c0; text-decoration-color: #c0c0c0\">    Status: </span><span style=\"color: #008000; text-decoration-color: #008000; font-weight: bold\">✅ Completed</span>\n",
       "</pre>\n"
      ],
      "text/plain": [
       "\u001b[1;36m🚀 Crew: \u001b[0m\u001b[1;36mcrew\u001b[0m\n",
       "├── \u001b[1;32m📋 Task: ab5dd9bd-d61e-4014-9357-bb2a4eb91327\u001b[0m\n",
       "│   \u001b[37m   Assigned to: \u001b[0m\u001b[32mThe Ultimate Project Planner\u001b[0m\n",
       "│   \n",
       "│   \u001b[37m   Status: \u001b[0m\u001b[1;32m✅ Completed\u001b[0m\n",
       "│   └── \u001b[1;32m🤖 Agent: \u001b[0m\u001b[32mThe Ultimate Project Planner\u001b[0m\n",
       "│       \n",
       "│       \u001b[37m    Status: \u001b[0m\u001b[1;32m✅ Completed\u001b[0m\n",
       "├── \u001b[1;32m📋 Task: eb26711a-4568-4a39-854c-0b38c0ee05d7\u001b[0m\n",
       "│   \u001b[37m   Assigned to: \u001b[0m\u001b[32mExpert Estimation Analyst\u001b[0m\n",
       "│   \n",
       "│   \u001b[37m   Status: \u001b[0m\u001b[1;32m✅ Completed\u001b[0m\n",
       "│   └── \u001b[1;32m🤖 Agent: \u001b[0m\u001b[32mExpert Estimation Analyst\u001b[0m\n",
       "│       \n",
       "│       \u001b[37m    Status: \u001b[0m\u001b[1;32m✅ Completed\u001b[0m\n",
       "└── \u001b[1;32m📋 Task: b86ff643-f0b7-42ee-ade9-95a08697f328\u001b[0m\n",
       "    \u001b[37m   Assigned to: \u001b[0m\u001b[32mStrategic Resource Allocator\u001b[0m\n",
       "    \n",
       "    \u001b[37m   Status: \u001b[0m\u001b[1;32m✅ Completed\u001b[0m\n",
       "    └── \u001b[1;32m🤖 Agent: \u001b[0m\u001b[32mStrategic Resource Allocator\u001b[0m\n",
       "        \n",
       "        \u001b[37m    Status: \u001b[0m\u001b[1;32m✅ Completed\u001b[0m\n"
      ]
     },
     "metadata": {},
     "output_type": "display_data"
    },
    {
     "data": {
      "text/html": [
       "<pre style=\"white-space:pre;overflow-x:auto;line-height:normal;font-family:Menlo,'DejaVu Sans Mono',consolas,'Courier New',monospace\"><span style=\"color: #008000; text-decoration-color: #008000\">╭──────────────────────────────────────────────── Task Completion ────────────────────────────────────────────────╮</span>\n",
       "<span style=\"color: #008000; text-decoration-color: #008000\">│</span>                                                                                                                 <span style=\"color: #008000; text-decoration-color: #008000\">│</span>\n",
       "<span style=\"color: #008000; text-decoration-color: #008000\">│</span>  <span style=\"color: #008000; text-decoration-color: #008000; font-weight: bold\">Task Completed</span>                                                                                                 <span style=\"color: #008000; text-decoration-color: #008000\">│</span>\n",
       "<span style=\"color: #008000; text-decoration-color: #008000\">│</span>  <span style=\"color: #c0c0c0; text-decoration-color: #c0c0c0\">Name: </span><span style=\"color: #008000; text-decoration-color: #008000\">b86ff643-f0b7-42ee-ade9-95a08697f328</span>                                                                     <span style=\"color: #008000; text-decoration-color: #008000\">│</span>\n",
       "<span style=\"color: #008000; text-decoration-color: #008000\">│</span>  <span style=\"color: #c0c0c0; text-decoration-color: #c0c0c0\">Agent: </span><span style=\"color: #008000; text-decoration-color: #008000\">Strategic Resource Allocator</span>                                                                            <span style=\"color: #008000; text-decoration-color: #008000\">│</span>\n",
       "<span style=\"color: #008000; text-decoration-color: #008000\">│</span>                                                                                                                 <span style=\"color: #008000; text-decoration-color: #008000\">│</span>\n",
       "<span style=\"color: #008000; text-decoration-color: #008000\">│</span>                                                                                                                 <span style=\"color: #008000; text-decoration-color: #008000\">│</span>\n",
       "<span style=\"color: #008000; text-decoration-color: #008000\">│</span>                                                                                                                 <span style=\"color: #008000; text-decoration-color: #008000\">│</span>\n",
       "<span style=\"color: #008000; text-decoration-color: #008000\">╰─────────────────────────────────────────────────────────────────────────────────────────────────────────────────╯</span>\n",
       "</pre>\n"
      ],
      "text/plain": [
       "\u001b[32m╭─\u001b[0m\u001b[32m───────────────────────────────────────────────\u001b[0m\u001b[32m Task Completion \u001b[0m\u001b[32m───────────────────────────────────────────────\u001b[0m\u001b[32m─╮\u001b[0m\n",
       "\u001b[32m│\u001b[0m                                                                                                                 \u001b[32m│\u001b[0m\n",
       "\u001b[32m│\u001b[0m  \u001b[1;32mTask Completed\u001b[0m                                                                                                 \u001b[32m│\u001b[0m\n",
       "\u001b[32m│\u001b[0m  \u001b[37mName: \u001b[0m\u001b[32mb86ff643-f0b7-42ee-ade9-95a08697f328\u001b[0m                                                                     \u001b[32m│\u001b[0m\n",
       "\u001b[32m│\u001b[0m  \u001b[37mAgent: \u001b[0m\u001b[32mStrategic Resource Allocator\u001b[0m                                                                            \u001b[32m│\u001b[0m\n",
       "\u001b[32m│\u001b[0m                                                                                                                 \u001b[32m│\u001b[0m\n",
       "\u001b[32m│\u001b[0m                                                                                                                 \u001b[32m│\u001b[0m\n",
       "\u001b[32m│\u001b[0m                                                                                                                 \u001b[32m│\u001b[0m\n",
       "\u001b[32m╰─────────────────────────────────────────────────────────────────────────────────────────────────────────────────╯\u001b[0m\n"
      ]
     },
     "metadata": {},
     "output_type": "display_data"
    },
    {
     "data": {
      "text/html": [
       "<pre style=\"white-space:pre;overflow-x:auto;line-height:normal;font-family:Menlo,'DejaVu Sans Mono',consolas,'Courier New',monospace\">\n",
       "</pre>\n"
      ],
      "text/plain": [
       "\n"
      ]
     },
     "metadata": {},
     "output_type": "display_data"
    },
    {
     "data": {
      "text/html": [
       "<pre style=\"white-space:pre;overflow-x:auto;line-height:normal;font-family:Menlo,'DejaVu Sans Mono',consolas,'Courier New',monospace\"><span style=\"color: #008000; text-decoration-color: #008000\">╭──────────────────────────────────────────────── Crew Completion ────────────────────────────────────────────────╮</span>\n",
       "<span style=\"color: #008000; text-decoration-color: #008000\">│</span>                                                                                                                 <span style=\"color: #008000; text-decoration-color: #008000\">│</span>\n",
       "<span style=\"color: #008000; text-decoration-color: #008000\">│</span>  <span style=\"color: #008000; text-decoration-color: #008000; font-weight: bold\">Crew Execution Completed</span>                                                                                       <span style=\"color: #008000; text-decoration-color: #008000\">│</span>\n",
       "<span style=\"color: #008000; text-decoration-color: #008000\">│</span>  <span style=\"color: #c0c0c0; text-decoration-color: #c0c0c0\">Name: </span><span style=\"color: #008000; text-decoration-color: #008000\">crew</span>                                                                                                     <span style=\"color: #008000; text-decoration-color: #008000\">│</span>\n",
       "<span style=\"color: #008000; text-decoration-color: #008000\">│</span>  <span style=\"color: #c0c0c0; text-decoration-color: #c0c0c0\">ID: </span><span style=\"color: #008000; text-decoration-color: #008000\">47a66507-c9f1-4a07-a99c-3a7602122173</span>                                                                       <span style=\"color: #008000; text-decoration-color: #008000\">│</span>\n",
       "<span style=\"color: #008000; text-decoration-color: #008000\">│</span>                                                                                                                 <span style=\"color: #008000; text-decoration-color: #008000\">│</span>\n",
       "<span style=\"color: #008000; text-decoration-color: #008000\">│</span>                                                                                                                 <span style=\"color: #008000; text-decoration-color: #008000\">│</span>\n",
       "<span style=\"color: #008000; text-decoration-color: #008000\">╰─────────────────────────────────────────────────────────────────────────────────────────────────────────────────╯</span>\n",
       "</pre>\n"
      ],
      "text/plain": [
       "\u001b[32m╭─\u001b[0m\u001b[32m───────────────────────────────────────────────\u001b[0m\u001b[32m Crew Completion \u001b[0m\u001b[32m───────────────────────────────────────────────\u001b[0m\u001b[32m─╮\u001b[0m\n",
       "\u001b[32m│\u001b[0m                                                                                                                 \u001b[32m│\u001b[0m\n",
       "\u001b[32m│\u001b[0m  \u001b[1;32mCrew Execution Completed\u001b[0m                                                                                       \u001b[32m│\u001b[0m\n",
       "\u001b[32m│\u001b[0m  \u001b[37mName: \u001b[0m\u001b[32mcrew\u001b[0m                                                                                                     \u001b[32m│\u001b[0m\n",
       "\u001b[32m│\u001b[0m  \u001b[37mID: \u001b[0m\u001b[32m47a66507-c9f1-4a07-a99c-3a7602122173\u001b[0m                                                                       \u001b[32m│\u001b[0m\n",
       "\u001b[32m│\u001b[0m                                                                                                                 \u001b[32m│\u001b[0m\n",
       "\u001b[32m│\u001b[0m                                                                                                                 \u001b[32m│\u001b[0m\n",
       "\u001b[32m╰─────────────────────────────────────────────────────────────────────────────────────────────────────────────────╯\u001b[0m\n"
      ]
     },
     "metadata": {},
     "output_type": "display_data"
    },
    {
     "data": {
      "text/html": [
       "<pre style=\"white-space:pre;overflow-x:auto;line-height:normal;font-family:Menlo,'DejaVu Sans Mono',consolas,'Courier New',monospace\">\n",
       "</pre>\n"
      ],
      "text/plain": [
       "\n"
      ]
     },
     "metadata": {},
     "output_type": "display_data"
    }
   ],
   "source": [
    "# The given Python dictionary\n",
    "inputs = {\n",
    "  'project_type': project,\n",
    "  'project_objectives': project_objectives,\n",
    "  'industry': industry,\n",
    "  'team_members': team_members,\n",
    "  'project_requirements': project_requirements\n",
    "}\n",
    "\n",
    "# Run the crew\n",
    "result = crew.kickoff(\n",
    "  inputs=inputs\n",
    ")"
   ]
  },
  {
   "cell_type": "code",
   "execution_count": 98,
   "id": "2e3ecee1",
   "metadata": {},
   "outputs": [
    {
     "name": "stderr",
     "output_type": "stream",
     "text": [
      "C:\\Users\\lenovo\\AppData\\Local\\Temp\\ipykernel_6128\\2853131943.py:1: PydanticDeprecatedSince20: The `dict` method is deprecated; use `model_dump` instead. Deprecated in Pydantic V2.0 to be removed in V3.0. See Pydantic V2 Migration Guide at https://errors.pydantic.dev/2.11/migration/\n",
      "  result.pydantic.dict()\n"
     ]
    },
    {
     "data": {
      "text/plain": [
       "{'tasks': [{'task_name': 'Requirements Gathering & Analysis',\n",
       "   'estimated_time_hours': 8.0,\n",
       "   'required_resources': ['John Doe']},\n",
       "  {'task_name': 'Sitemap Creation',\n",
       "   'estimated_time_hours': 16.0,\n",
       "   'required_resources': ['John Doe']},\n",
       "  {'task_name': 'Wireframing & Prototyping',\n",
       "   'estimated_time_hours': 24.0,\n",
       "   'required_resources': ['Bob Smith']},\n",
       "  {'task_name': 'User Flow & Navigation Design',\n",
       "   'estimated_time_hours': 16.0,\n",
       "   'required_resources': ['Bob Smith']},\n",
       "  {'task_name': 'Design Mockups',\n",
       "   'estimated_time_hours': 32.0,\n",
       "   'required_resources': ['Bob Smith']},\n",
       "  {'task_name': 'Front-End Development',\n",
       "   'estimated_time_hours': 80.0,\n",
       "   'required_resources': ['Jane Doe']},\n",
       "  {'task_name': 'Back-End Development',\n",
       "   'estimated_time_hours': 80.0,\n",
       "   'required_resources': ['Jane Doe']},\n",
       "  {'task_name': 'Content Integration',\n",
       "   'estimated_time_hours': 40.0,\n",
       "   'required_resources': ['John Doe', 'Bob Smith']},\n",
       "  {'task_name': 'Unit Testing',\n",
       "   'estimated_time_hours': 16.0,\n",
       "   'required_resources': ['Jane Doe', 'Alice Johnson']},\n",
       "  {'task_name': 'Integration Testing',\n",
       "   'estimated_time_hours': 16.0,\n",
       "   'required_resources': ['Alice Johnson', 'Tom Brown']},\n",
       "  {'task_name': 'User Acceptance Testing',\n",
       "   'estimated_time_hours': 16.0,\n",
       "   'required_resources': ['John Doe', 'Bob Smith']},\n",
       "  {'task_name': 'Bug Fixing & Issue Resolution',\n",
       "   'estimated_time_hours': 16.0,\n",
       "   'required_resources': ['Jane Doe', 'Bob Smith']},\n",
       "  {'task_name': 'Website Deployment',\n",
       "   'estimated_time_hours': 16.0,\n",
       "   'required_resources': ['Jane Doe']},\n",
       "  {'task_name': 'Launch Readiness Check',\n",
       "   'estimated_time_hours': 16.0,\n",
       "   'required_resources': ['John Doe',\n",
       "    'Jane Doe',\n",
       "    'Bob Smith',\n",
       "    'Alice Johnson',\n",
       "    'Tom Brown']},\n",
       "  {'task_name': 'Website Go-Live',\n",
       "   'estimated_time_hours': 16.0,\n",
       "   'required_resources': ['John Doe']}],\n",
       " 'milestones': [{'milestone_name': 'Design Completion',\n",
       "   'tasks': ['Requirements Gathering & Analysis',\n",
       "    'Sitemap Creation',\n",
       "    'Wireframing & Prototyping',\n",
       "    'User Flow & Navigation Design',\n",
       "    'Design Mockups']},\n",
       "  {'milestone_name': 'Development Completion',\n",
       "   'tasks': ['Front-End Development',\n",
       "    'Back-End Development',\n",
       "    'Content Integration']},\n",
       "  {'milestone_name': 'Testing & Quality Assurance Complete',\n",
       "   'tasks': ['Unit Testing',\n",
       "    'Integration Testing',\n",
       "    'User Acceptance Testing',\n",
       "    'Bug Fixing & Issue Resolution']},\n",
       "  {'milestone_name': 'Website Launch Ready',\n",
       "   'tasks': ['Website Deployment', 'Launch Readiness Check']},\n",
       "  {'milestone_name': 'Website Go-Live', 'tasks': ['Website Go-Live']}]}"
      ]
     },
     "execution_count": 98,
     "metadata": {},
     "output_type": "execute_result"
    }
   ],
   "source": [
    "result.pydantic.dict()"
   ]
  },
  {
   "cell_type": "code",
   "execution_count": null,
   "id": "eadef0db",
   "metadata": {},
   "outputs": [
    {
     "name": "stdout",
     "output_type": "stream",
     "text": [
      "Total costs: $0.0007\n"
     ]
    },
    {
     "name": "stderr",
     "output_type": "stream",
     "text": [
      "C:\\Users\\lenovo\\AppData\\Local\\Temp\\ipykernel_6128\\1225971828.py:7: PydanticDeprecatedSince20: The `dict` method is deprecated; use `model_dump` instead. Deprecated in Pydantic V2.0 to be removed in V3.0. See Pydantic V2 Migration Guide at https://errors.pydantic.dev/2.11/migration/\n",
      "  df_usage_metrics = pd.DataFrame([crew.usage_metrics.dict()])\n"
     ]
    },
    {
     "data": {
      "text/html": [
       "<div>\n",
       "<style scoped>\n",
       "    .dataframe tbody tr th:only-of-type {\n",
       "        vertical-align: middle;\n",
       "    }\n",
       "\n",
       "    .dataframe tbody tr th {\n",
       "        vertical-align: top;\n",
       "    }\n",
       "\n",
       "    .dataframe thead th {\n",
       "        text-align: right;\n",
       "    }\n",
       "</style>\n",
       "<table border=\"1\" class=\"dataframe\">\n",
       "  <thead>\n",
       "    <tr style=\"text-align: right;\">\n",
       "      <th></th>\n",
       "      <th>total_tokens</th>\n",
       "      <th>prompt_tokens</th>\n",
       "      <th>cached_prompt_tokens</th>\n",
       "      <th>completion_tokens</th>\n",
       "      <th>successful_requests</th>\n",
       "    </tr>\n",
       "  </thead>\n",
       "  <tbody>\n",
       "    <tr>\n",
       "      <th>0</th>\n",
       "      <td>9094</td>\n",
       "      <td>5229</td>\n",
       "      <td>0</td>\n",
       "      <td>3865</td>\n",
       "      <td>3</td>\n",
       "    </tr>\n",
       "  </tbody>\n",
       "</table>\n",
       "</div>"
      ],
      "text/plain": [
       "   total_tokens  prompt_tokens  cached_prompt_tokens  completion_tokens  \\\n",
       "0          9094           5229                     0               3865   \n",
       "\n",
       "   successful_requests  \n",
       "0                    3  "
      ]
     },
     "execution_count": 58,
     "metadata": {},
     "output_type": "execute_result"
    }
   ],
   "source": [
    "import pandas as pd\n",
    "\n",
    "costs = 0.2* (crew.usage_metrics.prompt_tokens + crew.usage_metrics.completion_tokens) / 1_000_000\n",
    "print(f\"Total costs: ${costs:.4f}\")\n",
    "\n",
    "# Convert UsageMetrics instance to a DataFrame\n",
    "df_usage_metrics = pd.DataFrame([crew.usage_metrics.dict()])\n",
    "df_usage_metrics"
   ]
  },
  {
   "cell_type": "code",
   "execution_count": null,
   "id": "90e66021",
   "metadata": {},
   "outputs": [
    {
     "data": {
      "text/html": [
       "<style type=\"text/css\">\n",
       "#T_621fe th {\n",
       "  font-size: 120%;\n",
       "}\n",
       "#T_621fe  td {\n",
       "  font-size: 120%;\n",
       "}\n",
       "</style>\n",
       "<table id=\"T_621fe\" border=\"1\">\n",
       "  <caption>Task Details</caption>\n",
       "  <thead>\n",
       "    <tr>\n",
       "      <th class=\"blank level0\" >&nbsp;</th>\n",
       "      <th id=\"T_621fe_level0_col0\" class=\"col_heading level0 col0\" >task_name</th>\n",
       "      <th id=\"T_621fe_level0_col1\" class=\"col_heading level0 col1\" >estimated_time_hours</th>\n",
       "      <th id=\"T_621fe_level0_col2\" class=\"col_heading level0 col2\" >required_resources</th>\n",
       "    </tr>\n",
       "  </thead>\n",
       "  <tbody>\n",
       "    <tr>\n",
       "      <th id=\"T_621fe_level0_row0\" class=\"row_heading level0 row0\" >0</th>\n",
       "      <td id=\"T_621fe_row0_col0\" class=\"data row0 col0\" >Requirements Gathering & Analysis</td>\n",
       "      <td id=\"T_621fe_row0_col1\" class=\"data row0 col1\" >8.000000</td>\n",
       "      <td id=\"T_621fe_row0_col2\" class=\"data row0 col2\" >['John Doe']</td>\n",
       "    </tr>\n",
       "    <tr>\n",
       "      <th id=\"T_621fe_level0_row1\" class=\"row_heading level0 row1\" >1</th>\n",
       "      <td id=\"T_621fe_row1_col0\" class=\"data row1 col0\" >Sitemap Creation</td>\n",
       "      <td id=\"T_621fe_row1_col1\" class=\"data row1 col1\" >16.000000</td>\n",
       "      <td id=\"T_621fe_row1_col2\" class=\"data row1 col2\" >['John Doe']</td>\n",
       "    </tr>\n",
       "    <tr>\n",
       "      <th id=\"T_621fe_level0_row2\" class=\"row_heading level0 row2\" >2</th>\n",
       "      <td id=\"T_621fe_row2_col0\" class=\"data row2 col0\" >Wireframing & Prototyping</td>\n",
       "      <td id=\"T_621fe_row2_col1\" class=\"data row2 col1\" >24.000000</td>\n",
       "      <td id=\"T_621fe_row2_col2\" class=\"data row2 col2\" >['Bob Smith']</td>\n",
       "    </tr>\n",
       "    <tr>\n",
       "      <th id=\"T_621fe_level0_row3\" class=\"row_heading level0 row3\" >3</th>\n",
       "      <td id=\"T_621fe_row3_col0\" class=\"data row3 col0\" >User Flow & Navigation Design</td>\n",
       "      <td id=\"T_621fe_row3_col1\" class=\"data row3 col1\" >16.000000</td>\n",
       "      <td id=\"T_621fe_row3_col2\" class=\"data row3 col2\" >['Bob Smith']</td>\n",
       "    </tr>\n",
       "    <tr>\n",
       "      <th id=\"T_621fe_level0_row4\" class=\"row_heading level0 row4\" >4</th>\n",
       "      <td id=\"T_621fe_row4_col0\" class=\"data row4 col0\" >Design Mockups</td>\n",
       "      <td id=\"T_621fe_row4_col1\" class=\"data row4 col1\" >32.000000</td>\n",
       "      <td id=\"T_621fe_row4_col2\" class=\"data row4 col2\" >['Bob Smith']</td>\n",
       "    </tr>\n",
       "    <tr>\n",
       "      <th id=\"T_621fe_level0_row5\" class=\"row_heading level0 row5\" >5</th>\n",
       "      <td id=\"T_621fe_row5_col0\" class=\"data row5 col0\" >Front-End Development</td>\n",
       "      <td id=\"T_621fe_row5_col1\" class=\"data row5 col1\" >80.000000</td>\n",
       "      <td id=\"T_621fe_row5_col2\" class=\"data row5 col2\" >['Jane Doe']</td>\n",
       "    </tr>\n",
       "    <tr>\n",
       "      <th id=\"T_621fe_level0_row6\" class=\"row_heading level0 row6\" >6</th>\n",
       "      <td id=\"T_621fe_row6_col0\" class=\"data row6 col0\" >Back-End Development</td>\n",
       "      <td id=\"T_621fe_row6_col1\" class=\"data row6 col1\" >80.000000</td>\n",
       "      <td id=\"T_621fe_row6_col2\" class=\"data row6 col2\" >['Jane Doe']</td>\n",
       "    </tr>\n",
       "    <tr>\n",
       "      <th id=\"T_621fe_level0_row7\" class=\"row_heading level0 row7\" >7</th>\n",
       "      <td id=\"T_621fe_row7_col0\" class=\"data row7 col0\" >Content Integration</td>\n",
       "      <td id=\"T_621fe_row7_col1\" class=\"data row7 col1\" >40.000000</td>\n",
       "      <td id=\"T_621fe_row7_col2\" class=\"data row7 col2\" >['John Doe', 'Bob Smith']</td>\n",
       "    </tr>\n",
       "    <tr>\n",
       "      <th id=\"T_621fe_level0_row8\" class=\"row_heading level0 row8\" >8</th>\n",
       "      <td id=\"T_621fe_row8_col0\" class=\"data row8 col0\" >Unit Testing</td>\n",
       "      <td id=\"T_621fe_row8_col1\" class=\"data row8 col1\" >16.000000</td>\n",
       "      <td id=\"T_621fe_row8_col2\" class=\"data row8 col2\" >['Jane Doe', 'Alice Johnson']</td>\n",
       "    </tr>\n",
       "    <tr>\n",
       "      <th id=\"T_621fe_level0_row9\" class=\"row_heading level0 row9\" >9</th>\n",
       "      <td id=\"T_621fe_row9_col0\" class=\"data row9 col0\" >Integration Testing</td>\n",
       "      <td id=\"T_621fe_row9_col1\" class=\"data row9 col1\" >16.000000</td>\n",
       "      <td id=\"T_621fe_row9_col2\" class=\"data row9 col2\" >['Alice Johnson', 'Tom Brown']</td>\n",
       "    </tr>\n",
       "    <tr>\n",
       "      <th id=\"T_621fe_level0_row10\" class=\"row_heading level0 row10\" >10</th>\n",
       "      <td id=\"T_621fe_row10_col0\" class=\"data row10 col0\" >User Acceptance Testing</td>\n",
       "      <td id=\"T_621fe_row10_col1\" class=\"data row10 col1\" >16.000000</td>\n",
       "      <td id=\"T_621fe_row10_col2\" class=\"data row10 col2\" >['John Doe', 'Bob Smith']</td>\n",
       "    </tr>\n",
       "    <tr>\n",
       "      <th id=\"T_621fe_level0_row11\" class=\"row_heading level0 row11\" >11</th>\n",
       "      <td id=\"T_621fe_row11_col0\" class=\"data row11 col0\" >Bug Fixing & Issue Resolution</td>\n",
       "      <td id=\"T_621fe_row11_col1\" class=\"data row11 col1\" >16.000000</td>\n",
       "      <td id=\"T_621fe_row11_col2\" class=\"data row11 col2\" >['Jane Doe', 'Bob Smith']</td>\n",
       "    </tr>\n",
       "    <tr>\n",
       "      <th id=\"T_621fe_level0_row12\" class=\"row_heading level0 row12\" >12</th>\n",
       "      <td id=\"T_621fe_row12_col0\" class=\"data row12 col0\" >Website Deployment</td>\n",
       "      <td id=\"T_621fe_row12_col1\" class=\"data row12 col1\" >16.000000</td>\n",
       "      <td id=\"T_621fe_row12_col2\" class=\"data row12 col2\" >['Jane Doe']</td>\n",
       "    </tr>\n",
       "    <tr>\n",
       "      <th id=\"T_621fe_level0_row13\" class=\"row_heading level0 row13\" >13</th>\n",
       "      <td id=\"T_621fe_row13_col0\" class=\"data row13 col0\" >Launch Readiness Check</td>\n",
       "      <td id=\"T_621fe_row13_col1\" class=\"data row13 col1\" >16.000000</td>\n",
       "      <td id=\"T_621fe_row13_col2\" class=\"data row13 col2\" >['John Doe', 'Jane Doe', 'Bob Smith', 'Alice Johnson', 'Tom Brown']</td>\n",
       "    </tr>\n",
       "    <tr>\n",
       "      <th id=\"T_621fe_level0_row14\" class=\"row_heading level0 row14\" >14</th>\n",
       "      <td id=\"T_621fe_row14_col0\" class=\"data row14 col0\" >Website Go-Live</td>\n",
       "      <td id=\"T_621fe_row14_col1\" class=\"data row14 col1\" >16.000000</td>\n",
       "      <td id=\"T_621fe_row14_col2\" class=\"data row14 col2\" >['John Doe']</td>\n",
       "    </tr>\n",
       "  </tbody>\n",
       "</table>\n"
      ],
      "text/plain": [
       "<pandas.io.formats.style.Styler at 0x1feaa79a350>"
      ]
     },
     "execution_count": 100,
     "metadata": {},
     "output_type": "execute_result"
    }
   ],
   "source": [
    "tasks = result.pydantic.model_dump()['tasks']\n",
    "df_tasks = pd.DataFrame(tasks)\n",
    "\n",
    "# Display the DataFrame as an HTML table\n",
    "df_tasks.style.set_table_attributes('border=\"1\"').set_caption(\"Task Details\").set_table_styles(\n",
    "    [{'selector': 'th, td', 'props': [('font-size', '120%')]}]\n",
    ")\n",
    "df_tasks.to_csv(\"tasks.csv\", index=False)\n"
   ]
  },
  {
   "cell_type": "code",
   "execution_count": null,
   "id": "0a22bdfe",
   "metadata": {},
   "outputs": [
    {
     "data": {
      "text/html": [
       "<style type=\"text/css\">\n",
       "#T_32fcb th {\n",
       "  font-size: 120%;\n",
       "}\n",
       "#T_32fcb  td {\n",
       "  font-size: 120%;\n",
       "}\n",
       "</style>\n",
       "<table id=\"T_32fcb\" border=\"1\">\n",
       "  <caption>Task Details</caption>\n",
       "  <thead>\n",
       "    <tr>\n",
       "      <th class=\"blank level0\" >&nbsp;</th>\n",
       "      <th id=\"T_32fcb_level0_col0\" class=\"col_heading level0 col0\" >milestone_name</th>\n",
       "      <th id=\"T_32fcb_level0_col1\" class=\"col_heading level0 col1\" >tasks</th>\n",
       "    </tr>\n",
       "  </thead>\n",
       "  <tbody>\n",
       "    <tr>\n",
       "      <th id=\"T_32fcb_level0_row0\" class=\"row_heading level0 row0\" >0</th>\n",
       "      <td id=\"T_32fcb_row0_col0\" class=\"data row0 col0\" >Design Completion</td>\n",
       "      <td id=\"T_32fcb_row0_col1\" class=\"data row0 col1\" >['Requirements Gathering & Analysis', 'Sitemap Creation', 'Wireframing & Prototyping', 'User Flow & Navigation Design', 'Design Mockups']</td>\n",
       "    </tr>\n",
       "    <tr>\n",
       "      <th id=\"T_32fcb_level0_row1\" class=\"row_heading level0 row1\" >1</th>\n",
       "      <td id=\"T_32fcb_row1_col0\" class=\"data row1 col0\" >Development Completion</td>\n",
       "      <td id=\"T_32fcb_row1_col1\" class=\"data row1 col1\" >['Front-End Development', 'Back-End Development', 'Content Integration']</td>\n",
       "    </tr>\n",
       "    <tr>\n",
       "      <th id=\"T_32fcb_level0_row2\" class=\"row_heading level0 row2\" >2</th>\n",
       "      <td id=\"T_32fcb_row2_col0\" class=\"data row2 col0\" >Testing & Quality Assurance Complete</td>\n",
       "      <td id=\"T_32fcb_row2_col1\" class=\"data row2 col1\" >['Unit Testing', 'Integration Testing', 'User Acceptance Testing', 'Bug Fixing & Issue Resolution']</td>\n",
       "    </tr>\n",
       "    <tr>\n",
       "      <th id=\"T_32fcb_level0_row3\" class=\"row_heading level0 row3\" >3</th>\n",
       "      <td id=\"T_32fcb_row3_col0\" class=\"data row3 col0\" >Website Launch Ready</td>\n",
       "      <td id=\"T_32fcb_row3_col1\" class=\"data row3 col1\" >['Website Deployment', 'Launch Readiness Check']</td>\n",
       "    </tr>\n",
       "    <tr>\n",
       "      <th id=\"T_32fcb_level0_row4\" class=\"row_heading level0 row4\" >4</th>\n",
       "      <td id=\"T_32fcb_row4_col0\" class=\"data row4 col0\" >Website Go-Live</td>\n",
       "      <td id=\"T_32fcb_row4_col1\" class=\"data row4 col1\" >['Website Go-Live']</td>\n",
       "    </tr>\n",
       "  </tbody>\n",
       "</table>\n"
      ],
      "text/plain": [
       "<pandas.io.formats.style.Styler at 0x1feaaa90890>"
      ]
     },
     "execution_count": 102,
     "metadata": {},
     "output_type": "execute_result"
    }
   ],
   "source": [
    "milestones = result.pydantic.model_dump()['milestones']\n",
    "df_milestones = pd.DataFrame(milestones)\n",
    "\n",
    "# Display the DataFrame as an HTML table\n",
    "df_milestones.style.set_table_attributes('border=\"1\"').set_caption(\"Task Details\").set_table_styles(\n",
    "    [{'selector': 'th, td', 'props': [('font-size', '120%')]}]\n",
    "    \n",
    ")\n",
    "df_milestones.to_csv(\"milestones.csv\", index=False)\n"
   ]
  },
  {
   "cell_type": "code",
   "execution_count": null,
   "id": "4019836f",
   "metadata": {},
   "outputs": [],
   "source": []
  },
  {
   "cell_type": "code",
   "execution_count": null,
   "id": "a4ee1203",
   "metadata": {},
   "outputs": [],
   "source": []
  },
  {
   "cell_type": "code",
   "execution_count": null,
   "id": "b8582abe",
   "metadata": {},
   "outputs": [],
   "source": []
  },
  {
   "cell_type": "code",
   "execution_count": null,
   "id": "fac39c37",
   "metadata": {},
   "outputs": [],
   "source": []
  },
  {
   "cell_type": "code",
   "execution_count": null,
   "id": "ca8f360a",
   "metadata": {},
   "outputs": [],
   "source": []
  },
  {
   "cell_type": "code",
   "execution_count": null,
   "id": "abd89306",
   "metadata": {},
   "outputs": [],
   "source": []
  },
  {
   "cell_type": "code",
   "execution_count": null,
   "id": "bcbf266f",
   "metadata": {},
   "outputs": [],
   "source": []
  },
  {
   "cell_type": "code",
   "execution_count": null,
   "id": "bbf9fbf9",
   "metadata": {},
   "outputs": [],
   "source": []
  },
  {
   "cell_type": "code",
   "execution_count": null,
   "id": "66e9362b",
   "metadata": {},
   "outputs": [],
   "source": []
  },
  {
   "cell_type": "code",
   "execution_count": null,
   "id": "94345536",
   "metadata": {},
   "outputs": [],
   "source": []
  },
  {
   "cell_type": "code",
   "execution_count": null,
   "id": "f3cc59e5",
   "metadata": {},
   "outputs": [],
   "source": []
  },
  {
   "cell_type": "code",
   "execution_count": null,
   "id": "6fcab656",
   "metadata": {},
   "outputs": [],
   "source": []
  },
  {
   "cell_type": "code",
   "execution_count": null,
   "id": "3ce4724b",
   "metadata": {},
   "outputs": [],
   "source": []
  },
  {
   "cell_type": "code",
   "execution_count": null,
   "id": "586b5b3c",
   "metadata": {},
   "outputs": [],
   "source": []
  },
  {
   "cell_type": "code",
   "execution_count": null,
   "id": "06be6012",
   "metadata": {},
   "outputs": [],
   "source": []
  },
  {
   "cell_type": "code",
   "execution_count": null,
   "id": "3bb2f8a2",
   "metadata": {},
   "outputs": [],
   "source": []
  },
  {
   "cell_type": "code",
   "execution_count": null,
   "id": "432081eb",
   "metadata": {},
   "outputs": [],
   "source": []
  },
  {
   "cell_type": "code",
   "execution_count": null,
   "id": "1b1b4f64",
   "metadata": {},
   "outputs": [],
   "source": []
  },
  {
   "cell_type": "code",
   "execution_count": null,
   "id": "3e5dce25",
   "metadata": {},
   "outputs": [],
   "source": []
  }
 ],
 "metadata": {
  "kernelspec": {
   "display_name": ".venv",
   "language": "python",
   "name": "python3"
  },
  "language_info": {
   "codemirror_mode": {
    "name": "ipython",
    "version": 3
   },
   "file_extension": ".py",
   "mimetype": "text/x-python",
   "name": "python",
   "nbconvert_exporter": "python",
   "pygments_lexer": "ipython3",
   "version": "3.11.9"
  }
 },
 "nbformat": 4,
 "nbformat_minor": 5
}
