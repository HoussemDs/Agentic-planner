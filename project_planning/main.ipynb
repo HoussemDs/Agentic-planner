{
 "cells": [
  {
   "cell_type": "code",
   "execution_count": null,
   "id": "93dffb87",
   "metadata": {},
   "outputs": [],
   "source": [
    "%pip install crewai\n",
    "%pip install pandas"
   ]
  },
  {
   "cell_type": "code",
   "execution_count": 44,
   "id": "3a77e3c8",
   "metadata": {},
   "outputs": [
    {
     "name": "stdout",
     "output_type": "stream",
     "text": [
      "hello\n"
     ]
    }
   ],
   "source": [
    "print(\"hello\")"
   ]
  },
  {
   "cell_type": "code",
   "execution_count": 45,
   "id": "3b8495a9",
   "metadata": {},
   "outputs": [],
   "source": [
    "from crewai import Agent, Crew , Task, LLM\n",
    "import os\n",
    "import yaml"
   ]
  },
  {
   "cell_type": "code",
   "execution_count": 46,
   "id": "c061a981",
   "metadata": {},
   "outputs": [],
   "source": [
    "os.environ[\"GROQ_API_KEY\"]='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'\n",
    "\n",
    "llm = LLM(model='groq/gemma2-9b-it')"
   ]
  },
  {
   "cell_type": "code",
   "execution_count": 52,
   "id": "6221d789",
   "metadata": {},
   "outputs": [
    {
     "name": "stdout",
     "output_type": "stream",
     "text": [
      "agents\n",
      "tasks\n"
     ]
    }
   ],
   "source": [
    "files = {\n",
    "    'agents': 'config/agents.yaml',\n",
    "    'tasks': 'config/tasks.yaml'\n",
    "}\n",
    "\n",
    "configs ={}\n",
    "for config_type, file_path in files.items():\n",
    "    with open(file_path, 'r') as file:\n",
    "        configs[config_type] = yaml.safe_load(file)\n",
    "        print(config_type)\n",
    "agents_config = configs['agents']\n",
    "task_config = configs['tasks']"
   ]
  },
  {
   "cell_type": "code",
   "execution_count": null,
   "id": "3c622c9f",
   "metadata": {},
   "outputs": [],
   "source": []
  },
  {
   "cell_type": "code",
   "execution_count": 53,
   "id": "3c587097",
   "metadata": {},
   "outputs": [],
   "source": [
    "from typing import List\n",
    "from pydantic import BaseModel, Field\n",
    "\n",
    "class TaskEstimate(BaseModel):\n",
    "    task_name: str = Field(..., description=\"Name of the task\")\n",
    "    estimated_time_hours: float = Field(..., description=\"Estimated time to complete the task in hours\")\n",
    "    required_resources: List[str] = Field(..., description=\"List of resources required to complete the task\")\n",
    "\n",
    "class Milestone(BaseModel):\n",
    "    milestone_name: str = Field(..., description=\"Name of the milestone\")\n",
    "    tasks: List[str] = Field(..., description=\"List of task IDs associated with this milestone\")\n",
    "\n",
    "class ProjectPlan(BaseModel):\n",
    "    tasks: List[TaskEstimate] = Field(..., description=\"List of tasks with their estimates\")\n",
    "    milestones: List[Milestone] = Field(..., description=\"List of project milestones\") "
   ]
  },
  {
   "cell_type": "code",
   "execution_count": 54,
   "id": "6ebf1018",
   "metadata": {},
   "outputs": [],
   "source": [
    "# Creating Agents\n",
    "project_planning_agent = Agent(\n",
    "  config=agents_config['project_planning_agent'],\n",
    "  llm=llm\n",
    ")\n",
    "\n",
    "estimation_agent = Agent(\n",
    "  config=agents_config['estimation_agent'],\n",
    "  llm=llm\n",
    ")\n",
    "\n",
    "resource_allocation_agent = Agent(\n",
    "  config=agents_config['resource_allocation_agent'],\n",
    "  llm=llm\n",
    ")\n",
    "\n",
    "# Creating Tasks\n",
    "task_breakdown = Task(\n",
    "  config=task_config['task_breakdown'],\n",
    "  agent=project_planning_agent\n",
    ")\n",
    "\n",
    "time_resource_estimation = Task(\n",
    "  config=task_config['time_resource_estimation'],\n",
    "  agent=estimation_agent\n",
    ")\n",
    "\n",
    "resource_allocation = Task(\n",
    "  config=task_config['resource_allocation'],\n",
    "  agent=resource_allocation_agent,\n",
    "  output_pydantic=ProjectPlan # This is the structured output we want\n",
    ")\n",
    "\n",
    "# Creating Crew\n",
    "crew = Crew(\n",
    "  agents=[\n",
    "    project_planning_agent,\n",
    "    estimation_agent,\n",
    "    resource_allocation_agent\n",
    "  ],\n",
    "  tasks=[\n",
    "    task_breakdown,\n",
    "    time_resource_estimation,\n",
    "    resource_allocation\n",
    "  ],\n",
    "  verbose=True\n",
    ")"
   ]
  },
  {
   "cell_type": "code",
   "execution_count": 55,
   "id": "00414eed",
   "metadata": {},
   "outputs": [
    {
     "data": {
      "text/markdown": [
       "\n",
       "**Project Type:** Website\n",
       "\n",
       "**Project Objectives:** Create a website for a small business\n",
       "\n",
       "**Industry:** Technology\n",
       "\n",
       "**Team Members:**\n",
       "\n",
       "- John Doe (Project Manager)\n",
       "- Jane Doe (Software Engineer)\n",
       "- Bob Smith (Designer)\n",
       "- Alice Johnson (QA Engineer)\n",
       "- Tom Brown (QA Engineer)\n",
       "\n",
       "**Project Requirements:**\n",
       "\n",
       "- Create a responsive design that works well on desktop and mobile devices\n",
       "- Implement a modern, visually appealing user interface with a clean look\n",
       "- Develop a user-friendly navigation system with intuitive menu structure\n",
       "- Include an \"About Us\" page highlighting the company's history and values\n",
       "- Design a \"Services\" page showcasing the business's offerings with descriptions\n",
       "- Create a \"Contact Us\" page with a form and integrated map for communication\n",
       "- Implement a blog section for sharing industry news and company updates\n",
       "- Ensure fast loading times and optimize for search engines (SEO)\n",
       "- Integrate social media links and sharing capabilities\n",
       "- Include a testimonials section to showcase customer feedback and build trust\n",
       "\n"
      ],
      "text/plain": [
       "<IPython.core.display.Markdown object>"
      ]
     },
     "metadata": {},
     "output_type": "display_data"
    }
   ],
   "source": [
    "from IPython.display import display, Markdown\n",
    "\n",
    "project = 'Website'\n",
    "industry = 'Technology'\n",
    "project_objectives = 'Create a website for a small business'\n",
    "team_members = \"\"\"\n",
    "- John Doe (Project Manager)\n",
    "- Jane Doe (Software Engineer)\n",
    "- Bob Smith (Designer)\n",
    "- Alice Johnson (QA Engineer)\n",
    "- Tom Brown (QA Engineer)\n",
    "\"\"\"\n",
    "project_requirements = \"\"\"\n",
    "- Create a responsive design that works well on desktop and mobile devices\n",
    "- Implement a modern, visually appealing user interface with a clean look\n",
    "- Develop a user-friendly navigation system with intuitive menu structure\n",
    "- Include an \"About Us\" page highlighting the company's history and values\n",
    "- Design a \"Services\" page showcasing the business's offerings with descriptions\n",
    "- Create a \"Contact Us\" page with a form and integrated map for communication\n",
    "- Implement a blog section for sharing industry news and company updates\n",
    "- Ensure fast loading times and optimize for search engines (SEO)\n",
    "- Integrate social media links and sharing capabilities\n",
    "- Include a testimonials section to showcase customer feedback and build trust\n",
    "\"\"\"\n",
    "\n",
    "# Format the dictionary as Markdown for a better display in Jupyter Lab\n",
    "formatted_output = f\"\"\"\n",
    "**Project Type:** {project}\n",
    "\n",
    "**Project Objectives:** {project_objectives}\n",
    "\n",
    "**Industry:** {industry}\n",
    "\n",
    "**Team Members:**\n",
    "{team_members}\n",
    "**Project Requirements:**\n",
    "{project_requirements}\n",
    "\"\"\"\n",
    "# Display the formatted output as Markdown\n",
    "display(Markdown(formatted_output))"
   ]
  },
  {
   "cell_type": "code",
   "execution_count": 56,
   "id": "134654de",
   "metadata": {},
   "outputs": [
    {
     "data": {
      "text/html": [
       "<pre style=\"white-space:pre;overflow-x:auto;line-height:normal;font-family:Menlo,'DejaVu Sans Mono',consolas,'Courier New',monospace\"><span style=\"color: #008080; text-decoration-color: #008080\">╭──────────────────────────────────────────── Crew Execution Started ─────────────────────────────────────────────╮</span>\n",
       "<span style=\"color: #008080; text-decoration-color: #008080\">│</span>                                                                                                                 <span style=\"color: #008080; text-decoration-color: #008080\">│</span>\n",
       "<span style=\"color: #008080; text-decoration-color: #008080\">│</span>  <span style=\"color: #008080; text-decoration-color: #008080; font-weight: bold\">Crew Execution Started</span>                                                                                         <span style=\"color: #008080; text-decoration-color: #008080\">│</span>\n",
       "<span style=\"color: #008080; text-decoration-color: #008080\">│</span>  <span style=\"color: #c0c0c0; text-decoration-color: #c0c0c0\">Name: </span><span style=\"color: #008080; text-decoration-color: #008080\">crew</span>                                                                                                     <span style=\"color: #008080; text-decoration-color: #008080\">│</span>\n",
       "<span style=\"color: #008080; text-decoration-color: #008080\">│</span>  <span style=\"color: #c0c0c0; text-decoration-color: #c0c0c0\">ID: </span><span style=\"color: #008080; text-decoration-color: #008080\">73644d4b-8f32-4014-9d1b-d75b1f3c267a</span>                                                                       <span style=\"color: #008080; text-decoration-color: #008080\">│</span>\n",
       "<span style=\"color: #008080; text-decoration-color: #008080\">│</span>                                                                                                                 <span style=\"color: #008080; text-decoration-color: #008080\">│</span>\n",
       "<span style=\"color: #008080; text-decoration-color: #008080\">│</span>                                                                                                                 <span style=\"color: #008080; text-decoration-color: #008080\">│</span>\n",
       "<span style=\"color: #008080; text-decoration-color: #008080\">╰─────────────────────────────────────────────────────────────────────────────────────────────────────────────────╯</span>\n",
       "</pre>\n"
      ],
      "text/plain": [
       "\u001b[36m╭─\u001b[0m\u001b[36m───────────────────────────────────────────\u001b[0m\u001b[36m Crew Execution Started \u001b[0m\u001b[36m────────────────────────────────────────────\u001b[0m\u001b[36m─╮\u001b[0m\n",
       "\u001b[36m│\u001b[0m                                                                                                                 \u001b[36m│\u001b[0m\n",
       "\u001b[36m│\u001b[0m  \u001b[1;36mCrew Execution Started\u001b[0m                                                                                         \u001b[36m│\u001b[0m\n",
       "\u001b[36m│\u001b[0m  \u001b[37mName: \u001b[0m\u001b[36mcrew\u001b[0m                                                                                                     \u001b[36m│\u001b[0m\n",
       "\u001b[36m│\u001b[0m  \u001b[37mID: \u001b[0m\u001b[36m73644d4b-8f32-4014-9d1b-d75b1f3c267a\u001b[0m                                                                       \u001b[36m│\u001b[0m\n",
       "\u001b[36m│\u001b[0m                                                                                                                 \u001b[36m│\u001b[0m\n",
       "\u001b[36m│\u001b[0m                                                                                                                 \u001b[36m│\u001b[0m\n",
       "\u001b[36m╰─────────────────────────────────────────────────────────────────────────────────────────────────────────────────╯\u001b[0m\n"
      ]
     },
     "metadata": {},
     "output_type": "display_data"
    },
    {
     "data": {
      "text/html": [
       "<pre style=\"white-space:pre;overflow-x:auto;line-height:normal;font-family:Menlo,'DejaVu Sans Mono',consolas,'Courier New',monospace\">\n",
       "</pre>\n"
      ],
      "text/plain": [
       "\n"
      ]
     },
     "metadata": {},
     "output_type": "display_data"
    },
    {
     "data": {
      "text/html": [
       "<pre style=\"white-space:pre;overflow-x:auto;line-height:normal;font-family:Menlo,'DejaVu Sans Mono',consolas,'Courier New',monospace\"><span style=\"color: #008080; text-decoration-color: #008080; font-weight: bold\">🚀 Crew: crew</span>\n",
       "└── <span style=\"color: #808000; text-decoration-color: #808000; font-weight: bold\">📋 Task: c37efcb3-a1ca-4094-a01b-d006631c3a41</span>\n",
       "    <span style=\"color: #c0c0c0; text-decoration-color: #c0c0c0\">   Status: </span><span style=\"color: #bfbf7f; text-decoration-color: #bfbf7f\">Executing Task...</span>\n",
       "</pre>\n"
      ],
      "text/plain": [
       "\u001b[1;36m🚀 Crew: \u001b[0m\u001b[1;36mcrew\u001b[0m\n",
       "└── \u001b[1;33m📋 Task: c37efcb3-a1ca-4094-a01b-d006631c3a41\u001b[0m\n",
       "    \u001b[37m   Status: \u001b[0m\u001b[2;33mExecuting Task...\u001b[0m\n"
      ]
     },
     "metadata": {},
     "output_type": "display_data"
    },
    {
     "data": {
      "text/html": [
       "<pre style=\"white-space:pre;overflow-x:auto;line-height:normal;font-family:Menlo,'DejaVu Sans Mono',consolas,'Courier New',monospace\">\n",
       "</pre>\n"
      ],
      "text/plain": [
       "\n"
      ]
     },
     "metadata": {},
     "output_type": "display_data"
    },
    {
     "data": {
      "text/html": [
       "<pre style=\"white-space:pre;overflow-x:auto;line-height:normal;font-family:Menlo,'DejaVu Sans Mono',consolas,'Courier New',monospace\"><span style=\"color: #008080; text-decoration-color: #008080; font-weight: bold\">🚀 Crew: crew</span>\n",
       "└── <span style=\"color: #808000; text-decoration-color: #808000; font-weight: bold\">📋 Task: c37efcb3-a1ca-4094-a01b-d006631c3a41</span>\n",
       "    <span style=\"color: #c0c0c0; text-decoration-color: #c0c0c0\">   Status: </span><span style=\"color: #bfbf7f; text-decoration-color: #bfbf7f\">Executing Task...</span>\n",
       "    └── <span style=\"color: #008000; text-decoration-color: #008000; font-weight: bold\">🤖 Agent: </span><span style=\"color: #008000; text-decoration-color: #008000\">The Ultimate Project Planner</span>\n",
       "        \n",
       "        <span style=\"color: #c0c0c0; text-decoration-color: #c0c0c0\">    Status: </span><span style=\"color: #008000; text-decoration-color: #008000; font-weight: bold\">In Progress</span>\n",
       "</pre>\n"
      ],
      "text/plain": [
       "\u001b[1;36m🚀 Crew: \u001b[0m\u001b[1;36mcrew\u001b[0m\n",
       "└── \u001b[1;33m📋 Task: c37efcb3-a1ca-4094-a01b-d006631c3a41\u001b[0m\n",
       "    \u001b[37m   Status: \u001b[0m\u001b[2;33mExecuting Task...\u001b[0m\n",
       "    └── \u001b[1;32m🤖 Agent: \u001b[0m\u001b[32mThe Ultimate Project Planner\u001b[0m\n",
       "        \n",
       "        \u001b[37m    Status: \u001b[0m\u001b[1;32mIn Progress\u001b[0m\n"
      ]
     },
     "metadata": {},
     "output_type": "display_data"
    },
    {
     "data": {
      "text/html": [
       "<pre style=\"white-space:pre;overflow-x:auto;line-height:normal;font-family:Menlo,'DejaVu Sans Mono',consolas,'Courier New',monospace\">\n",
       "</pre>\n"
      ],
      "text/plain": [
       "\n"
      ]
     },
     "metadata": {},
     "output_type": "display_data"
    },
    {
     "name": "stdout",
     "output_type": "stream",
     "text": [
      "\u001b[1m\u001b[95m# Agent:\u001b[00m \u001b[1m\u001b[92mThe Ultimate Project Planner\u001b[00m\n",
      "\u001b[95m## Task:\u001b[00m \u001b[92mCarefully analyze the project_requirements for the Website\n",
      "project and break them down into individual tasks. Define each\n",
      "task's scope in detail, set achievable timelines, and ensure that\n",
      "all dependencies are accounted for:\n",
      "\n",
      "\n",
      "- Create a responsive design that works well on desktop and mobile devices\n",
      "- Implement a modern, visually appealing user interface with a clean look\n",
      "- Develop a user-friendly navigation system with intuitive menu structure\n",
      "- Include an \"About Us\" page highlighting the company's history and values\n",
      "- Design a \"Services\" page showcasing the business's offerings with descriptions\n",
      "- Create a \"Contact Us\" page with a form and integrated map for communication\n",
      "- Implement a blog section for sharing industry news and company updates\n",
      "- Ensure fast loading times and optimize for search engines (SEO)\n",
      "- Integrate social media links and sharing capabilities\n",
      "- Include a testimonials section to showcase customer feedback and build trust\n",
      "\n",
      "\n",
      "Team members:\n",
      "\n",
      "\n",
      "- John Doe (Project Manager)\n",
      "- Jane Doe (Software Engineer)\n",
      "- Bob Smith (Designer)\n",
      "- Alice Johnson (QA Engineer)\n",
      "- Tom Brown (QA Engineer)\n",
      "\n",
      "\u001b[00m\n",
      "\n",
      "\n",
      "\u001b[1m\u001b[95m# Agent:\u001b[00m \u001b[1m\u001b[92mThe Ultimate Project Planner\u001b[00m\n",
      "\u001b[95m## Final Answer:\u001b[00m \u001b[92m\n",
      "## Website Project Plan\n",
      "\n",
      "**Project Goal:**  Create a responsive and user-friendly website for a small business, showcasing their services, building trust, and driving engagement.\n",
      "\n",
      "**Timeline:** 8 Weeks\n",
      "\n",
      "**Team Members:**\n",
      "\n",
      "- **John Doe (Project Manager):** Overall project planning, task management, communication, and quality control.\n",
      "- **Jane Doe (Software Engineer):** Website development, front-end and back-end implementation, database integration.\n",
      "- **Bob Smith (Designer):**  UI/UX design, visual elements, branding integration, responsive design.\n",
      "- **Alice Johnson (QA Engineer):**  Functional testing, usability testing, browser compatibility testing.\n",
      "- **Tom Brown (QA Engineer):** Performance testing, security testing, cross-device testing.\n",
      "\n",
      "**Detailed Task Breakdown:** \n",
      "\n",
      "**Phase 1: Planning & Design (2 weeks)**\n",
      "\n",
      "| Task | Description | Time | Dependencies |   Deliverables | Team | \n",
      "|---|---|---|---|---|---|\n",
      "| **1.1  Project Kick-off Meeting** | Define project scope, gather client requirements, establish communication channels. | 1 day | N/A | Meeting minutes, project scope document | John Doe |\n",
      "| **1.2  Competitor Analysis** | Research competitors' websites, identify best practices and areas for differentiation. | 2 days | 1.1 | Competitor analysis report | Bob Smith |\n",
      "| **1.3  Target Audience Research** | Define the website's target audience, understand their needs and browsing habits. | 2 days | 1.1 | Target audience profile | Bob Smith |\n",
      "| **1.4  Website Structure & Sitemap** | Map out the website's hierarchical structure and navigation flow. | 3 days | 1.2, 1.3 | Sitemap document, site structure diagram | Bob Smith, John Doe |\n",
      "| **1.5  Wireframing** | Create low-fidelity wireframes for key pages, defining content placement and layout. | 3 days | 1.4 | Wireframe mockups  | Bob Smith |\n",
      "| **1.6  Design Concepts & Mockups** | Develop 2-3 high-fidelity design concepts, visualizing the website's visual style and branding. | 3 days | 1.5 | Design concept presentations, high-fidelity mockups | Bob Smith |\n",
      "| **1.7  Client Review & Approval** | Present design concepts to the client, incorporate feedback, and finalize the website design. | 2 days | 1.6 | Approved design mockups | Bob Smith, John Doe |\n",
      "\n",
      "**Phase 2: Development (3 weeks)**\n",
      "\n",
      "| Task | Description | Time | Dependencies |  Deliverables | Team |\n",
      "|---|---|---|---|---|---|\n",
      "| **2.1  Front-end Development** | Develop the website's front-end using HTML, CSS, and JavaScript, ensuring responsiveness and cross-browser compatibility. | 10 days | 1.7 | Functional front-end code | Jane Doe |\n",
      "| **2.2  Back-end Development** | Set up the website's server-side logic, database integration, and APIs, ensuring data security and backend functionality. | 10 days | 1.7 | Functional back-end code, database setup | Jane Doe | \n",
      "| **2.3  Content Integration** | Populate the website with provided content, ensuring proper formatting and optimization for SEO. | 5 days | 2.1, 2.2 | Content populated website | John Doe, Bob Smith |\n",
      "| **2.4  Plugin & Integration Development** | Integrate necessary plugins for functionality such as contact forms, social media feeds, and analytics tracking. | 5 days | 2.1, 2.2 | Integrated plugins, functional integrations | Jane Doe |\n",
      "\n",
      "**Phase 3: Testing & Launch (3 weeks)**\n",
      "\n",
      "| Task | Description | Time | Dependencies | Deliverables | Team |\n",
      "|---|---|---|---|---|---|\n",
      "| **3.1  Usability Testing** | Conduct user testing to evaluate the website's ease of navigation, user experience, and overall usability. | 3 days | 2.3 | Usability testing report, improvements documentation | Alice Johnson, Bob Smith |\n",
      "| **3.2  Functional Testing** | Verify all website functionalities, forms, links, and interactions are working as intended. | 5 days | 2.3 | Test case documentation, bug reports | Alice Johnson, Tom Brown |\n",
      "| **3.3  Security Testing** | Identify and mitigate potential security vulnerabilities, ensuring data protection and secure user access. | 3 days | 2.3 | Security audit report, implemented security measures | Tom Brown |\n",
      "| **3.4  Performance Optimization** | Optimize website load speed, image sizes, and code efficiency for faster page loading times. | 5 days | 2.3 | Performance test report, optimized website files | Jane Doe, Tom Brown |\n",
      "| **3.5  Final Launch Review** | Conduct a final review of all website elements, ensuring all bugs are fixed, content is accurate, and SEO is optimized. | 2 days | 3.1-3.4 | Launch checklist, website go-live document | John Doe, Bob Smith, Jane Doe, Alice Johnson, Tom Brown |\n",
      "| **3.6  Website Launch** | Deploy the website to the live server, making it accessible to the public. | 1 day | 3.5 | Launched website with documented access details | John Doe, Jane Doe |\n",
      "\n",
      "**Gantt Chart:**\n",
      "\n",
      "[Insert Gantt Chart Visualization Here]\n",
      "\n",
      "**Note:**\n",
      "\n",
      "- This is a flexible plan and can be adjusted based on project needs and priorities.  \n",
      "- Regular communication and team meetings are crucial for maintaining project momentum and addressing any roadblocks.\u001b[00m\n",
      "\n",
      "\n"
     ]
    },
    {
     "data": {
      "text/html": [
       "<pre style=\"white-space:pre;overflow-x:auto;line-height:normal;font-family:Menlo,'DejaVu Sans Mono',consolas,'Courier New',monospace\"><span style=\"color: #008080; text-decoration-color: #008080; font-weight: bold\">🚀 Crew: crew</span>\n",
       "└── <span style=\"color: #808000; text-decoration-color: #808000; font-weight: bold\">📋 Task: c37efcb3-a1ca-4094-a01b-d006631c3a41</span>\n",
       "    <span style=\"color: #c0c0c0; text-decoration-color: #c0c0c0\">   Status: </span><span style=\"color: #bfbf7f; text-decoration-color: #bfbf7f\">Executing Task...</span>\n",
       "    └── <span style=\"color: #008000; text-decoration-color: #008000; font-weight: bold\">🤖 Agent: </span><span style=\"color: #008000; text-decoration-color: #008000\">The Ultimate Project Planner</span>\n",
       "        \n",
       "        <span style=\"color: #c0c0c0; text-decoration-color: #c0c0c0\">    Status: </span><span style=\"color: #008000; text-decoration-color: #008000; font-weight: bold\">✅ Completed</span>\n",
       "</pre>\n"
      ],
      "text/plain": [
       "\u001b[1;36m🚀 Crew: \u001b[0m\u001b[1;36mcrew\u001b[0m\n",
       "└── \u001b[1;33m📋 Task: c37efcb3-a1ca-4094-a01b-d006631c3a41\u001b[0m\n",
       "    \u001b[37m   Status: \u001b[0m\u001b[2;33mExecuting Task...\u001b[0m\n",
       "    └── \u001b[1;32m🤖 Agent: \u001b[0m\u001b[32mThe Ultimate Project Planner\u001b[0m\n",
       "        \n",
       "        \u001b[37m    Status: \u001b[0m\u001b[1;32m✅ Completed\u001b[0m\n"
      ]
     },
     "metadata": {},
     "output_type": "display_data"
    },
    {
     "data": {
      "text/html": [
       "<pre style=\"white-space:pre;overflow-x:auto;line-height:normal;font-family:Menlo,'DejaVu Sans Mono',consolas,'Courier New',monospace\">\n",
       "</pre>\n"
      ],
      "text/plain": [
       "\n"
      ]
     },
     "metadata": {},
     "output_type": "display_data"
    },
    {
     "data": {
      "text/html": [
       "<pre style=\"white-space:pre;overflow-x:auto;line-height:normal;font-family:Menlo,'DejaVu Sans Mono',consolas,'Courier New',monospace\"><span style=\"color: #008080; text-decoration-color: #008080; font-weight: bold\">🚀 Crew: crew</span>\n",
       "└── <span style=\"color: #008000; text-decoration-color: #008000; font-weight: bold\">📋 Task: c37efcb3-a1ca-4094-a01b-d006631c3a41</span>\n",
       "    <span style=\"color: #c0c0c0; text-decoration-color: #c0c0c0\">   Assigned to: </span><span style=\"color: #008000; text-decoration-color: #008000\">The Ultimate Project Planner</span>\n",
       "    \n",
       "    <span style=\"color: #c0c0c0; text-decoration-color: #c0c0c0\">   Status: </span><span style=\"color: #008000; text-decoration-color: #008000; font-weight: bold\">✅ Completed</span>\n",
       "    └── <span style=\"color: #008000; text-decoration-color: #008000; font-weight: bold\">🤖 Agent: </span><span style=\"color: #008000; text-decoration-color: #008000\">The Ultimate Project Planner</span>\n",
       "        \n",
       "        <span style=\"color: #c0c0c0; text-decoration-color: #c0c0c0\">    Status: </span><span style=\"color: #008000; text-decoration-color: #008000; font-weight: bold\">✅ Completed</span>\n",
       "</pre>\n"
      ],
      "text/plain": [
       "\u001b[1;36m🚀 Crew: \u001b[0m\u001b[1;36mcrew\u001b[0m\n",
       "└── \u001b[1;32m📋 Task: c37efcb3-a1ca-4094-a01b-d006631c3a41\u001b[0m\n",
       "    \u001b[37m   Assigned to: \u001b[0m\u001b[32mThe Ultimate Project Planner\u001b[0m\n",
       "    \n",
       "    \u001b[37m   Status: \u001b[0m\u001b[1;32m✅ Completed\u001b[0m\n",
       "    └── \u001b[1;32m🤖 Agent: \u001b[0m\u001b[32mThe Ultimate Project Planner\u001b[0m\n",
       "        \n",
       "        \u001b[37m    Status: \u001b[0m\u001b[1;32m✅ Completed\u001b[0m\n"
      ]
     },
     "metadata": {},
     "output_type": "display_data"
    },
    {
     "data": {
      "text/html": [
       "<pre style=\"white-space:pre;overflow-x:auto;line-height:normal;font-family:Menlo,'DejaVu Sans Mono',consolas,'Courier New',monospace\"><span style=\"color: #008000; text-decoration-color: #008000\">╭──────────────────────────────────────────────── Task Completion ────────────────────────────────────────────────╮</span>\n",
       "<span style=\"color: #008000; text-decoration-color: #008000\">│</span>                                                                                                                 <span style=\"color: #008000; text-decoration-color: #008000\">│</span>\n",
       "<span style=\"color: #008000; text-decoration-color: #008000\">│</span>  <span style=\"color: #008000; text-decoration-color: #008000; font-weight: bold\">Task Completed</span>                                                                                                 <span style=\"color: #008000; text-decoration-color: #008000\">│</span>\n",
       "<span style=\"color: #008000; text-decoration-color: #008000\">│</span>  <span style=\"color: #c0c0c0; text-decoration-color: #c0c0c0\">Name: </span><span style=\"color: #008000; text-decoration-color: #008000\">c37efcb3-a1ca-4094-a01b-d006631c3a41</span>                                                                     <span style=\"color: #008000; text-decoration-color: #008000\">│</span>\n",
       "<span style=\"color: #008000; text-decoration-color: #008000\">│</span>  <span style=\"color: #c0c0c0; text-decoration-color: #c0c0c0\">Agent: </span><span style=\"color: #008000; text-decoration-color: #008000\">The Ultimate Project Planner</span>                                                                            <span style=\"color: #008000; text-decoration-color: #008000\">│</span>\n",
       "<span style=\"color: #008000; text-decoration-color: #008000\">│</span>                                                                                                                 <span style=\"color: #008000; text-decoration-color: #008000\">│</span>\n",
       "<span style=\"color: #008000; text-decoration-color: #008000\">│</span>                                                                                                                 <span style=\"color: #008000; text-decoration-color: #008000\">│</span>\n",
       "<span style=\"color: #008000; text-decoration-color: #008000\">│</span>                                                                                                                 <span style=\"color: #008000; text-decoration-color: #008000\">│</span>\n",
       "<span style=\"color: #008000; text-decoration-color: #008000\">╰─────────────────────────────────────────────────────────────────────────────────────────────────────────────────╯</span>\n",
       "</pre>\n"
      ],
      "text/plain": [
       "\u001b[32m╭─\u001b[0m\u001b[32m───────────────────────────────────────────────\u001b[0m\u001b[32m Task Completion \u001b[0m\u001b[32m───────────────────────────────────────────────\u001b[0m\u001b[32m─╮\u001b[0m\n",
       "\u001b[32m│\u001b[0m                                                                                                                 \u001b[32m│\u001b[0m\n",
       "\u001b[32m│\u001b[0m  \u001b[1;32mTask Completed\u001b[0m                                                                                                 \u001b[32m│\u001b[0m\n",
       "\u001b[32m│\u001b[0m  \u001b[37mName: \u001b[0m\u001b[32mc37efcb3-a1ca-4094-a01b-d006631c3a41\u001b[0m                                                                     \u001b[32m│\u001b[0m\n",
       "\u001b[32m│\u001b[0m  \u001b[37mAgent: \u001b[0m\u001b[32mThe Ultimate Project Planner\u001b[0m                                                                            \u001b[32m│\u001b[0m\n",
       "\u001b[32m│\u001b[0m                                                                                                                 \u001b[32m│\u001b[0m\n",
       "\u001b[32m│\u001b[0m                                                                                                                 \u001b[32m│\u001b[0m\n",
       "\u001b[32m│\u001b[0m                                                                                                                 \u001b[32m│\u001b[0m\n",
       "\u001b[32m╰─────────────────────────────────────────────────────────────────────────────────────────────────────────────────╯\u001b[0m\n"
      ]
     },
     "metadata": {},
     "output_type": "display_data"
    },
    {
     "data": {
      "text/html": [
       "<pre style=\"white-space:pre;overflow-x:auto;line-height:normal;font-family:Menlo,'DejaVu Sans Mono',consolas,'Courier New',monospace\">\n",
       "</pre>\n"
      ],
      "text/plain": [
       "\n"
      ]
     },
     "metadata": {},
     "output_type": "display_data"
    },
    {
     "data": {
      "text/html": [
       "<pre style=\"white-space:pre;overflow-x:auto;line-height:normal;font-family:Menlo,'DejaVu Sans Mono',consolas,'Courier New',monospace\"><span style=\"color: #008080; text-decoration-color: #008080; font-weight: bold\">🚀 Crew: crew</span>\n",
       "├── <span style=\"color: #008000; text-decoration-color: #008000; font-weight: bold\">📋 Task: c37efcb3-a1ca-4094-a01b-d006631c3a41</span>\n",
       "│   <span style=\"color: #c0c0c0; text-decoration-color: #c0c0c0\">   Assigned to: </span><span style=\"color: #008000; text-decoration-color: #008000\">The Ultimate Project Planner</span>\n",
       "│   \n",
       "│   <span style=\"color: #c0c0c0; text-decoration-color: #c0c0c0\">   Status: </span><span style=\"color: #008000; text-decoration-color: #008000; font-weight: bold\">✅ Completed</span>\n",
       "│   └── <span style=\"color: #008000; text-decoration-color: #008000; font-weight: bold\">🤖 Agent: </span><span style=\"color: #008000; text-decoration-color: #008000\">The Ultimate Project Planner</span>\n",
       "│       \n",
       "│       <span style=\"color: #c0c0c0; text-decoration-color: #c0c0c0\">    Status: </span><span style=\"color: #008000; text-decoration-color: #008000; font-weight: bold\">✅ Completed</span>\n",
       "└── <span style=\"color: #808000; text-decoration-color: #808000; font-weight: bold\">📋 Task: 62d06aa6-8cf3-429c-b43d-295c807b682c</span>\n",
       "    <span style=\"color: #c0c0c0; text-decoration-color: #c0c0c0\">   Status: </span><span style=\"color: #bfbf7f; text-decoration-color: #bfbf7f\">Executing Task...</span>\n",
       "</pre>\n"
      ],
      "text/plain": [
       "\u001b[1;36m🚀 Crew: \u001b[0m\u001b[1;36mcrew\u001b[0m\n",
       "├── \u001b[1;32m📋 Task: c37efcb3-a1ca-4094-a01b-d006631c3a41\u001b[0m\n",
       "│   \u001b[37m   Assigned to: \u001b[0m\u001b[32mThe Ultimate Project Planner\u001b[0m\n",
       "│   \n",
       "│   \u001b[37m   Status: \u001b[0m\u001b[1;32m✅ Completed\u001b[0m\n",
       "│   └── \u001b[1;32m🤖 Agent: \u001b[0m\u001b[32mThe Ultimate Project Planner\u001b[0m\n",
       "│       \n",
       "│       \u001b[37m    Status: \u001b[0m\u001b[1;32m✅ Completed\u001b[0m\n",
       "└── \u001b[1;33m📋 Task: 62d06aa6-8cf3-429c-b43d-295c807b682c\u001b[0m\n",
       "    \u001b[37m   Status: \u001b[0m\u001b[2;33mExecuting Task...\u001b[0m\n"
      ]
     },
     "metadata": {},
     "output_type": "display_data"
    },
    {
     "data": {
      "text/html": [
       "<pre style=\"white-space:pre;overflow-x:auto;line-height:normal;font-family:Menlo,'DejaVu Sans Mono',consolas,'Courier New',monospace\">\n",
       "</pre>\n"
      ],
      "text/plain": [
       "\n"
      ]
     },
     "metadata": {},
     "output_type": "display_data"
    },
    {
     "data": {
      "text/html": [
       "<pre style=\"white-space:pre;overflow-x:auto;line-height:normal;font-family:Menlo,'DejaVu Sans Mono',consolas,'Courier New',monospace\"><span style=\"color: #008080; text-decoration-color: #008080; font-weight: bold\">🚀 Crew: crew</span>\n",
       "├── <span style=\"color: #008000; text-decoration-color: #008000; font-weight: bold\">📋 Task: c37efcb3-a1ca-4094-a01b-d006631c3a41</span>\n",
       "│   <span style=\"color: #c0c0c0; text-decoration-color: #c0c0c0\">   Assigned to: </span><span style=\"color: #008000; text-decoration-color: #008000\">The Ultimate Project Planner</span>\n",
       "│   \n",
       "│   <span style=\"color: #c0c0c0; text-decoration-color: #c0c0c0\">   Status: </span><span style=\"color: #008000; text-decoration-color: #008000; font-weight: bold\">✅ Completed</span>\n",
       "│   └── <span style=\"color: #008000; text-decoration-color: #008000; font-weight: bold\">🤖 Agent: </span><span style=\"color: #008000; text-decoration-color: #008000\">The Ultimate Project Planner</span>\n",
       "│       \n",
       "│       <span style=\"color: #c0c0c0; text-decoration-color: #c0c0c0\">    Status: </span><span style=\"color: #008000; text-decoration-color: #008000; font-weight: bold\">✅ Completed</span>\n",
       "└── <span style=\"color: #808000; text-decoration-color: #808000; font-weight: bold\">📋 Task: 62d06aa6-8cf3-429c-b43d-295c807b682c</span>\n",
       "    <span style=\"color: #c0c0c0; text-decoration-color: #c0c0c0\">   Status: </span><span style=\"color: #bfbf7f; text-decoration-color: #bfbf7f\">Executing Task...</span>\n",
       "    └── <span style=\"color: #008000; text-decoration-color: #008000; font-weight: bold\">🤖 Agent: </span><span style=\"color: #008000; text-decoration-color: #008000\">Expert Estimation Analyst</span>\n",
       "        \n",
       "        <span style=\"color: #c0c0c0; text-decoration-color: #c0c0c0\">    Status: </span><span style=\"color: #008000; text-decoration-color: #008000; font-weight: bold\">In Progress</span>\n",
       "</pre>\n"
      ],
      "text/plain": [
       "\u001b[1;36m🚀 Crew: \u001b[0m\u001b[1;36mcrew\u001b[0m\n",
       "├── \u001b[1;32m📋 Task: c37efcb3-a1ca-4094-a01b-d006631c3a41\u001b[0m\n",
       "│   \u001b[37m   Assigned to: \u001b[0m\u001b[32mThe Ultimate Project Planner\u001b[0m\n",
       "│   \n",
       "│   \u001b[37m   Status: \u001b[0m\u001b[1;32m✅ Completed\u001b[0m\n",
       "│   └── \u001b[1;32m🤖 Agent: \u001b[0m\u001b[32mThe Ultimate Project Planner\u001b[0m\n",
       "│       \n",
       "│       \u001b[37m    Status: \u001b[0m\u001b[1;32m✅ Completed\u001b[0m\n",
       "└── \u001b[1;33m📋 Task: 62d06aa6-8cf3-429c-b43d-295c807b682c\u001b[0m\n",
       "    \u001b[37m   Status: \u001b[0m\u001b[2;33mExecuting Task...\u001b[0m\n",
       "    └── \u001b[1;32m🤖 Agent: \u001b[0m\u001b[32mExpert Estimation Analyst\u001b[0m\n",
       "        \n",
       "        \u001b[37m    Status: \u001b[0m\u001b[1;32mIn Progress\u001b[0m\n"
      ]
     },
     "metadata": {},
     "output_type": "display_data"
    },
    {
     "data": {
      "text/html": [
       "<pre style=\"white-space:pre;overflow-x:auto;line-height:normal;font-family:Menlo,'DejaVu Sans Mono',consolas,'Courier New',monospace\">\n",
       "</pre>\n"
      ],
      "text/plain": [
       "\n"
      ]
     },
     "metadata": {},
     "output_type": "display_data"
    },
    {
     "name": "stdout",
     "output_type": "stream",
     "text": [
      "\u001b[1m\u001b[95m# Agent:\u001b[00m \u001b[1m\u001b[92mExpert Estimation Analyst\u001b[00m\n",
      "\u001b[95m## Task:\u001b[00m \u001b[92mThoroughly evaluate each task in the Website project to\n",
      "estimate the time, resources, and effort required.\n",
      "Use historical data, task complexity, and available resources to\n",
      "provide a realistic estimation for each task.\n",
      "\u001b[00m\n",
      "\n",
      "\n",
      "\u001b[1m\u001b[95m# Agent:\u001b[00m \u001b[1m\u001b[92mExpert Estimation Analyst\u001b[00m\n",
      "\u001b[95m## Final Answer:\u001b[00m \u001b[92m\n",
      "## Website Project Estimation Report\n",
      "\n",
      "**Project Goal:** Create a responsive and user-friendly website for a small business, showcasing their services, building trust, and driving engagement.\n",
      "\n",
      "**Estimated Timeline:** 8 Weeks\n",
      "\n",
      "**Team Members:**\n",
      "\n",
      "- **John Doe (Project Manager):** Overall project planning, task management, communication, and quality control.\n",
      "- **Jane Doe (Software Engineer):** Website development, front-end and back-end implementation, database integration.\n",
      "- **Bob Smith (Designer):**  UI/UX design, visual elements, branding integration, responsive design.\n",
      "- **Alice Johnson (QA Engineer):**  Functional testing, usability testing, browser compatibility testing.\n",
      "- **Tom Brown (QA Engineer):** Performance testing, security testing, cross-device testing.\n",
      "\n",
      "**Detailed Task Breakdown with Estimations:**\n",
      "\n",
      "**Phase 1: Planning & Design (2 weeks)**\n",
      "\n",
      "| Task | Description | Time (Days) | Resources | Effort (Person-Days) | Dependencies |  Deliverables | Risks/Uncertainties |\n",
      "|---|---|---|---|---|---|---|---|\n",
      "| **1.1  Project Kick-off Meeting** | Define project scope, gather client requirements, establish communication channels. | 1 | John Doe | 1 | N/A | Meeting minutes, project scope document | Scope creep, uncertain client requirements |\n",
      "| **1.2  Competitor Analysis** | Research competitors' websites, identify best practices and areas for differentiation. | 2 | Bob Smith | 2 | 1.1 | Competitor analysis report | Finding limited comparable websites |\n",
      "| **1.3  Target Audience Research** | Define the website's target audience, understand their needs and browsing habits. | 2 | Bob Smith | 2 | 1.1 | Target audience profile | Inaccurate client-provided information about target audience |\n",
      "| **1.4  Website Structure & Sitemap** | Map out the website's hierarchical structure and navigation flow. | 3 | Bob Smith, John Doe | 4 | 1.2, 1.3 | Sitemap document, site structure diagram | Project scope changes affecting the website structure |\n",
      "| **1.5  Wireframing** | Create low-fidelity wireframes for key pages, defining content placement and layout. | 3 | Bob Smith | 3 | 1.4 | Wireframe mockups | Difficulty translating client vision into wireframes |\n",
      "| **1.6  Design Concepts & Mockups** | Develop 2-3 high-fidelity design concepts, visualizing the website's visual style and branding. | 3 | Bob Smith | 3 | 1.5 | Design concept presentations, high-fidelity mockups | Client feedback delays, requiring design iterations |\n",
      "| **1.7  Client Review & Approval** | Present design concepts to the client, incorporate feedback, and finalize the website design. | 2 | Bob Smith, John Doe | 3 | 1.6 | Approved design mockups | Client disagreements on design direction, leading to rework |\n",
      "\n",
      "**Phase 2: Development (3 weeks)**\n",
      "\n",
      "| Task | Description | Time (Days) | Resources | Effort (Person-Days) | Dependencies |  Deliverables | Risks/Uncertainties |\n",
      "|---|---|---|---|---|---|---|---|\n",
      "| **2.1  Front-end Development** | Develop the website's front-end using HTML, CSS, and JavaScript, ensuring responsiveness and cross-browser compatibility. | 10 | Jane Doe | 10 | 1.7 | Functional front-end code | Unforeseen browser rendering issues, requiring code adjustments |\n",
      "| **2.2  Back-end Development** | Set up the website's server-side logic, database integration, and APIs, ensuring data security and backend functionality.  | 10 | Jane Doe | 10 | 1.7 | Functional back-end code, database setup | Complexity of database schema, requiring additional design and development time | \n",
      "| **2.3  Content Integration** | Populate the website with provided content, ensuring proper formatting and optimization for SEO. | 5 | John Doe, Bob Smith | 6 | 2.1, 2.2 | Content populated website | Inconsistent or incomplete content provided by the client |\n",
      "| **2.4  Plugin & Integration Development** | Integrate necessary plugins for functionality such as contact forms, social media feeds, and analytics tracking. | 5 | Jane Doe | 5 | 2.1, 2.2 | Integrated plugins, functional integrations | Plugin compatibility issues, requiring custom integration solutions |\n",
      "\n",
      "**Phase 3: Testing & Launch (3 weeks)**\n",
      "\n",
      "| Task | Description | Time (Days) | Resources | Effort (Person-Days) | Dependencies | Deliverables | Risks/Uncertainties |\n",
      "|---|---|---|---|---|---|---|---|\n",
      "| **3.1  Usability Testing** | Conduct user testing to evaluate the website's ease of navigation, user experience, and overall usability. | 3 | Alice Johnson, Bob Smith | 3 | 2.3 | Usability testing report, improvements documentation | Difficulty recruiting representative testers |\n",
      "| **3.2  Functional Testing** | Verify all website functionalities, forms, links, and interactions are working as intended. | 5 | Alice Johnson, Tom Brown | 8 | 2.3 | Test case documentation, bug reports | Discovering critical functionality issues late in the development cycle |\n",
      "| **3.3  Security Testing** | Identify and mitigate potential security vulnerabilities, ensuring data protection and secure user access. | 3 | Tom Brown | 3 | 2.3 | Security audit report, implemented security measures | Emerging security threats requiring constant adaptation of security measures |\n",
      "| **3.4  Performance Optimization** | Optimize website load speed, image sizes, and code efficiency for faster page loading times. | 5 | Jane Doe, Tom Brown | 5 | 2.3 | Performance test report, optimized website files | Hardware limitations affecting website performance |\n",
      "| **3.5  Final Launch Review** | Conduct a final review of all website elements, ensuring all bugs are fixed, content is accurate, and SEO is optimized. | 2 | John Doe, Bob Smith, Jane Doe, Alice Johnson, Tom Brown | 9 | 3.1-3.4 | Launch checklist, website go-live document | Unexpected technical issues during the final stage  |\n",
      "| **3.6  Website Launch** | Deploy the website to the live server, making it accessible to the public. | 1 | John Doe, Jane Doe | 2 | 3.5 | Launched website with documented access details | Network connectivity issues leading to delays in the launch process |\n",
      "\n",
      "\n",
      "\n",
      "**Important Notes:**\n",
      "\n",
      "-  The estimations provided are based on historical data, task complexity, and pre-existing information about the project.\n",
      "- Regular communication and collaboration are crucial for accurate progress tracking and adjustments throughout the project lifecycle.\n",
      "- This report assumes efficient resource allocation and a general understanding of project dependencies.\u001b[00m\n",
      "\n",
      "\n"
     ]
    },
    {
     "data": {
      "text/html": [
       "<pre style=\"white-space:pre;overflow-x:auto;line-height:normal;font-family:Menlo,'DejaVu Sans Mono',consolas,'Courier New',monospace\"><span style=\"color: #008080; text-decoration-color: #008080; font-weight: bold\">🚀 Crew: crew</span>\n",
       "├── <span style=\"color: #008000; text-decoration-color: #008000; font-weight: bold\">📋 Task: c37efcb3-a1ca-4094-a01b-d006631c3a41</span>\n",
       "│   <span style=\"color: #c0c0c0; text-decoration-color: #c0c0c0\">   Assigned to: </span><span style=\"color: #008000; text-decoration-color: #008000\">The Ultimate Project Planner</span>\n",
       "│   \n",
       "│   <span style=\"color: #c0c0c0; text-decoration-color: #c0c0c0\">   Status: </span><span style=\"color: #008000; text-decoration-color: #008000; font-weight: bold\">✅ Completed</span>\n",
       "│   └── <span style=\"color: #008000; text-decoration-color: #008000; font-weight: bold\">🤖 Agent: </span><span style=\"color: #008000; text-decoration-color: #008000\">The Ultimate Project Planner</span>\n",
       "│       \n",
       "│       <span style=\"color: #c0c0c0; text-decoration-color: #c0c0c0\">    Status: </span><span style=\"color: #008000; text-decoration-color: #008000; font-weight: bold\">✅ Completed</span>\n",
       "└── <span style=\"color: #808000; text-decoration-color: #808000; font-weight: bold\">📋 Task: 62d06aa6-8cf3-429c-b43d-295c807b682c</span>\n",
       "    <span style=\"color: #c0c0c0; text-decoration-color: #c0c0c0\">   Status: </span><span style=\"color: #bfbf7f; text-decoration-color: #bfbf7f\">Executing Task...</span>\n",
       "    └── <span style=\"color: #008000; text-decoration-color: #008000; font-weight: bold\">🤖 Agent: </span><span style=\"color: #008000; text-decoration-color: #008000\">Expert Estimation Analyst</span>\n",
       "        \n",
       "        <span style=\"color: #c0c0c0; text-decoration-color: #c0c0c0\">    Status: </span><span style=\"color: #008000; text-decoration-color: #008000; font-weight: bold\">✅ Completed</span>\n",
       "</pre>\n"
      ],
      "text/plain": [
       "\u001b[1;36m🚀 Crew: \u001b[0m\u001b[1;36mcrew\u001b[0m\n",
       "├── \u001b[1;32m📋 Task: c37efcb3-a1ca-4094-a01b-d006631c3a41\u001b[0m\n",
       "│   \u001b[37m   Assigned to: \u001b[0m\u001b[32mThe Ultimate Project Planner\u001b[0m\n",
       "│   \n",
       "│   \u001b[37m   Status: \u001b[0m\u001b[1;32m✅ Completed\u001b[0m\n",
       "│   └── \u001b[1;32m🤖 Agent: \u001b[0m\u001b[32mThe Ultimate Project Planner\u001b[0m\n",
       "│       \n",
       "│       \u001b[37m    Status: \u001b[0m\u001b[1;32m✅ Completed\u001b[0m\n",
       "└── \u001b[1;33m📋 Task: 62d06aa6-8cf3-429c-b43d-295c807b682c\u001b[0m\n",
       "    \u001b[37m   Status: \u001b[0m\u001b[2;33mExecuting Task...\u001b[0m\n",
       "    └── \u001b[1;32m🤖 Agent: \u001b[0m\u001b[32mExpert Estimation Analyst\u001b[0m\n",
       "        \n",
       "        \u001b[37m    Status: \u001b[0m\u001b[1;32m✅ Completed\u001b[0m\n"
      ]
     },
     "metadata": {},
     "output_type": "display_data"
    },
    {
     "data": {
      "text/html": [
       "<pre style=\"white-space:pre;overflow-x:auto;line-height:normal;font-family:Menlo,'DejaVu Sans Mono',consolas,'Courier New',monospace\">\n",
       "</pre>\n"
      ],
      "text/plain": [
       "\n"
      ]
     },
     "metadata": {},
     "output_type": "display_data"
    },
    {
     "data": {
      "text/html": [
       "<pre style=\"white-space:pre;overflow-x:auto;line-height:normal;font-family:Menlo,'DejaVu Sans Mono',consolas,'Courier New',monospace\"><span style=\"color: #008080; text-decoration-color: #008080; font-weight: bold\">🚀 Crew: crew</span>\n",
       "├── <span style=\"color: #008000; text-decoration-color: #008000; font-weight: bold\">📋 Task: c37efcb3-a1ca-4094-a01b-d006631c3a41</span>\n",
       "│   <span style=\"color: #c0c0c0; text-decoration-color: #c0c0c0\">   Assigned to: </span><span style=\"color: #008000; text-decoration-color: #008000\">The Ultimate Project Planner</span>\n",
       "│   \n",
       "│   <span style=\"color: #c0c0c0; text-decoration-color: #c0c0c0\">   Status: </span><span style=\"color: #008000; text-decoration-color: #008000; font-weight: bold\">✅ Completed</span>\n",
       "│   └── <span style=\"color: #008000; text-decoration-color: #008000; font-weight: bold\">🤖 Agent: </span><span style=\"color: #008000; text-decoration-color: #008000\">The Ultimate Project Planner</span>\n",
       "│       \n",
       "│       <span style=\"color: #c0c0c0; text-decoration-color: #c0c0c0\">    Status: </span><span style=\"color: #008000; text-decoration-color: #008000; font-weight: bold\">✅ Completed</span>\n",
       "└── <span style=\"color: #008000; text-decoration-color: #008000; font-weight: bold\">📋 Task: 62d06aa6-8cf3-429c-b43d-295c807b682c</span>\n",
       "    <span style=\"color: #c0c0c0; text-decoration-color: #c0c0c0\">   Assigned to: </span><span style=\"color: #008000; text-decoration-color: #008000\">Expert Estimation Analyst</span>\n",
       "    \n",
       "    <span style=\"color: #c0c0c0; text-decoration-color: #c0c0c0\">   Status: </span><span style=\"color: #008000; text-decoration-color: #008000; font-weight: bold\">✅ Completed</span>\n",
       "    └── <span style=\"color: #008000; text-decoration-color: #008000; font-weight: bold\">🤖 Agent: </span><span style=\"color: #008000; text-decoration-color: #008000\">Expert Estimation Analyst</span>\n",
       "        \n",
       "        <span style=\"color: #c0c0c0; text-decoration-color: #c0c0c0\">    Status: </span><span style=\"color: #008000; text-decoration-color: #008000; font-weight: bold\">✅ Completed</span>\n",
       "</pre>\n"
      ],
      "text/plain": [
       "\u001b[1;36m🚀 Crew: \u001b[0m\u001b[1;36mcrew\u001b[0m\n",
       "├── \u001b[1;32m📋 Task: c37efcb3-a1ca-4094-a01b-d006631c3a41\u001b[0m\n",
       "│   \u001b[37m   Assigned to: \u001b[0m\u001b[32mThe Ultimate Project Planner\u001b[0m\n",
       "│   \n",
       "│   \u001b[37m   Status: \u001b[0m\u001b[1;32m✅ Completed\u001b[0m\n",
       "│   └── \u001b[1;32m🤖 Agent: \u001b[0m\u001b[32mThe Ultimate Project Planner\u001b[0m\n",
       "│       \n",
       "│       \u001b[37m    Status: \u001b[0m\u001b[1;32m✅ Completed\u001b[0m\n",
       "└── \u001b[1;32m📋 Task: 62d06aa6-8cf3-429c-b43d-295c807b682c\u001b[0m\n",
       "    \u001b[37m   Assigned to: \u001b[0m\u001b[32mExpert Estimation Analyst\u001b[0m\n",
       "    \n",
       "    \u001b[37m   Status: \u001b[0m\u001b[1;32m✅ Completed\u001b[0m\n",
       "    └── \u001b[1;32m🤖 Agent: \u001b[0m\u001b[32mExpert Estimation Analyst\u001b[0m\n",
       "        \n",
       "        \u001b[37m    Status: \u001b[0m\u001b[1;32m✅ Completed\u001b[0m\n"
      ]
     },
     "metadata": {},
     "output_type": "display_data"
    },
    {
     "data": {
      "text/html": [
       "<pre style=\"white-space:pre;overflow-x:auto;line-height:normal;font-family:Menlo,'DejaVu Sans Mono',consolas,'Courier New',monospace\"><span style=\"color: #008000; text-decoration-color: #008000\">╭──────────────────────────────────────────────── Task Completion ────────────────────────────────────────────────╮</span>\n",
       "<span style=\"color: #008000; text-decoration-color: #008000\">│</span>                                                                                                                 <span style=\"color: #008000; text-decoration-color: #008000\">│</span>\n",
       "<span style=\"color: #008000; text-decoration-color: #008000\">│</span>  <span style=\"color: #008000; text-decoration-color: #008000; font-weight: bold\">Task Completed</span>                                                                                                 <span style=\"color: #008000; text-decoration-color: #008000\">│</span>\n",
       "<span style=\"color: #008000; text-decoration-color: #008000\">│</span>  <span style=\"color: #c0c0c0; text-decoration-color: #c0c0c0\">Name: </span><span style=\"color: #008000; text-decoration-color: #008000\">62d06aa6-8cf3-429c-b43d-295c807b682c</span>                                                                     <span style=\"color: #008000; text-decoration-color: #008000\">│</span>\n",
       "<span style=\"color: #008000; text-decoration-color: #008000\">│</span>  <span style=\"color: #c0c0c0; text-decoration-color: #c0c0c0\">Agent: </span><span style=\"color: #008000; text-decoration-color: #008000\">Expert Estimation Analyst</span>                                                                               <span style=\"color: #008000; text-decoration-color: #008000\">│</span>\n",
       "<span style=\"color: #008000; text-decoration-color: #008000\">│</span>                                                                                                                 <span style=\"color: #008000; text-decoration-color: #008000\">│</span>\n",
       "<span style=\"color: #008000; text-decoration-color: #008000\">│</span>                                                                                                                 <span style=\"color: #008000; text-decoration-color: #008000\">│</span>\n",
       "<span style=\"color: #008000; text-decoration-color: #008000\">│</span>                                                                                                                 <span style=\"color: #008000; text-decoration-color: #008000\">│</span>\n",
       "<span style=\"color: #008000; text-decoration-color: #008000\">╰─────────────────────────────────────────────────────────────────────────────────────────────────────────────────╯</span>\n",
       "</pre>\n"
      ],
      "text/plain": [
       "\u001b[32m╭─\u001b[0m\u001b[32m───────────────────────────────────────────────\u001b[0m\u001b[32m Task Completion \u001b[0m\u001b[32m───────────────────────────────────────────────\u001b[0m\u001b[32m─╮\u001b[0m\n",
       "\u001b[32m│\u001b[0m                                                                                                                 \u001b[32m│\u001b[0m\n",
       "\u001b[32m│\u001b[0m  \u001b[1;32mTask Completed\u001b[0m                                                                                                 \u001b[32m│\u001b[0m\n",
       "\u001b[32m│\u001b[0m  \u001b[37mName: \u001b[0m\u001b[32m62d06aa6-8cf3-429c-b43d-295c807b682c\u001b[0m                                                                     \u001b[32m│\u001b[0m\n",
       "\u001b[32m│\u001b[0m  \u001b[37mAgent: \u001b[0m\u001b[32mExpert Estimation Analyst\u001b[0m                                                                               \u001b[32m│\u001b[0m\n",
       "\u001b[32m│\u001b[0m                                                                                                                 \u001b[32m│\u001b[0m\n",
       "\u001b[32m│\u001b[0m                                                                                                                 \u001b[32m│\u001b[0m\n",
       "\u001b[32m│\u001b[0m                                                                                                                 \u001b[32m│\u001b[0m\n",
       "\u001b[32m╰─────────────────────────────────────────────────────────────────────────────────────────────────────────────────╯\u001b[0m\n"
      ]
     },
     "metadata": {},
     "output_type": "display_data"
    },
    {
     "data": {
      "text/html": [
       "<pre style=\"white-space:pre;overflow-x:auto;line-height:normal;font-family:Menlo,'DejaVu Sans Mono',consolas,'Courier New',monospace\">\n",
       "</pre>\n"
      ],
      "text/plain": [
       "\n"
      ]
     },
     "metadata": {},
     "output_type": "display_data"
    },
    {
     "data": {
      "text/html": [
       "<pre style=\"white-space:pre;overflow-x:auto;line-height:normal;font-family:Menlo,'DejaVu Sans Mono',consolas,'Courier New',monospace\"><span style=\"color: #008080; text-decoration-color: #008080; font-weight: bold\">🚀 Crew: crew</span>\n",
       "├── <span style=\"color: #008000; text-decoration-color: #008000; font-weight: bold\">📋 Task: c37efcb3-a1ca-4094-a01b-d006631c3a41</span>\n",
       "│   <span style=\"color: #c0c0c0; text-decoration-color: #c0c0c0\">   Assigned to: </span><span style=\"color: #008000; text-decoration-color: #008000\">The Ultimate Project Planner</span>\n",
       "│   \n",
       "│   <span style=\"color: #c0c0c0; text-decoration-color: #c0c0c0\">   Status: </span><span style=\"color: #008000; text-decoration-color: #008000; font-weight: bold\">✅ Completed</span>\n",
       "│   └── <span style=\"color: #008000; text-decoration-color: #008000; font-weight: bold\">🤖 Agent: </span><span style=\"color: #008000; text-decoration-color: #008000\">The Ultimate Project Planner</span>\n",
       "│       \n",
       "│       <span style=\"color: #c0c0c0; text-decoration-color: #c0c0c0\">    Status: </span><span style=\"color: #008000; text-decoration-color: #008000; font-weight: bold\">✅ Completed</span>\n",
       "├── <span style=\"color: #008000; text-decoration-color: #008000; font-weight: bold\">📋 Task: 62d06aa6-8cf3-429c-b43d-295c807b682c</span>\n",
       "│   <span style=\"color: #c0c0c0; text-decoration-color: #c0c0c0\">   Assigned to: </span><span style=\"color: #008000; text-decoration-color: #008000\">Expert Estimation Analyst</span>\n",
       "│   \n",
       "│   <span style=\"color: #c0c0c0; text-decoration-color: #c0c0c0\">   Status: </span><span style=\"color: #008000; text-decoration-color: #008000; font-weight: bold\">✅ Completed</span>\n",
       "│   └── <span style=\"color: #008000; text-decoration-color: #008000; font-weight: bold\">🤖 Agent: </span><span style=\"color: #008000; text-decoration-color: #008000\">Expert Estimation Analyst</span>\n",
       "│       \n",
       "│       <span style=\"color: #c0c0c0; text-decoration-color: #c0c0c0\">    Status: </span><span style=\"color: #008000; text-decoration-color: #008000; font-weight: bold\">✅ Completed</span>\n",
       "└── <span style=\"color: #808000; text-decoration-color: #808000; font-weight: bold\">📋 Task: 135a1272-9964-49ac-908b-ec90af07ef68</span>\n",
       "    <span style=\"color: #c0c0c0; text-decoration-color: #c0c0c0\">   Status: </span><span style=\"color: #bfbf7f; text-decoration-color: #bfbf7f\">Executing Task...</span>\n",
       "</pre>\n"
      ],
      "text/plain": [
       "\u001b[1;36m🚀 Crew: \u001b[0m\u001b[1;36mcrew\u001b[0m\n",
       "├── \u001b[1;32m📋 Task: c37efcb3-a1ca-4094-a01b-d006631c3a41\u001b[0m\n",
       "│   \u001b[37m   Assigned to: \u001b[0m\u001b[32mThe Ultimate Project Planner\u001b[0m\n",
       "│   \n",
       "│   \u001b[37m   Status: \u001b[0m\u001b[1;32m✅ Completed\u001b[0m\n",
       "│   └── \u001b[1;32m🤖 Agent: \u001b[0m\u001b[32mThe Ultimate Project Planner\u001b[0m\n",
       "│       \n",
       "│       \u001b[37m    Status: \u001b[0m\u001b[1;32m✅ Completed\u001b[0m\n",
       "├── \u001b[1;32m📋 Task: 62d06aa6-8cf3-429c-b43d-295c807b682c\u001b[0m\n",
       "│   \u001b[37m   Assigned to: \u001b[0m\u001b[32mExpert Estimation Analyst\u001b[0m\n",
       "│   \n",
       "│   \u001b[37m   Status: \u001b[0m\u001b[1;32m✅ Completed\u001b[0m\n",
       "│   └── \u001b[1;32m🤖 Agent: \u001b[0m\u001b[32mExpert Estimation Analyst\u001b[0m\n",
       "│       \n",
       "│       \u001b[37m    Status: \u001b[0m\u001b[1;32m✅ Completed\u001b[0m\n",
       "└── \u001b[1;33m📋 Task: 135a1272-9964-49ac-908b-ec90af07ef68\u001b[0m\n",
       "    \u001b[37m   Status: \u001b[0m\u001b[2;33mExecuting Task...\u001b[0m\n"
      ]
     },
     "metadata": {},
     "output_type": "display_data"
    },
    {
     "data": {
      "text/html": [
       "<pre style=\"white-space:pre;overflow-x:auto;line-height:normal;font-family:Menlo,'DejaVu Sans Mono',consolas,'Courier New',monospace\">\n",
       "</pre>\n"
      ],
      "text/plain": [
       "\n"
      ]
     },
     "metadata": {},
     "output_type": "display_data"
    },
    {
     "data": {
      "text/html": [
       "<pre style=\"white-space:pre;overflow-x:auto;line-height:normal;font-family:Menlo,'DejaVu Sans Mono',consolas,'Courier New',monospace\"><span style=\"color: #008080; text-decoration-color: #008080; font-weight: bold\">🚀 Crew: crew</span>\n",
       "├── <span style=\"color: #008000; text-decoration-color: #008000; font-weight: bold\">📋 Task: c37efcb3-a1ca-4094-a01b-d006631c3a41</span>\n",
       "│   <span style=\"color: #c0c0c0; text-decoration-color: #c0c0c0\">   Assigned to: </span><span style=\"color: #008000; text-decoration-color: #008000\">The Ultimate Project Planner</span>\n",
       "│   \n",
       "│   <span style=\"color: #c0c0c0; text-decoration-color: #c0c0c0\">   Status: </span><span style=\"color: #008000; text-decoration-color: #008000; font-weight: bold\">✅ Completed</span>\n",
       "│   └── <span style=\"color: #008000; text-decoration-color: #008000; font-weight: bold\">🤖 Agent: </span><span style=\"color: #008000; text-decoration-color: #008000\">The Ultimate Project Planner</span>\n",
       "│       \n",
       "│       <span style=\"color: #c0c0c0; text-decoration-color: #c0c0c0\">    Status: </span><span style=\"color: #008000; text-decoration-color: #008000; font-weight: bold\">✅ Completed</span>\n",
       "├── <span style=\"color: #008000; text-decoration-color: #008000; font-weight: bold\">📋 Task: 62d06aa6-8cf3-429c-b43d-295c807b682c</span>\n",
       "│   <span style=\"color: #c0c0c0; text-decoration-color: #c0c0c0\">   Assigned to: </span><span style=\"color: #008000; text-decoration-color: #008000\">Expert Estimation Analyst</span>\n",
       "│   \n",
       "│   <span style=\"color: #c0c0c0; text-decoration-color: #c0c0c0\">   Status: </span><span style=\"color: #008000; text-decoration-color: #008000; font-weight: bold\">✅ Completed</span>\n",
       "│   └── <span style=\"color: #008000; text-decoration-color: #008000; font-weight: bold\">🤖 Agent: </span><span style=\"color: #008000; text-decoration-color: #008000\">Expert Estimation Analyst</span>\n",
       "│       \n",
       "│       <span style=\"color: #c0c0c0; text-decoration-color: #c0c0c0\">    Status: </span><span style=\"color: #008000; text-decoration-color: #008000; font-weight: bold\">✅ Completed</span>\n",
       "└── <span style=\"color: #808000; text-decoration-color: #808000; font-weight: bold\">📋 Task: 135a1272-9964-49ac-908b-ec90af07ef68</span>\n",
       "    <span style=\"color: #c0c0c0; text-decoration-color: #c0c0c0\">   Status: </span><span style=\"color: #bfbf7f; text-decoration-color: #bfbf7f\">Executing Task...</span>\n",
       "    └── <span style=\"color: #008000; text-decoration-color: #008000; font-weight: bold\">🤖 Agent: </span><span style=\"color: #008000; text-decoration-color: #008000\">Strategic Resource Allocator</span>\n",
       "        \n",
       "        <span style=\"color: #c0c0c0; text-decoration-color: #c0c0c0\">    Status: </span><span style=\"color: #008000; text-decoration-color: #008000; font-weight: bold\">In Progress</span>\n",
       "</pre>\n"
      ],
      "text/plain": [
       "\u001b[1;36m🚀 Crew: \u001b[0m\u001b[1;36mcrew\u001b[0m\n",
       "├── \u001b[1;32m📋 Task: c37efcb3-a1ca-4094-a01b-d006631c3a41\u001b[0m\n",
       "│   \u001b[37m   Assigned to: \u001b[0m\u001b[32mThe Ultimate Project Planner\u001b[0m\n",
       "│   \n",
       "│   \u001b[37m   Status: \u001b[0m\u001b[1;32m✅ Completed\u001b[0m\n",
       "│   └── \u001b[1;32m🤖 Agent: \u001b[0m\u001b[32mThe Ultimate Project Planner\u001b[0m\n",
       "│       \n",
       "│       \u001b[37m    Status: \u001b[0m\u001b[1;32m✅ Completed\u001b[0m\n",
       "├── \u001b[1;32m📋 Task: 62d06aa6-8cf3-429c-b43d-295c807b682c\u001b[0m\n",
       "│   \u001b[37m   Assigned to: \u001b[0m\u001b[32mExpert Estimation Analyst\u001b[0m\n",
       "│   \n",
       "│   \u001b[37m   Status: \u001b[0m\u001b[1;32m✅ Completed\u001b[0m\n",
       "│   └── \u001b[1;32m🤖 Agent: \u001b[0m\u001b[32mExpert Estimation Analyst\u001b[0m\n",
       "│       \n",
       "│       \u001b[37m    Status: \u001b[0m\u001b[1;32m✅ Completed\u001b[0m\n",
       "└── \u001b[1;33m📋 Task: 135a1272-9964-49ac-908b-ec90af07ef68\u001b[0m\n",
       "    \u001b[37m   Status: \u001b[0m\u001b[2;33mExecuting Task...\u001b[0m\n",
       "    └── \u001b[1;32m🤖 Agent: \u001b[0m\u001b[32mStrategic Resource Allocator\u001b[0m\n",
       "        \n",
       "        \u001b[37m    Status: \u001b[0m\u001b[1;32mIn Progress\u001b[0m\n"
      ]
     },
     "metadata": {},
     "output_type": "display_data"
    },
    {
     "data": {
      "text/html": [
       "<pre style=\"white-space:pre;overflow-x:auto;line-height:normal;font-family:Menlo,'DejaVu Sans Mono',consolas,'Courier New',monospace\">\n",
       "</pre>\n"
      ],
      "text/plain": [
       "\n"
      ]
     },
     "metadata": {},
     "output_type": "display_data"
    },
    {
     "name": "stdout",
     "output_type": "stream",
     "text": [
      "\u001b[1m\u001b[95m# Agent:\u001b[00m \u001b[1m\u001b[92mStrategic Resource Allocator\u001b[00m\n",
      "\u001b[95m## Task:\u001b[00m \u001b[92mStrategically allocate tasks for the Website project to\n",
      "team members based on their skills, availability, and current\n",
      "workload. Ensure that each task is assigned to the most suitable\n",
      "person to maximize productivity and avoid bottlenecks.\n",
      "\u001b[00m\n",
      "\n",
      "\n",
      "\u001b[1m\u001b[95m# Agent:\u001b[00m \u001b[1m\u001b[92mStrategic Resource Allocator\u001b[00m\n",
      "\u001b[95m## Final Answer:\u001b[00m \u001b[92m\n",
      "{\n",
      "  \"tasks\": [\n",
      "    {\n",
      "      \"task_name\": \"Project Kick-off Meeting\",\n",
      "      \"estimated_time_hours\": 8,\n",
      "      \"required_resources\": [\n",
      "        \"John Doe\"\n",
      "      ]\n",
      "    },\n",
      "    {\n",
      "      \"task_name\": \"Competitor Analysis\",\n",
      "      \"estimated_time_hours\": 16,\n",
      "      \"required_resources\": [\n",
      "        \"Bob Smith\"\n",
      "      ]\n",
      "    },\n",
      "    {\n",
      "      \"task_name\": \"Target Audience Research\",\n",
      "      \"estimated_time_hours\": 16,\n",
      "      \"required_resources\": [\n",
      "        \"Bob Smith\"\n",
      "      ]\n",
      "    },\n",
      "    {\n",
      "      \"task_name\": \"Website Structure & Sitemap\",\n",
      "      \"estimated_time_hours\": 24,\n",
      "      \"required_resources\": [\n",
      "        \"Bob Smith\",\n",
      "        \"John Doe\"\n",
      "      ]\n",
      "    },\n",
      "    {\n",
      "      \"task_name\": \"Wireframing\",\n",
      "      \"estimated_time_hours\": 24,\n",
      "      \"required_resources\": [\n",
      "        \"Bob Smith\"\n",
      "      ]\n",
      "    },\n",
      "    {\n",
      "      \"task_name\": \"Design Concepts & Mockups\",\n",
      "      \"estimated_time_hours\": 24,\n",
      "      \"required_resources\": [\n",
      "        \"Bob Smith\"\n",
      "      ]\n",
      "    },\n",
      "    {\n",
      "      \"task_name\": \"Client Review & Approval\",\n",
      "      \"estimated_time_hours\": 16,\n",
      "      \"required_resources\": [\n",
      "        \"Bob Smith\",\n",
      "        \"John Doe\"\n",
      "      ]\n",
      "    },\n",
      "    {\n",
      "      \"task_name\": \"Front-end Development\",\n",
      "      \"estimated_time_hours\": 80,\n",
      "      \"required_resources\": [\n",
      "        \"Jane Doe\"\n",
      "      ]\n",
      "    },\n",
      "    {\n",
      "      \"task_name\": \"Back-end Development\",\n",
      "      \"estimated_time_hours\": 80,\n",
      "      \"required_resources\": [\n",
      "        \"Jane Doe\"\n",
      "      ]\n",
      "    },\n",
      "    {\n",
      "      \"task_name\": \"Content Integration\",\n",
      "      \"estimated_time_hours\": 40,\n",
      "      \"required_resources\": [\n",
      "        \"John Doe\",\n",
      "        \"Bob Smith\"\n",
      "      ]\n",
      "    },\n",
      "    {\n",
      "      \"task_name\": \"Plugin & Integration Development\",\n",
      "      \"estimated_time_hours\": 40,\n",
      "      \"required_resources\": [\n",
      "        \"Jane Doe\"\n",
      "      ]\n",
      "    },\n",
      "    {\n",
      "      \"task_name\": \"Usability Testing\",\n",
      "      \"estimated_time_hours\": 24,\n",
      "      \"required_resources\": [\n",
      "        \"Alice Johnson\",\n",
      "        \"Bob Smith\"\n",
      "      ]\n",
      "    },\n",
      "    {\n",
      "      \"task_name\": \"Functional Testing\",\n",
      "      \"estimated_time_hours\": 40,\n",
      "      \"required_resources\": [\n",
      "        \"Alice Johnson\",\n",
      "        \"Tom Brown\"\n",
      "      ]\n",
      "    },\n",
      "    {\n",
      "      \"task_name\": \"Security Testing\",\n",
      "      \"estimated_time_hours\": 24,\n",
      "      \"required_resources\": [\n",
      "        \"Tom Brown\"\n",
      "      ]\n",
      "    },\n",
      "    {\n",
      "      \"task_name\": \"Performance Optimization\",\n",
      "      \"estimated_time_hours\": 40,\n",
      "      \"required_resources\": [\n",
      "        \"Jane Doe\",\n",
      "        \"Tom Brown\"\n",
      "      ]\n",
      "    },\n",
      "    {\n",
      "      \"task_name\": \"Final Launch Review\",\n",
      "      \"estimated_time_hours\": 16,\n",
      "      \"required_resources\": [\n",
      "        \"John Doe\",\n",
      "        \"Bob Smith\",\n",
      "        \"Jane Doe\",\n",
      "        \"Alice Johnson\",\n",
      "        \"Tom Brown\"\n",
      "      ]\n",
      "    },\n",
      "    {\n",
      "      \"task_name\": \"Website Launch\",\n",
      "      \"estimated_time_hours\": 8,\n",
      "      \"required_resources\": [\n",
      "        \"John Doe\",\n",
      "        \"Jane Doe\"\n",
      "      ]\n",
      "    }\n",
      "  ],\n",
      "  \"milestones\": [\n",
      "    {\n",
      "      \"milestone_name\": \"Planning & Design Complete\",\n",
      "      \"tasks\": [\n",
      "        \"Project Kick-off Meeting\",\n",
      "        \"Competitor Analysis\",\n",
      "        \"Target Audience Research\",\n",
      "        \"Website Structure & Sitemap\",\n",
      "        \"Wireframing\",\n",
      "        \"Design Concepts & Mockups\",\n",
      "        \"Client Review & Approval\"\n",
      "      ]\n",
      "    },\n",
      "    {\n",
      "      \"milestone_name\": \"Development Complete\",\n",
      "      \"tasks\": [\n",
      "        \"Front-end Development\",\n",
      "        \"Back-end Development\",\n",
      "        \"Content Integration\",\n",
      "        \"Plugin & Integration Development\"\n",
      "      ]\n",
      "    },\n",
      "    {\n",
      "      \"milestone_name\": \"Testing Complete\",\n",
      "      \"tasks\": [\n",
      "        \"Usability Testing\",\n",
      "        \"Functional Testing\",\n",
      "        \"Security Testing\",\n",
      "        \"Performance Optimization\"\n",
      "      ]\n",
      "    },\n",
      "    {\n",
      "      \"milestone_name\": \"Website Launch\",\n",
      "      \"tasks\": [\n",
      "        \"Final Launch Review\",\n",
      "        \"Website Launch\"\n",
      "      ]\n",
      "    }\n",
      "  ]\n",
      "}\u001b[00m\n",
      "\n",
      "\n"
     ]
    },
    {
     "data": {
      "text/html": [
       "<pre style=\"white-space:pre;overflow-x:auto;line-height:normal;font-family:Menlo,'DejaVu Sans Mono',consolas,'Courier New',monospace\"><span style=\"color: #008080; text-decoration-color: #008080; font-weight: bold\">🚀 Crew: crew</span>\n",
       "├── <span style=\"color: #008000; text-decoration-color: #008000; font-weight: bold\">📋 Task: c37efcb3-a1ca-4094-a01b-d006631c3a41</span>\n",
       "│   <span style=\"color: #c0c0c0; text-decoration-color: #c0c0c0\">   Assigned to: </span><span style=\"color: #008000; text-decoration-color: #008000\">The Ultimate Project Planner</span>\n",
       "│   \n",
       "│   <span style=\"color: #c0c0c0; text-decoration-color: #c0c0c0\">   Status: </span><span style=\"color: #008000; text-decoration-color: #008000; font-weight: bold\">✅ Completed</span>\n",
       "│   └── <span style=\"color: #008000; text-decoration-color: #008000; font-weight: bold\">🤖 Agent: </span><span style=\"color: #008000; text-decoration-color: #008000\">The Ultimate Project Planner</span>\n",
       "│       \n",
       "│       <span style=\"color: #c0c0c0; text-decoration-color: #c0c0c0\">    Status: </span><span style=\"color: #008000; text-decoration-color: #008000; font-weight: bold\">✅ Completed</span>\n",
       "├── <span style=\"color: #008000; text-decoration-color: #008000; font-weight: bold\">📋 Task: 62d06aa6-8cf3-429c-b43d-295c807b682c</span>\n",
       "│   <span style=\"color: #c0c0c0; text-decoration-color: #c0c0c0\">   Assigned to: </span><span style=\"color: #008000; text-decoration-color: #008000\">Expert Estimation Analyst</span>\n",
       "│   \n",
       "│   <span style=\"color: #c0c0c0; text-decoration-color: #c0c0c0\">   Status: </span><span style=\"color: #008000; text-decoration-color: #008000; font-weight: bold\">✅ Completed</span>\n",
       "│   └── <span style=\"color: #008000; text-decoration-color: #008000; font-weight: bold\">🤖 Agent: </span><span style=\"color: #008000; text-decoration-color: #008000\">Expert Estimation Analyst</span>\n",
       "│       \n",
       "│       <span style=\"color: #c0c0c0; text-decoration-color: #c0c0c0\">    Status: </span><span style=\"color: #008000; text-decoration-color: #008000; font-weight: bold\">✅ Completed</span>\n",
       "└── <span style=\"color: #808000; text-decoration-color: #808000; font-weight: bold\">📋 Task: 135a1272-9964-49ac-908b-ec90af07ef68</span>\n",
       "    <span style=\"color: #c0c0c0; text-decoration-color: #c0c0c0\">   Status: </span><span style=\"color: #bfbf7f; text-decoration-color: #bfbf7f\">Executing Task...</span>\n",
       "    └── <span style=\"color: #008000; text-decoration-color: #008000; font-weight: bold\">🤖 Agent: </span><span style=\"color: #008000; text-decoration-color: #008000\">Strategic Resource Allocator</span>\n",
       "        \n",
       "        <span style=\"color: #c0c0c0; text-decoration-color: #c0c0c0\">    Status: </span><span style=\"color: #008000; text-decoration-color: #008000; font-weight: bold\">✅ Completed</span>\n",
       "</pre>\n"
      ],
      "text/plain": [
       "\u001b[1;36m🚀 Crew: \u001b[0m\u001b[1;36mcrew\u001b[0m\n",
       "├── \u001b[1;32m📋 Task: c37efcb3-a1ca-4094-a01b-d006631c3a41\u001b[0m\n",
       "│   \u001b[37m   Assigned to: \u001b[0m\u001b[32mThe Ultimate Project Planner\u001b[0m\n",
       "│   \n",
       "│   \u001b[37m   Status: \u001b[0m\u001b[1;32m✅ Completed\u001b[0m\n",
       "│   └── \u001b[1;32m🤖 Agent: \u001b[0m\u001b[32mThe Ultimate Project Planner\u001b[0m\n",
       "│       \n",
       "│       \u001b[37m    Status: \u001b[0m\u001b[1;32m✅ Completed\u001b[0m\n",
       "├── \u001b[1;32m📋 Task: 62d06aa6-8cf3-429c-b43d-295c807b682c\u001b[0m\n",
       "│   \u001b[37m   Assigned to: \u001b[0m\u001b[32mExpert Estimation Analyst\u001b[0m\n",
       "│   \n",
       "│   \u001b[37m   Status: \u001b[0m\u001b[1;32m✅ Completed\u001b[0m\n",
       "│   └── \u001b[1;32m🤖 Agent: \u001b[0m\u001b[32mExpert Estimation Analyst\u001b[0m\n",
       "│       \n",
       "│       \u001b[37m    Status: \u001b[0m\u001b[1;32m✅ Completed\u001b[0m\n",
       "└── \u001b[1;33m📋 Task: 135a1272-9964-49ac-908b-ec90af07ef68\u001b[0m\n",
       "    \u001b[37m   Status: \u001b[0m\u001b[2;33mExecuting Task...\u001b[0m\n",
       "    └── \u001b[1;32m🤖 Agent: \u001b[0m\u001b[32mStrategic Resource Allocator\u001b[0m\n",
       "        \n",
       "        \u001b[37m    Status: \u001b[0m\u001b[1;32m✅ Completed\u001b[0m\n"
      ]
     },
     "metadata": {},
     "output_type": "display_data"
    },
    {
     "data": {
      "text/html": [
       "<pre style=\"white-space:pre;overflow-x:auto;line-height:normal;font-family:Menlo,'DejaVu Sans Mono',consolas,'Courier New',monospace\">\n",
       "</pre>\n"
      ],
      "text/plain": [
       "\n"
      ]
     },
     "metadata": {},
     "output_type": "display_data"
    },
    {
     "data": {
      "text/html": [
       "<pre style=\"white-space:pre;overflow-x:auto;line-height:normal;font-family:Menlo,'DejaVu Sans Mono',consolas,'Courier New',monospace\"><span style=\"color: #008080; text-decoration-color: #008080; font-weight: bold\">🚀 Crew: crew</span>\n",
       "├── <span style=\"color: #008000; text-decoration-color: #008000; font-weight: bold\">📋 Task: c37efcb3-a1ca-4094-a01b-d006631c3a41</span>\n",
       "│   <span style=\"color: #c0c0c0; text-decoration-color: #c0c0c0\">   Assigned to: </span><span style=\"color: #008000; text-decoration-color: #008000\">The Ultimate Project Planner</span>\n",
       "│   \n",
       "│   <span style=\"color: #c0c0c0; text-decoration-color: #c0c0c0\">   Status: </span><span style=\"color: #008000; text-decoration-color: #008000; font-weight: bold\">✅ Completed</span>\n",
       "│   └── <span style=\"color: #008000; text-decoration-color: #008000; font-weight: bold\">🤖 Agent: </span><span style=\"color: #008000; text-decoration-color: #008000\">The Ultimate Project Planner</span>\n",
       "│       \n",
       "│       <span style=\"color: #c0c0c0; text-decoration-color: #c0c0c0\">    Status: </span><span style=\"color: #008000; text-decoration-color: #008000; font-weight: bold\">✅ Completed</span>\n",
       "├── <span style=\"color: #008000; text-decoration-color: #008000; font-weight: bold\">📋 Task: 62d06aa6-8cf3-429c-b43d-295c807b682c</span>\n",
       "│   <span style=\"color: #c0c0c0; text-decoration-color: #c0c0c0\">   Assigned to: </span><span style=\"color: #008000; text-decoration-color: #008000\">Expert Estimation Analyst</span>\n",
       "│   \n",
       "│   <span style=\"color: #c0c0c0; text-decoration-color: #c0c0c0\">   Status: </span><span style=\"color: #008000; text-decoration-color: #008000; font-weight: bold\">✅ Completed</span>\n",
       "│   └── <span style=\"color: #008000; text-decoration-color: #008000; font-weight: bold\">🤖 Agent: </span><span style=\"color: #008000; text-decoration-color: #008000\">Expert Estimation Analyst</span>\n",
       "│       \n",
       "│       <span style=\"color: #c0c0c0; text-decoration-color: #c0c0c0\">    Status: </span><span style=\"color: #008000; text-decoration-color: #008000; font-weight: bold\">✅ Completed</span>\n",
       "└── <span style=\"color: #008000; text-decoration-color: #008000; font-weight: bold\">📋 Task: 135a1272-9964-49ac-908b-ec90af07ef68</span>\n",
       "    <span style=\"color: #c0c0c0; text-decoration-color: #c0c0c0\">   Assigned to: </span><span style=\"color: #008000; text-decoration-color: #008000\">Strategic Resource Allocator</span>\n",
       "    \n",
       "    <span style=\"color: #c0c0c0; text-decoration-color: #c0c0c0\">   Status: </span><span style=\"color: #008000; text-decoration-color: #008000; font-weight: bold\">✅ Completed</span>\n",
       "    └── <span style=\"color: #008000; text-decoration-color: #008000; font-weight: bold\">🤖 Agent: </span><span style=\"color: #008000; text-decoration-color: #008000\">Strategic Resource Allocator</span>\n",
       "        \n",
       "        <span style=\"color: #c0c0c0; text-decoration-color: #c0c0c0\">    Status: </span><span style=\"color: #008000; text-decoration-color: #008000; font-weight: bold\">✅ Completed</span>\n",
       "</pre>\n"
      ],
      "text/plain": [
       "\u001b[1;36m🚀 Crew: \u001b[0m\u001b[1;36mcrew\u001b[0m\n",
       "├── \u001b[1;32m📋 Task: c37efcb3-a1ca-4094-a01b-d006631c3a41\u001b[0m\n",
       "│   \u001b[37m   Assigned to: \u001b[0m\u001b[32mThe Ultimate Project Planner\u001b[0m\n",
       "│   \n",
       "│   \u001b[37m   Status: \u001b[0m\u001b[1;32m✅ Completed\u001b[0m\n",
       "│   └── \u001b[1;32m🤖 Agent: \u001b[0m\u001b[32mThe Ultimate Project Planner\u001b[0m\n",
       "│       \n",
       "│       \u001b[37m    Status: \u001b[0m\u001b[1;32m✅ Completed\u001b[0m\n",
       "├── \u001b[1;32m📋 Task: 62d06aa6-8cf3-429c-b43d-295c807b682c\u001b[0m\n",
       "│   \u001b[37m   Assigned to: \u001b[0m\u001b[32mExpert Estimation Analyst\u001b[0m\n",
       "│   \n",
       "│   \u001b[37m   Status: \u001b[0m\u001b[1;32m✅ Completed\u001b[0m\n",
       "│   └── \u001b[1;32m🤖 Agent: \u001b[0m\u001b[32mExpert Estimation Analyst\u001b[0m\n",
       "│       \n",
       "│       \u001b[37m    Status: \u001b[0m\u001b[1;32m✅ Completed\u001b[0m\n",
       "└── \u001b[1;32m📋 Task: 135a1272-9964-49ac-908b-ec90af07ef68\u001b[0m\n",
       "    \u001b[37m   Assigned to: \u001b[0m\u001b[32mStrategic Resource Allocator\u001b[0m\n",
       "    \n",
       "    \u001b[37m   Status: \u001b[0m\u001b[1;32m✅ Completed\u001b[0m\n",
       "    └── \u001b[1;32m🤖 Agent: \u001b[0m\u001b[32mStrategic Resource Allocator\u001b[0m\n",
       "        \n",
       "        \u001b[37m    Status: \u001b[0m\u001b[1;32m✅ Completed\u001b[0m\n"
      ]
     },
     "metadata": {},
     "output_type": "display_data"
    },
    {
     "data": {
      "text/html": [
       "<pre style=\"white-space:pre;overflow-x:auto;line-height:normal;font-family:Menlo,'DejaVu Sans Mono',consolas,'Courier New',monospace\"><span style=\"color: #008000; text-decoration-color: #008000\">╭──────────────────────────────────────────────── Task Completion ────────────────────────────────────────────────╮</span>\n",
       "<span style=\"color: #008000; text-decoration-color: #008000\">│</span>                                                                                                                 <span style=\"color: #008000; text-decoration-color: #008000\">│</span>\n",
       "<span style=\"color: #008000; text-decoration-color: #008000\">│</span>  <span style=\"color: #008000; text-decoration-color: #008000; font-weight: bold\">Task Completed</span>                                                                                                 <span style=\"color: #008000; text-decoration-color: #008000\">│</span>\n",
       "<span style=\"color: #008000; text-decoration-color: #008000\">│</span>  <span style=\"color: #c0c0c0; text-decoration-color: #c0c0c0\">Name: </span><span style=\"color: #008000; text-decoration-color: #008000\">135a1272-9964-49ac-908b-ec90af07ef68</span>                                                                     <span style=\"color: #008000; text-decoration-color: #008000\">│</span>\n",
       "<span style=\"color: #008000; text-decoration-color: #008000\">│</span>  <span style=\"color: #c0c0c0; text-decoration-color: #c0c0c0\">Agent: </span><span style=\"color: #008000; text-decoration-color: #008000\">Strategic Resource Allocator</span>                                                                            <span style=\"color: #008000; text-decoration-color: #008000\">│</span>\n",
       "<span style=\"color: #008000; text-decoration-color: #008000\">│</span>                                                                                                                 <span style=\"color: #008000; text-decoration-color: #008000\">│</span>\n",
       "<span style=\"color: #008000; text-decoration-color: #008000\">│</span>                                                                                                                 <span style=\"color: #008000; text-decoration-color: #008000\">│</span>\n",
       "<span style=\"color: #008000; text-decoration-color: #008000\">│</span>                                                                                                                 <span style=\"color: #008000; text-decoration-color: #008000\">│</span>\n",
       "<span style=\"color: #008000; text-decoration-color: #008000\">╰─────────────────────────────────────────────────────────────────────────────────────────────────────────────────╯</span>\n",
       "</pre>\n"
      ],
      "text/plain": [
       "\u001b[32m╭─\u001b[0m\u001b[32m───────────────────────────────────────────────\u001b[0m\u001b[32m Task Completion \u001b[0m\u001b[32m───────────────────────────────────────────────\u001b[0m\u001b[32m─╮\u001b[0m\n",
       "\u001b[32m│\u001b[0m                                                                                                                 \u001b[32m│\u001b[0m\n",
       "\u001b[32m│\u001b[0m  \u001b[1;32mTask Completed\u001b[0m                                                                                                 \u001b[32m│\u001b[0m\n",
       "\u001b[32m│\u001b[0m  \u001b[37mName: \u001b[0m\u001b[32m135a1272-9964-49ac-908b-ec90af07ef68\u001b[0m                                                                     \u001b[32m│\u001b[0m\n",
       "\u001b[32m│\u001b[0m  \u001b[37mAgent: \u001b[0m\u001b[32mStrategic Resource Allocator\u001b[0m                                                                            \u001b[32m│\u001b[0m\n",
       "\u001b[32m│\u001b[0m                                                                                                                 \u001b[32m│\u001b[0m\n",
       "\u001b[32m│\u001b[0m                                                                                                                 \u001b[32m│\u001b[0m\n",
       "\u001b[32m│\u001b[0m                                                                                                                 \u001b[32m│\u001b[0m\n",
       "\u001b[32m╰─────────────────────────────────────────────────────────────────────────────────────────────────────────────────╯\u001b[0m\n"
      ]
     },
     "metadata": {},
     "output_type": "display_data"
    },
    {
     "data": {
      "text/html": [
       "<pre style=\"white-space:pre;overflow-x:auto;line-height:normal;font-family:Menlo,'DejaVu Sans Mono',consolas,'Courier New',monospace\">\n",
       "</pre>\n"
      ],
      "text/plain": [
       "\n"
      ]
     },
     "metadata": {},
     "output_type": "display_data"
    },
    {
     "data": {
      "text/html": [
       "<pre style=\"white-space:pre;overflow-x:auto;line-height:normal;font-family:Menlo,'DejaVu Sans Mono',consolas,'Courier New',monospace\"><span style=\"color: #008000; text-decoration-color: #008000\">╭──────────────────────────────────────────────── Crew Completion ────────────────────────────────────────────────╮</span>\n",
       "<span style=\"color: #008000; text-decoration-color: #008000\">│</span>                                                                                                                 <span style=\"color: #008000; text-decoration-color: #008000\">│</span>\n",
       "<span style=\"color: #008000; text-decoration-color: #008000\">│</span>  <span style=\"color: #008000; text-decoration-color: #008000; font-weight: bold\">Crew Execution Completed</span>                                                                                       <span style=\"color: #008000; text-decoration-color: #008000\">│</span>\n",
       "<span style=\"color: #008000; text-decoration-color: #008000\">│</span>  <span style=\"color: #c0c0c0; text-decoration-color: #c0c0c0\">Name: </span><span style=\"color: #008000; text-decoration-color: #008000\">crew</span>                                                                                                     <span style=\"color: #008000; text-decoration-color: #008000\">│</span>\n",
       "<span style=\"color: #008000; text-decoration-color: #008000\">│</span>  <span style=\"color: #c0c0c0; text-decoration-color: #c0c0c0\">ID: </span><span style=\"color: #008000; text-decoration-color: #008000\">73644d4b-8f32-4014-9d1b-d75b1f3c267a</span>                                                                       <span style=\"color: #008000; text-decoration-color: #008000\">│</span>\n",
       "<span style=\"color: #008000; text-decoration-color: #008000\">│</span>                                                                                                                 <span style=\"color: #008000; text-decoration-color: #008000\">│</span>\n",
       "<span style=\"color: #008000; text-decoration-color: #008000\">│</span>                                                                                                                 <span style=\"color: #008000; text-decoration-color: #008000\">│</span>\n",
       "<span style=\"color: #008000; text-decoration-color: #008000\">╰─────────────────────────────────────────────────────────────────────────────────────────────────────────────────╯</span>\n",
       "</pre>\n"
      ],
      "text/plain": [
       "\u001b[32m╭─\u001b[0m\u001b[32m───────────────────────────────────────────────\u001b[0m\u001b[32m Crew Completion \u001b[0m\u001b[32m───────────────────────────────────────────────\u001b[0m\u001b[32m─╮\u001b[0m\n",
       "\u001b[32m│\u001b[0m                                                                                                                 \u001b[32m│\u001b[0m\n",
       "\u001b[32m│\u001b[0m  \u001b[1;32mCrew Execution Completed\u001b[0m                                                                                       \u001b[32m│\u001b[0m\n",
       "\u001b[32m│\u001b[0m  \u001b[37mName: \u001b[0m\u001b[32mcrew\u001b[0m                                                                                                     \u001b[32m│\u001b[0m\n",
       "\u001b[32m│\u001b[0m  \u001b[37mID: \u001b[0m\u001b[32m73644d4b-8f32-4014-9d1b-d75b1f3c267a\u001b[0m                                                                       \u001b[32m│\u001b[0m\n",
       "\u001b[32m│\u001b[0m                                                                                                                 \u001b[32m│\u001b[0m\n",
       "\u001b[32m│\u001b[0m                                                                                                                 \u001b[32m│\u001b[0m\n",
       "\u001b[32m╰─────────────────────────────────────────────────────────────────────────────────────────────────────────────────╯\u001b[0m\n"
      ]
     },
     "metadata": {},
     "output_type": "display_data"
    },
    {
     "data": {
      "text/html": [
       "<pre style=\"white-space:pre;overflow-x:auto;line-height:normal;font-family:Menlo,'DejaVu Sans Mono',consolas,'Courier New',monospace\">\n",
       "</pre>\n"
      ],
      "text/plain": [
       "\n"
      ]
     },
     "metadata": {},
     "output_type": "display_data"
    }
   ],
   "source": [
    "# The given Python dictionary\n",
    "inputs = {\n",
    "  'project_type': project,\n",
    "  'project_objectives': project_objectives,\n",
    "  'industry': industry,\n",
    "  'team_members': team_members,\n",
    "  'project_requirements': project_requirements\n",
    "}\n",
    "\n",
    "# Run the crew\n",
    "result = crew.kickoff(\n",
    "  inputs=inputs\n",
    ")"
   ]
  },
  {
   "cell_type": "code",
   "execution_count": 57,
   "id": "2e3ecee1",
   "metadata": {},
   "outputs": [
    {
     "name": "stderr",
     "output_type": "stream",
     "text": [
      "C:\\Users\\lenovo\\AppData\\Local\\Temp\\ipykernel_6128\\2853131943.py:1: PydanticDeprecatedSince20: The `dict` method is deprecated; use `model_dump` instead. Deprecated in Pydantic V2.0 to be removed in V3.0. See Pydantic V2 Migration Guide at https://errors.pydantic.dev/2.11/migration/\n",
      "  result.pydantic.dict()\n"
     ]
    },
    {
     "data": {
      "text/plain": [
       "{'tasks': [{'task_name': 'Project Kick-off Meeting',\n",
       "   'estimated_time_hours': 8.0,\n",
       "   'required_resources': ['John Doe']},\n",
       "  {'task_name': 'Competitor Analysis',\n",
       "   'estimated_time_hours': 16.0,\n",
       "   'required_resources': ['Bob Smith']},\n",
       "  {'task_name': 'Target Audience Research',\n",
       "   'estimated_time_hours': 16.0,\n",
       "   'required_resources': ['Bob Smith']},\n",
       "  {'task_name': 'Website Structure & Sitemap',\n",
       "   'estimated_time_hours': 24.0,\n",
       "   'required_resources': ['Bob Smith', 'John Doe']},\n",
       "  {'task_name': 'Wireframing',\n",
       "   'estimated_time_hours': 24.0,\n",
       "   'required_resources': ['Bob Smith']},\n",
       "  {'task_name': 'Design Concepts & Mockups',\n",
       "   'estimated_time_hours': 24.0,\n",
       "   'required_resources': ['Bob Smith']},\n",
       "  {'task_name': 'Client Review & Approval',\n",
       "   'estimated_time_hours': 16.0,\n",
       "   'required_resources': ['Bob Smith', 'John Doe']},\n",
       "  {'task_name': 'Front-end Development',\n",
       "   'estimated_time_hours': 80.0,\n",
       "   'required_resources': ['Jane Doe']},\n",
       "  {'task_name': 'Back-end Development',\n",
       "   'estimated_time_hours': 80.0,\n",
       "   'required_resources': ['Jane Doe']},\n",
       "  {'task_name': 'Content Integration',\n",
       "   'estimated_time_hours': 40.0,\n",
       "   'required_resources': ['John Doe', 'Bob Smith']},\n",
       "  {'task_name': 'Plugin & Integration Development',\n",
       "   'estimated_time_hours': 40.0,\n",
       "   'required_resources': ['Jane Doe']},\n",
       "  {'task_name': 'Usability Testing',\n",
       "   'estimated_time_hours': 24.0,\n",
       "   'required_resources': ['Alice Johnson', 'Bob Smith']},\n",
       "  {'task_name': 'Functional Testing',\n",
       "   'estimated_time_hours': 40.0,\n",
       "   'required_resources': ['Alice Johnson', 'Tom Brown']},\n",
       "  {'task_name': 'Security Testing',\n",
       "   'estimated_time_hours': 24.0,\n",
       "   'required_resources': ['Tom Brown']},\n",
       "  {'task_name': 'Performance Optimization',\n",
       "   'estimated_time_hours': 40.0,\n",
       "   'required_resources': ['Jane Doe', 'Tom Brown']},\n",
       "  {'task_name': 'Final Launch Review',\n",
       "   'estimated_time_hours': 16.0,\n",
       "   'required_resources': ['John Doe',\n",
       "    'Bob Smith',\n",
       "    'Jane Doe',\n",
       "    'Alice Johnson',\n",
       "    'Tom Brown']},\n",
       "  {'task_name': 'Website Launch',\n",
       "   'estimated_time_hours': 8.0,\n",
       "   'required_resources': ['John Doe', 'Jane Doe']}],\n",
       " 'milestones': [{'milestone_name': 'Planning & Design Complete',\n",
       "   'tasks': ['Project Kick-off Meeting',\n",
       "    'Competitor Analysis',\n",
       "    'Target Audience Research',\n",
       "    'Website Structure & Sitemap',\n",
       "    'Wireframing',\n",
       "    'Design Concepts & Mockups',\n",
       "    'Client Review & Approval']},\n",
       "  {'milestone_name': 'Development Complete',\n",
       "   'tasks': ['Front-end Development',\n",
       "    'Back-end Development',\n",
       "    'Content Integration',\n",
       "    'Plugin & Integration Development']},\n",
       "  {'milestone_name': 'Testing Complete',\n",
       "   'tasks': ['Usability Testing',\n",
       "    'Functional Testing',\n",
       "    'Security Testing',\n",
       "    'Performance Optimization']},\n",
       "  {'milestone_name': 'Website Launch',\n",
       "   'tasks': ['Final Launch Review', 'Website Launch']}]}"
      ]
     },
     "execution_count": 57,
     "metadata": {},
     "output_type": "execute_result"
    }
   ],
   "source": [
    "result.pydantic.dict()"
   ]
  },
  {
   "cell_type": "code",
   "execution_count": 58,
   "id": "eadef0db",
   "metadata": {},
   "outputs": [
    {
     "name": "stdout",
     "output_type": "stream",
     "text": [
      "Total costs: $0.0007\n"
     ]
    },
    {
     "name": "stderr",
     "output_type": "stream",
     "text": [
      "C:\\Users\\lenovo\\AppData\\Local\\Temp\\ipykernel_6128\\1225971828.py:7: PydanticDeprecatedSince20: The `dict` method is deprecated; use `model_dump` instead. Deprecated in Pydantic V2.0 to be removed in V3.0. See Pydantic V2 Migration Guide at https://errors.pydantic.dev/2.11/migration/\n",
      "  df_usage_metrics = pd.DataFrame([crew.usage_metrics.dict()])\n"
     ]
    },
    {
     "data": {
      "text/html": [
       "<div>\n",
       "<style scoped>\n",
       "    .dataframe tbody tr th:only-of-type {\n",
       "        vertical-align: middle;\n",
       "    }\n",
       "\n",
       "    .dataframe tbody tr th {\n",
       "        vertical-align: top;\n",
       "    }\n",
       "\n",
       "    .dataframe thead th {\n",
       "        text-align: right;\n",
       "    }\n",
       "</style>\n",
       "<table border=\"1\" class=\"dataframe\">\n",
       "  <thead>\n",
       "    <tr style=\"text-align: right;\">\n",
       "      <th></th>\n",
       "      <th>total_tokens</th>\n",
       "      <th>prompt_tokens</th>\n",
       "      <th>cached_prompt_tokens</th>\n",
       "      <th>completion_tokens</th>\n",
       "      <th>successful_requests</th>\n",
       "    </tr>\n",
       "  </thead>\n",
       "  <tbody>\n",
       "    <tr>\n",
       "      <th>0</th>\n",
       "      <td>9094</td>\n",
       "      <td>5229</td>\n",
       "      <td>0</td>\n",
       "      <td>3865</td>\n",
       "      <td>3</td>\n",
       "    </tr>\n",
       "  </tbody>\n",
       "</table>\n",
       "</div>"
      ],
      "text/plain": [
       "   total_tokens  prompt_tokens  cached_prompt_tokens  completion_tokens  \\\n",
       "0          9094           5229                     0               3865   \n",
       "\n",
       "   successful_requests  \n",
       "0                    3  "
      ]
     },
     "execution_count": 58,
     "metadata": {},
     "output_type": "execute_result"
    }
   ],
   "source": [
    "import pandas as pd\n",
    "\n",
    "costs = 0.08* (crew.usage_metrics.prompt_tokens + crew.usage_metrics.completion_tokens) / 1_000_000\n",
    "print(f\"Total costs: ${costs:.4f}\")\n",
    "\n",
    "# Convert UsageMetrics instance to a DataFrame\n",
    "df_usage_metrics = pd.DataFrame([crew.usage_metrics.dict()])\n",
    "df_usage_metrics"
   ]
  },
  {
   "cell_type": "code",
   "execution_count": 59,
   "id": "90e66021",
   "metadata": {},
   "outputs": [
    {
     "data": {
      "text/html": [
       "<style type=\"text/css\">\n",
       "#T_7df0d th {\n",
       "  font-size: 120%;\n",
       "}\n",
       "#T_7df0d  td {\n",
       "  font-size: 120%;\n",
       "}\n",
       "</style>\n",
       "<table id=\"T_7df0d\" border=\"1\">\n",
       "  <caption>Task Details</caption>\n",
       "  <thead>\n",
       "    <tr>\n",
       "      <th class=\"blank level0\" >&nbsp;</th>\n",
       "      <th id=\"T_7df0d_level0_col0\" class=\"col_heading level0 col0\" >task_name</th>\n",
       "      <th id=\"T_7df0d_level0_col1\" class=\"col_heading level0 col1\" >estimated_time_hours</th>\n",
       "      <th id=\"T_7df0d_level0_col2\" class=\"col_heading level0 col2\" >required_resources</th>\n",
       "    </tr>\n",
       "  </thead>\n",
       "  <tbody>\n",
       "    <tr>\n",
       "      <th id=\"T_7df0d_level0_row0\" class=\"row_heading level0 row0\" >0</th>\n",
       "      <td id=\"T_7df0d_row0_col0\" class=\"data row0 col0\" >Project Kick-off Meeting</td>\n",
       "      <td id=\"T_7df0d_row0_col1\" class=\"data row0 col1\" >8.000000</td>\n",
       "      <td id=\"T_7df0d_row0_col2\" class=\"data row0 col2\" >['John Doe']</td>\n",
       "    </tr>\n",
       "    <tr>\n",
       "      <th id=\"T_7df0d_level0_row1\" class=\"row_heading level0 row1\" >1</th>\n",
       "      <td id=\"T_7df0d_row1_col0\" class=\"data row1 col0\" >Competitor Analysis</td>\n",
       "      <td id=\"T_7df0d_row1_col1\" class=\"data row1 col1\" >16.000000</td>\n",
       "      <td id=\"T_7df0d_row1_col2\" class=\"data row1 col2\" >['Bob Smith']</td>\n",
       "    </tr>\n",
       "    <tr>\n",
       "      <th id=\"T_7df0d_level0_row2\" class=\"row_heading level0 row2\" >2</th>\n",
       "      <td id=\"T_7df0d_row2_col0\" class=\"data row2 col0\" >Target Audience Research</td>\n",
       "      <td id=\"T_7df0d_row2_col1\" class=\"data row2 col1\" >16.000000</td>\n",
       "      <td id=\"T_7df0d_row2_col2\" class=\"data row2 col2\" >['Bob Smith']</td>\n",
       "    </tr>\n",
       "    <tr>\n",
       "      <th id=\"T_7df0d_level0_row3\" class=\"row_heading level0 row3\" >3</th>\n",
       "      <td id=\"T_7df0d_row3_col0\" class=\"data row3 col0\" >Website Structure & Sitemap</td>\n",
       "      <td id=\"T_7df0d_row3_col1\" class=\"data row3 col1\" >24.000000</td>\n",
       "      <td id=\"T_7df0d_row3_col2\" class=\"data row3 col2\" >['Bob Smith', 'John Doe']</td>\n",
       "    </tr>\n",
       "    <tr>\n",
       "      <th id=\"T_7df0d_level0_row4\" class=\"row_heading level0 row4\" >4</th>\n",
       "      <td id=\"T_7df0d_row4_col0\" class=\"data row4 col0\" >Wireframing</td>\n",
       "      <td id=\"T_7df0d_row4_col1\" class=\"data row4 col1\" >24.000000</td>\n",
       "      <td id=\"T_7df0d_row4_col2\" class=\"data row4 col2\" >['Bob Smith']</td>\n",
       "    </tr>\n",
       "    <tr>\n",
       "      <th id=\"T_7df0d_level0_row5\" class=\"row_heading level0 row5\" >5</th>\n",
       "      <td id=\"T_7df0d_row5_col0\" class=\"data row5 col0\" >Design Concepts & Mockups</td>\n",
       "      <td id=\"T_7df0d_row5_col1\" class=\"data row5 col1\" >24.000000</td>\n",
       "      <td id=\"T_7df0d_row5_col2\" class=\"data row5 col2\" >['Bob Smith']</td>\n",
       "    </tr>\n",
       "    <tr>\n",
       "      <th id=\"T_7df0d_level0_row6\" class=\"row_heading level0 row6\" >6</th>\n",
       "      <td id=\"T_7df0d_row6_col0\" class=\"data row6 col0\" >Client Review & Approval</td>\n",
       "      <td id=\"T_7df0d_row6_col1\" class=\"data row6 col1\" >16.000000</td>\n",
       "      <td id=\"T_7df0d_row6_col2\" class=\"data row6 col2\" >['Bob Smith', 'John Doe']</td>\n",
       "    </tr>\n",
       "    <tr>\n",
       "      <th id=\"T_7df0d_level0_row7\" class=\"row_heading level0 row7\" >7</th>\n",
       "      <td id=\"T_7df0d_row7_col0\" class=\"data row7 col0\" >Front-end Development</td>\n",
       "      <td id=\"T_7df0d_row7_col1\" class=\"data row7 col1\" >80.000000</td>\n",
       "      <td id=\"T_7df0d_row7_col2\" class=\"data row7 col2\" >['Jane Doe']</td>\n",
       "    </tr>\n",
       "    <tr>\n",
       "      <th id=\"T_7df0d_level0_row8\" class=\"row_heading level0 row8\" >8</th>\n",
       "      <td id=\"T_7df0d_row8_col0\" class=\"data row8 col0\" >Back-end Development</td>\n",
       "      <td id=\"T_7df0d_row8_col1\" class=\"data row8 col1\" >80.000000</td>\n",
       "      <td id=\"T_7df0d_row8_col2\" class=\"data row8 col2\" >['Jane Doe']</td>\n",
       "    </tr>\n",
       "    <tr>\n",
       "      <th id=\"T_7df0d_level0_row9\" class=\"row_heading level0 row9\" >9</th>\n",
       "      <td id=\"T_7df0d_row9_col0\" class=\"data row9 col0\" >Content Integration</td>\n",
       "      <td id=\"T_7df0d_row9_col1\" class=\"data row9 col1\" >40.000000</td>\n",
       "      <td id=\"T_7df0d_row9_col2\" class=\"data row9 col2\" >['John Doe', 'Bob Smith']</td>\n",
       "    </tr>\n",
       "    <tr>\n",
       "      <th id=\"T_7df0d_level0_row10\" class=\"row_heading level0 row10\" >10</th>\n",
       "      <td id=\"T_7df0d_row10_col0\" class=\"data row10 col0\" >Plugin & Integration Development</td>\n",
       "      <td id=\"T_7df0d_row10_col1\" class=\"data row10 col1\" >40.000000</td>\n",
       "      <td id=\"T_7df0d_row10_col2\" class=\"data row10 col2\" >['Jane Doe']</td>\n",
       "    </tr>\n",
       "    <tr>\n",
       "      <th id=\"T_7df0d_level0_row11\" class=\"row_heading level0 row11\" >11</th>\n",
       "      <td id=\"T_7df0d_row11_col0\" class=\"data row11 col0\" >Usability Testing</td>\n",
       "      <td id=\"T_7df0d_row11_col1\" class=\"data row11 col1\" >24.000000</td>\n",
       "      <td id=\"T_7df0d_row11_col2\" class=\"data row11 col2\" >['Alice Johnson', 'Bob Smith']</td>\n",
       "    </tr>\n",
       "    <tr>\n",
       "      <th id=\"T_7df0d_level0_row12\" class=\"row_heading level0 row12\" >12</th>\n",
       "      <td id=\"T_7df0d_row12_col0\" class=\"data row12 col0\" >Functional Testing</td>\n",
       "      <td id=\"T_7df0d_row12_col1\" class=\"data row12 col1\" >40.000000</td>\n",
       "      <td id=\"T_7df0d_row12_col2\" class=\"data row12 col2\" >['Alice Johnson', 'Tom Brown']</td>\n",
       "    </tr>\n",
       "    <tr>\n",
       "      <th id=\"T_7df0d_level0_row13\" class=\"row_heading level0 row13\" >13</th>\n",
       "      <td id=\"T_7df0d_row13_col0\" class=\"data row13 col0\" >Security Testing</td>\n",
       "      <td id=\"T_7df0d_row13_col1\" class=\"data row13 col1\" >24.000000</td>\n",
       "      <td id=\"T_7df0d_row13_col2\" class=\"data row13 col2\" >['Tom Brown']</td>\n",
       "    </tr>\n",
       "    <tr>\n",
       "      <th id=\"T_7df0d_level0_row14\" class=\"row_heading level0 row14\" >14</th>\n",
       "      <td id=\"T_7df0d_row14_col0\" class=\"data row14 col0\" >Performance Optimization</td>\n",
       "      <td id=\"T_7df0d_row14_col1\" class=\"data row14 col1\" >40.000000</td>\n",
       "      <td id=\"T_7df0d_row14_col2\" class=\"data row14 col2\" >['Jane Doe', 'Tom Brown']</td>\n",
       "    </tr>\n",
       "    <tr>\n",
       "      <th id=\"T_7df0d_level0_row15\" class=\"row_heading level0 row15\" >15</th>\n",
       "      <td id=\"T_7df0d_row15_col0\" class=\"data row15 col0\" >Final Launch Review</td>\n",
       "      <td id=\"T_7df0d_row15_col1\" class=\"data row15 col1\" >16.000000</td>\n",
       "      <td id=\"T_7df0d_row15_col2\" class=\"data row15 col2\" >['John Doe', 'Bob Smith', 'Jane Doe', 'Alice Johnson', 'Tom Brown']</td>\n",
       "    </tr>\n",
       "    <tr>\n",
       "      <th id=\"T_7df0d_level0_row16\" class=\"row_heading level0 row16\" >16</th>\n",
       "      <td id=\"T_7df0d_row16_col0\" class=\"data row16 col0\" >Website Launch</td>\n",
       "      <td id=\"T_7df0d_row16_col1\" class=\"data row16 col1\" >8.000000</td>\n",
       "      <td id=\"T_7df0d_row16_col2\" class=\"data row16 col2\" >['John Doe', 'Jane Doe']</td>\n",
       "    </tr>\n",
       "  </tbody>\n",
       "</table>\n"
      ],
      "text/plain": [
       "<pandas.io.formats.style.Styler at 0x1feaa6b2f10>"
      ]
     },
     "execution_count": 59,
     "metadata": {},
     "output_type": "execute_result"
    }
   ],
   "source": [
    "tasks = result.pydantic.model_dump()['tasks']\n",
    "df_tasks = pd.DataFrame(tasks)\n",
    "\n",
    "# Display the DataFrame as an HTML table\n",
    "df_tasks.style.set_table_attributes('border=\"1\"').set_caption(\"Task Details\").set_table_styles(\n",
    "    [{'selector': 'th, td', 'props': [('font-size', '120%')]}]\n",
    ")"
   ]
  },
  {
   "cell_type": "code",
   "execution_count": 60,
   "id": "0a22bdfe",
   "metadata": {},
   "outputs": [
    {
     "data": {
      "text/html": [
       "<style type=\"text/css\">\n",
       "#T_5793d th {\n",
       "  font-size: 120%;\n",
       "}\n",
       "#T_5793d  td {\n",
       "  font-size: 120%;\n",
       "}\n",
       "</style>\n",
       "<table id=\"T_5793d\" border=\"1\">\n",
       "  <caption>Task Details</caption>\n",
       "  <thead>\n",
       "    <tr>\n",
       "      <th class=\"blank level0\" >&nbsp;</th>\n",
       "      <th id=\"T_5793d_level0_col0\" class=\"col_heading level0 col0\" >milestone_name</th>\n",
       "      <th id=\"T_5793d_level0_col1\" class=\"col_heading level0 col1\" >tasks</th>\n",
       "    </tr>\n",
       "  </thead>\n",
       "  <tbody>\n",
       "    <tr>\n",
       "      <th id=\"T_5793d_level0_row0\" class=\"row_heading level0 row0\" >0</th>\n",
       "      <td id=\"T_5793d_row0_col0\" class=\"data row0 col0\" >Planning & Design Complete</td>\n",
       "      <td id=\"T_5793d_row0_col1\" class=\"data row0 col1\" >['Project Kick-off Meeting', 'Competitor Analysis', 'Target Audience Research', 'Website Structure & Sitemap', 'Wireframing', 'Design Concepts & Mockups', 'Client Review & Approval']</td>\n",
       "    </tr>\n",
       "    <tr>\n",
       "      <th id=\"T_5793d_level0_row1\" class=\"row_heading level0 row1\" >1</th>\n",
       "      <td id=\"T_5793d_row1_col0\" class=\"data row1 col0\" >Development Complete</td>\n",
       "      <td id=\"T_5793d_row1_col1\" class=\"data row1 col1\" >['Front-end Development', 'Back-end Development', 'Content Integration', 'Plugin & Integration Development']</td>\n",
       "    </tr>\n",
       "    <tr>\n",
       "      <th id=\"T_5793d_level0_row2\" class=\"row_heading level0 row2\" >2</th>\n",
       "      <td id=\"T_5793d_row2_col0\" class=\"data row2 col0\" >Testing Complete</td>\n",
       "      <td id=\"T_5793d_row2_col1\" class=\"data row2 col1\" >['Usability Testing', 'Functional Testing', 'Security Testing', 'Performance Optimization']</td>\n",
       "    </tr>\n",
       "    <tr>\n",
       "      <th id=\"T_5793d_level0_row3\" class=\"row_heading level0 row3\" >3</th>\n",
       "      <td id=\"T_5793d_row3_col0\" class=\"data row3 col0\" >Website Launch</td>\n",
       "      <td id=\"T_5793d_row3_col1\" class=\"data row3 col1\" >['Final Launch Review', 'Website Launch']</td>\n",
       "    </tr>\n",
       "  </tbody>\n",
       "</table>\n"
      ],
      "text/plain": [
       "<pandas.io.formats.style.Styler at 0x1feaa6a55d0>"
      ]
     },
     "execution_count": 60,
     "metadata": {},
     "output_type": "execute_result"
    }
   ],
   "source": [
    "milestones = result.pydantic.model_dump()['milestones']\n",
    "df_milestones = pd.DataFrame(milestones)\n",
    "\n",
    "# Display the DataFrame as an HTML table\n",
    "df_milestones.style.set_table_attributes('border=\"1\"').set_caption(\"Task Details\").set_table_styles(\n",
    "    [{'selector': 'th, td', 'props': [('font-size', '120%')]}]\n",
    ")"
   ]
  },
  {
   "cell_type": "code",
   "execution_count": null,
   "id": "4019836f",
   "metadata": {},
   "outputs": [],
   "source": []
  },
  {
   "cell_type": "code",
   "execution_count": null,
   "id": "a4ee1203",
   "metadata": {},
   "outputs": [],
   "source": []
  },
  {
   "cell_type": "code",
   "execution_count": null,
   "id": "b8582abe",
   "metadata": {},
   "outputs": [],
   "source": []
  },
  {
   "cell_type": "code",
   "execution_count": null,
   "id": "fac39c37",
   "metadata": {},
   "outputs": [],
   "source": []
  },
  {
   "cell_type": "code",
   "execution_count": null,
   "id": "ca8f360a",
   "metadata": {},
   "outputs": [],
   "source": []
  },
  {
   "cell_type": "code",
   "execution_count": null,
   "id": "abd89306",
   "metadata": {},
   "outputs": [],
   "source": []
  },
  {
   "cell_type": "code",
   "execution_count": null,
   "id": "bcbf266f",
   "metadata": {},
   "outputs": [],
   "source": []
  },
  {
   "cell_type": "code",
   "execution_count": null,
   "id": "bbf9fbf9",
   "metadata": {},
   "outputs": [],
   "source": []
  },
  {
   "cell_type": "code",
   "execution_count": null,
   "id": "66e9362b",
   "metadata": {},
   "outputs": [],
   "source": []
  },
  {
   "cell_type": "code",
   "execution_count": null,
   "id": "94345536",
   "metadata": {},
   "outputs": [],
   "source": []
  },
  {
   "cell_type": "code",
   "execution_count": null,
   "id": "f3cc59e5",
   "metadata": {},
   "outputs": [],
   "source": []
  },
  {
   "cell_type": "code",
   "execution_count": null,
   "id": "6fcab656",
   "metadata": {},
   "outputs": [],
   "source": []
  },
  {
   "cell_type": "code",
   "execution_count": null,
   "id": "3ce4724b",
   "metadata": {},
   "outputs": [],
   "source": []
  },
  {
   "cell_type": "code",
   "execution_count": null,
   "id": "586b5b3c",
   "metadata": {},
   "outputs": [],
   "source": []
  },
  {
   "cell_type": "code",
   "execution_count": null,
   "id": "06be6012",
   "metadata": {},
   "outputs": [],
   "source": []
  },
  {
   "cell_type": "code",
   "execution_count": null,
   "id": "3bb2f8a2",
   "metadata": {},
   "outputs": [],
   "source": []
  },
  {
   "cell_type": "code",
   "execution_count": null,
   "id": "432081eb",
   "metadata": {},
   "outputs": [],
   "source": []
  },
  {
   "cell_type": "code",
   "execution_count": null,
   "id": "1b1b4f64",
   "metadata": {},
   "outputs": [],
   "source": []
  },
  {
   "cell_type": "code",
   "execution_count": null,
   "id": "3e5dce25",
   "metadata": {},
   "outputs": [],
   "source": []
  }
 ],
 "metadata": {
  "kernelspec": {
   "display_name": ".venv",
   "language": "python",
   "name": "python3"
  },
  "language_info": {
   "codemirror_mode": {
    "name": "ipython",
    "version": 3
   },
   "file_extension": ".py",
   "mimetype": "text/x-python",
   "name": "python",
   "nbconvert_exporter": "python",
   "pygments_lexer": "ipython3",
   "version": "3.11.9"
  }
 },
 "nbformat": 4,
 "nbformat_minor": 5
}
